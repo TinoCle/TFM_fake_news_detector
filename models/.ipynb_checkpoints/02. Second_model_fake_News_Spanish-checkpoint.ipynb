{
 "cells": [
  {
   "cell_type": "markdown",
   "metadata": {},
   "source": [
    "# Exploratory Data Analysis"
   ]
  },
  {
   "cell_type": "markdown",
   "metadata": {},
   "source": [
    "## Load the datasets\n",
    "\n",
    "1) Unify train dataset with test dataset\n",
    "\n",
    "2) Shuffle it\n",
    "\n",
    "3) Explore it"
   ]
  },
  {
   "cell_type": "code",
   "execution_count": 14,
   "metadata": {},
   "outputs": [],
   "source": [
    "import pandas as pd\n",
    "\n",
    "df_train = pd.read_excel(\"Corpus_spanish_train.xlsx\", index_col = 0)\n",
    "df_test = pd.read_excel('Corpus_spanish_test.xlsx', index_col = 0)\n",
    "\n",
    "df_final = pd.concat([df_train, df_test])\n",
    "\n",
    "df = df_final.sample(frac = 1)"
   ]
  },
  {
   "cell_type": "code",
   "execution_count": 15,
   "metadata": {},
   "outputs": [
    {
     "name": "stdout",
     "output_type": "stream",
     "text": [
      "<class 'pandas.core.frame.DataFrame'>\n",
      "Int64Index: 971 entries, 64 to 169\n",
      "Data columns (total 6 columns):\n",
      "Category    971 non-null object\n",
      "Topic       971 non-null object\n",
      "Source      971 non-null object\n",
      "Headline    971 non-null object\n",
      "Text        971 non-null object\n",
      "Link        971 non-null object\n",
      "dtypes: object(6)\n",
      "memory usage: 53.1+ KB\n"
     ]
    }
   ],
   "source": [
    "df.info()"
   ]
  },
  {
   "cell_type": "code",
   "execution_count": 16,
   "metadata": {},
   "outputs": [
    {
     "data": {
      "text/html": [
       "<div>\n",
       "<style scoped>\n",
       "    .dataframe tbody tr th:only-of-type {\n",
       "        vertical-align: middle;\n",
       "    }\n",
       "\n",
       "    .dataframe tbody tr th {\n",
       "        vertical-align: top;\n",
       "    }\n",
       "\n",
       "    .dataframe thead th {\n",
       "        text-align: right;\n",
       "    }\n",
       "</style>\n",
       "<table border=\"1\" class=\"dataframe\">\n",
       "  <thead>\n",
       "    <tr style=\"text-align: right;\">\n",
       "      <th></th>\n",
       "      <th>Category</th>\n",
       "      <th>Topic</th>\n",
       "      <th>Source</th>\n",
       "      <th>Headline</th>\n",
       "      <th>Text</th>\n",
       "      <th>Link</th>\n",
       "    </tr>\n",
       "    <tr>\n",
       "      <th>Id</th>\n",
       "      <th></th>\n",
       "      <th></th>\n",
       "      <th></th>\n",
       "      <th></th>\n",
       "      <th></th>\n",
       "      <th></th>\n",
       "    </tr>\n",
       "  </thead>\n",
       "  <tbody>\n",
       "    <tr>\n",
       "      <th>64</th>\n",
       "      <td>True</td>\n",
       "      <td>Society</td>\n",
       "      <td>Quien</td>\n",
       "      <td>Como nunca, Peña Nieto felicita a su hijo Dieg...</td>\n",
       "      <td>Como nunca, Peña Nieto felicita a su hijo Dieg...</td>\n",
       "      <td>https://www.quien.com/politica/2017/06/26/como...</td>\n",
       "    </tr>\n",
       "    <tr>\n",
       "      <th>171</th>\n",
       "      <td>Fake</td>\n",
       "      <td>Security</td>\n",
       "      <td>Censura 0</td>\n",
       "      <td>Asesinan a Esposa de \"El Chapo\": PGR asegura q...</td>\n",
       "      <td>Asesinan a Esposa de \"El Chapo\": PGR asegura q...</td>\n",
       "      <td>http://censura0.com/2018/04/03/asesinan-a-espo...</td>\n",
       "    </tr>\n",
       "    <tr>\n",
       "      <th>343</th>\n",
       "      <td>True</td>\n",
       "      <td>Sport</td>\n",
       "      <td>Excelsior</td>\n",
       "      <td>Brady no entrena con los Patriotas por lesión ...</td>\n",
       "      <td>Brady no entrena con los Patriotas por lesión ...</td>\n",
       "      <td>http://www.excelsior.com.mx/adrenalina/2018/01...</td>\n",
       "    </tr>\n",
       "    <tr>\n",
       "      <th>239</th>\n",
       "      <td>True</td>\n",
       "      <td>Politics</td>\n",
       "      <td>La Jornada</td>\n",
       "      <td>Ministro israelí pide matar a palestinos que a...</td>\n",
       "      <td>Ministro israelí pide matar a palestinos que a...</td>\n",
       "      <td>http://www.jornada.com.mx/ultimas/2018/06/05/m...</td>\n",
       "    </tr>\n",
       "    <tr>\n",
       "      <th>59</th>\n",
       "      <td>True</td>\n",
       "      <td>Society</td>\n",
       "      <td>Excelsior</td>\n",
       "      <td>Abuelas que cuidan a sus nietos pueden solicit...</td>\n",
       "      <td>Abuelas que cuidan a sus nietos pueden solicit...</td>\n",
       "      <td>http://www.excelsior.com.mx/comunidad/2017/04/...</td>\n",
       "    </tr>\n",
       "  </tbody>\n",
       "</table>\n",
       "</div>"
      ],
      "text/plain": [
       "    Category     Topic      Source  \\\n",
       "Id                                   \n",
       "64      True   Society       Quien   \n",
       "171     Fake  Security   Censura 0   \n",
       "343     True     Sport   Excelsior   \n",
       "239     True  Politics  La Jornada   \n",
       "59      True   Society   Excelsior   \n",
       "\n",
       "                                              Headline  \\\n",
       "Id                                                       \n",
       "64   Como nunca, Peña Nieto felicita a su hijo Dieg...   \n",
       "171  Asesinan a Esposa de \"El Chapo\": PGR asegura q...   \n",
       "343  Brady no entrena con los Patriotas por lesión ...   \n",
       "239  Ministro israelí pide matar a palestinos que a...   \n",
       "59   Abuelas que cuidan a sus nietos pueden solicit...   \n",
       "\n",
       "                                                  Text  \\\n",
       "Id                                                       \n",
       "64   Como nunca, Peña Nieto felicita a su hijo Dieg...   \n",
       "171  Asesinan a Esposa de \"El Chapo\": PGR asegura q...   \n",
       "343  Brady no entrena con los Patriotas por lesión ...   \n",
       "239  Ministro israelí pide matar a palestinos que a...   \n",
       "59   Abuelas que cuidan a sus nietos pueden solicit...   \n",
       "\n",
       "                                                  Link  \n",
       "Id                                                      \n",
       "64   https://www.quien.com/politica/2017/06/26/como...  \n",
       "171  http://censura0.com/2018/04/03/asesinan-a-espo...  \n",
       "343  http://www.excelsior.com.mx/adrenalina/2018/01...  \n",
       "239  http://www.jornada.com.mx/ultimas/2018/06/05/m...  \n",
       "59   http://www.excelsior.com.mx/comunidad/2017/04/...  "
      ]
     },
     "execution_count": 16,
     "metadata": {},
     "output_type": "execute_result"
    }
   ],
   "source": [
    "df.head()"
   ]
  },
  {
   "cell_type": "code",
   "execution_count": 17,
   "metadata": {},
   "outputs": [],
   "source": [
    "df_fake = df[df['Category'] == 'Fake']"
   ]
  },
  {
   "cell_type": "code",
   "execution_count": 18,
   "metadata": {},
   "outputs": [],
   "source": [
    "df_true = df[df['Category'] == 'True']"
   ]
  },
  {
   "cell_type": "code",
   "execution_count": 21,
   "metadata": {},
   "outputs": [
    {
     "data": {
      "text/plain": [
       "Source\n",
       "El país              67\n",
       "Excelsior            45\n",
       "El Universal         39\n",
       "Forbes               34\n",
       "EL UNIVERSAL         28\n",
       "                     ..\n",
       "Nippon                1\n",
       "SDP Noticias          1\n",
       "El UNIVERSAL          1\n",
       "La Parada Digital     1\n",
       "Nacion321             1\n",
       "Length: 82, dtype: int64"
      ]
     },
     "execution_count": 21,
     "metadata": {},
     "output_type": "execute_result"
    }
   ],
   "source": [
    "df_true.groupby('Source').size().sort_values(ascending = False)"
   ]
  },
  {
   "cell_type": "code",
   "execution_count": 20,
   "metadata": {},
   "outputs": [
    {
     "data": {
      "text/plain": [
       "Source\n",
       "El Dizque         135\n",
       "El Ruinaversal     94\n",
       "Hay noticia        39\n",
       "Censura 0          36\n",
       "La voz popular     22\n",
       "                 ... \n",
       "PAN tweet           1\n",
       "Parabólica          1\n",
       "PlayGroundMag       1\n",
       "Publimetro          1\n",
       "20 Minutos          1\n",
       "Length: 88, dtype: int64"
      ]
     },
     "execution_count": 20,
     "metadata": {},
     "output_type": "execute_result"
    }
   ],
   "source": [
    "df_fake.groupby('Source').size().sort_values(ascending = False)"
   ]
  },
  {
   "cell_type": "code",
   "execution_count": 22,
   "metadata": {},
   "outputs": [
    {
     "data": {
      "text/plain": [
       "Category\n",
       "Fake    480\n",
       "True    491\n",
       "dtype: int64"
      ]
     },
     "execution_count": 22,
     "metadata": {},
     "output_type": "execute_result"
    }
   ],
   "source": [
    "df_plot = df.groupby(\"Category\").size()\n",
    "df_plot"
   ]
  },
  {
   "cell_type": "code",
   "execution_count": 23,
   "metadata": {},
   "outputs": [
    {
     "data": {
      "text/plain": [
       "<matplotlib.axes._subplots.AxesSubplot at 0x7f2800ebe1d0>"
      ]
     },
     "execution_count": 23,
     "metadata": {},
     "output_type": "execute_result"
    },
    {
     "data": {
      "image/png": "[encoded data removed]",
      "text/plain": [
       "<Figure size 432x288 with 1 Axes>"
      ]
     },
     "metadata": {},
     "output_type": "display_data"
    }
   ],
   "source": [
    "df_plot.plot.bar()"
   ]
  },
  {
   "cell_type": "code",
   "execution_count": 24,
   "metadata": {},
   "outputs": [
    {
     "data": {
      "text/plain": [
       "Category    0\n",
       "Topic       0\n",
       "Source      0\n",
       "Headline    0\n",
       "Text        0\n",
       "Link        0\n",
       "dtype: int64"
      ]
     },
     "execution_count": 24,
     "metadata": {},
     "output_type": "execute_result"
    }
   ],
   "source": [
    "df.isnull().sum()"
   ]
  },
  {
   "cell_type": "markdown",
   "metadata": {},
   "source": [
    "#### Get the labels isolated"
   ]
  },
  {
   "cell_type": "code",
   "execution_count": 25,
   "metadata": {},
   "outputs": [
    {
     "data": {
      "text/plain": [
       "Id\n",
       "64     True\n",
       "171    Fake\n",
       "343    True\n",
       "239    True\n",
       "59     True\n",
       "Name: Category, dtype: object"
      ]
     },
     "execution_count": 25,
     "metadata": {},
     "output_type": "execute_result"
    }
   ],
   "source": [
    "labels = df.Category\n",
    "labels.head()"
   ]
  },
  {
   "cell_type": "markdown",
   "metadata": {},
   "source": [
    "## Modelling\n",
    "\n",
    "### CountVectorizer\n",
    "\n",
    "The CountVectorizer provides a simple way to both tokenize a collection of text documents and build a vocabulary of known words, but also to encode new documents using that vocabulary.\n",
    "\n",
    "You can use it as follows:\n",
    "\n",
    "Create an instance of the CountVectorizer class.\n",
    "Call the fit() function in order to learn a vocabulary from one or more documents.\n",
    "Call the transform() function on one or more documents as needed to encode each as a vector.\n",
    "An encoded vector is returned with a length of the entire vocabulary and an integer count for the number of times each word appeared in the document.\n",
    "\n",
    "### Passive Aggressive Classifier\n",
    "\n",
    "Passive Aggressive are considered algorithms for online learning. Their characteristic is that they remain passive when dealing with an outcome which has been correctly classified, and become aggressive when a miscalculation takes place, thus constantly self-updating and adjusting."
   ]
  },
  {
   "cell_type": "code",
   "execution_count": 26,
   "metadata": {},
   "outputs": [
    {
     "ename": "ModuleNotFoundError",
     "evalue": "No module named 'nltk'",
     "output_type": "error",
     "traceback": [
      "\u001b[0;31m---------------------------------------------------------------------------\u001b[0m",
      "\u001b[0;31mModuleNotFoundError\u001b[0m                       Traceback (most recent call last)",
      "\u001b[0;32m<ipython-input-26-3b02390c7677>\u001b[0m in \u001b[0;36m<module>\u001b[0;34m\u001b[0m\n\u001b[0;32m----> 1\u001b[0;31m \u001b[0;32mimport\u001b[0m \u001b[0mnltk\u001b[0m\u001b[0;34m\u001b[0m\u001b[0;34m\u001b[0m\u001b[0m\n\u001b[0m\u001b[1;32m      2\u001b[0m \u001b[0mnltk\u001b[0m\u001b[0;34m.\u001b[0m\u001b[0mdownload\u001b[0m\u001b[0;34m(\u001b[0m\u001b[0;34m)\u001b[0m\u001b[0;34m\u001b[0m\u001b[0;34m\u001b[0m\u001b[0m\n",
      "\u001b[0;31mModuleNotFoundError\u001b[0m: No module named 'nltk'"
     ]
    }
   ],
   "source": [
    "import nltk\n",
    "nltk.download()"
   ]
  },
  {
   "cell_type": "code",
   "execution_count": 48,
   "metadata": {},
   "outputs": [
    {
     "ename": "NameError",
     "evalue": "name 'nltk' is not defined",
     "output_type": "error",
     "traceback": [
      "\u001b[0;31m---------------------------------------------------------------------------\u001b[0m",
      "\u001b[0;31mNameError\u001b[0m                                 Traceback (most recent call last)",
      "\u001b[0;32m<ipython-input-48-9533fb74b295>\u001b[0m in \u001b[0;36m<module>\u001b[0;34m\u001b[0m\n\u001b[0;32m----> 1\u001b[0;31m \u001b[0mnltk\u001b[0m\u001b[0;34m.\u001b[0m\u001b[0mdownload\u001b[0m\u001b[0;34m(\u001b[0m\u001b[0;34m'punkt'\u001b[0m\u001b[0;34m)\u001b[0m\u001b[0;34m\u001b[0m\u001b[0;34m\u001b[0m\u001b[0m\n\u001b[0m",
      "\u001b[0;31mNameError\u001b[0m: name 'nltk' is not defined"
     ]
    }
   ],
   "source": [
    "nltk.download('punkt')"
   ]
  },
  {
   "cell_type": "code",
   "execution_count": 49,
   "metadata": {},
   "outputs": [
    {
     "ename": "ModuleNotFoundError",
     "evalue": "No module named 'sklearn'",
     "output_type": "error",
     "traceback": [
      "\u001b[0;31m---------------------------------------------------------------------------\u001b[0m",
      "\u001b[0;31mModuleNotFoundError\u001b[0m                       Traceback (most recent call last)",
      "\u001b[0;32m<ipython-input-49-90e7ccab2f22>\u001b[0m in \u001b[0;36m<module>\u001b[0;34m\u001b[0m\n\u001b[1;32m      1\u001b[0m \u001b[0;32mimport\u001b[0m \u001b[0mitertools\u001b[0m\u001b[0;34m\u001b[0m\u001b[0;34m\u001b[0m\u001b[0m\n\u001b[0;32m----> 2\u001b[0;31m \u001b[0;32mfrom\u001b[0m \u001b[0msklearn\u001b[0m\u001b[0;34m.\u001b[0m\u001b[0mmodel_selection\u001b[0m \u001b[0;32mimport\u001b[0m \u001b[0mtrain_test_split\u001b[0m\u001b[0;34m\u001b[0m\u001b[0;34m\u001b[0m\u001b[0m\n\u001b[0m\u001b[1;32m      3\u001b[0m \u001b[0;32mfrom\u001b[0m \u001b[0msklearn\u001b[0m\u001b[0;34m.\u001b[0m\u001b[0mfeature_extraction\u001b[0m\u001b[0;34m.\u001b[0m\u001b[0mtext\u001b[0m \u001b[0;32mimport\u001b[0m \u001b[0mTfidfVectorizer\u001b[0m\u001b[0;34m\u001b[0m\u001b[0;34m\u001b[0m\u001b[0m\n\u001b[1;32m      4\u001b[0m \u001b[0;32mfrom\u001b[0m \u001b[0msklearn\u001b[0m\u001b[0;34m.\u001b[0m\u001b[0mfeature_extraction\u001b[0m\u001b[0;34m.\u001b[0m\u001b[0mtext\u001b[0m \u001b[0;32mimport\u001b[0m \u001b[0mCountVectorizer\u001b[0m\u001b[0;34m\u001b[0m\u001b[0;34m\u001b[0m\u001b[0m\n\u001b[1;32m      5\u001b[0m \u001b[0;32mfrom\u001b[0m \u001b[0msklearn\u001b[0m\u001b[0;34m.\u001b[0m\u001b[0mlinear_model\u001b[0m \u001b[0;32mimport\u001b[0m \u001b[0mPassiveAggressiveClassifier\u001b[0m\u001b[0;34m\u001b[0m\u001b[0;34m\u001b[0m\u001b[0m\n",
      "\u001b[0;31mModuleNotFoundError\u001b[0m: No module named 'sklearn'"
     ]
    }
   ],
   "source": [
    "import itertools\n",
    "from sklearn.model_selection import train_test_split\n",
    "from sklearn.feature_extraction.text import TfidfVectorizer\n",
    "from sklearn.feature_extraction.text import CountVectorizer\n",
    "from sklearn.linear_model import PassiveAggressiveClassifier\n",
    "from sklearn.metrics import accuracy_score, confusion_matrix"
   ]
  },
  {
   "cell_type": "code",
   "execution_count": 50,
   "metadata": {},
   "outputs": [
    {
     "ename": "ModuleNotFoundError",
     "evalue": "No module named 'nltk'",
     "output_type": "error",
     "traceback": [
      "\u001b[0;31m---------------------------------------------------------------------------\u001b[0m",
      "\u001b[0;31mModuleNotFoundError\u001b[0m                       Traceback (most recent call last)",
      "\u001b[0;32m<ipython-input-50-463301254181>\u001b[0m in \u001b[0;36m<module>\u001b[0;34m\u001b[0m\n\u001b[0;32m----> 1\u001b[0;31m \u001b[0;32mimport\u001b[0m \u001b[0mnltk\u001b[0m\u001b[0;34m\u001b[0m\u001b[0;34m\u001b[0m\u001b[0m\n\u001b[0m\u001b[1;32m      2\u001b[0m \u001b[0;32mfrom\u001b[0m \u001b[0mnltk\u001b[0m\u001b[0;34m.\u001b[0m\u001b[0mcorpus\u001b[0m \u001b[0;32mimport\u001b[0m \u001b[0mstopwords\u001b[0m\u001b[0;34m\u001b[0m\u001b[0;34m\u001b[0m\u001b[0m\n\u001b[1;32m      3\u001b[0m \u001b[0;32mfrom\u001b[0m \u001b[0mnltk\u001b[0m \u001b[0;32mimport\u001b[0m \u001b[0mword_tokenize\u001b[0m\u001b[0;34m\u001b[0m\u001b[0;34m\u001b[0m\u001b[0m\n\u001b[1;32m      4\u001b[0m \u001b[0;32mfrom\u001b[0m \u001b[0mnltk\u001b[0m\u001b[0;34m.\u001b[0m\u001b[0mdata\u001b[0m \u001b[0;32mimport\u001b[0m \u001b[0mload\u001b[0m\u001b[0;34m\u001b[0m\u001b[0;34m\u001b[0m\u001b[0m\n\u001b[1;32m      5\u001b[0m \u001b[0;32mfrom\u001b[0m \u001b[0mnltk\u001b[0m\u001b[0;34m.\u001b[0m\u001b[0mstem\u001b[0m \u001b[0;32mimport\u001b[0m \u001b[0mSnowballStemmer\u001b[0m\u001b[0;34m\u001b[0m\u001b[0;34m\u001b[0m\u001b[0m\n",
      "\u001b[0;31mModuleNotFoundError\u001b[0m: No module named 'nltk'"
     ]
    }
   ],
   "source": [
    "import nltk  \n",
    "from nltk.corpus import stopwords  \n",
    "from nltk import word_tokenize  \n",
    "from nltk.data import load  \n",
    "from nltk.stem import SnowballStemmer  \n",
    "from string import punctuation"
   ]
  },
  {
   "cell_type": "code",
   "execution_count": 15,
   "metadata": {},
   "outputs": [],
   "source": [
    "#Stopword list to use\n",
    "spanish_stopwords = stopwords.words('spanish')"
   ]
  },
  {
   "cell_type": "code",
   "execution_count": 16,
   "metadata": {},
   "outputs": [],
   "source": [
    "#Spanish stemmer: Stemming is the process to transform any word into its rooting word, considering them as the same word\n",
    "stemmer = SnowballStemmer('spanish')\n",
    "\n",
    "def stem_tokens(tokens, stemmer):  \n",
    "    stemmed = []\n",
    "    for item in tokens:\n",
    "        stemmed.append(stemmer.stem(item))\n",
    "    return stemmed"
   ]
  },
  {
   "cell_type": "code",
   "execution_count": 17,
   "metadata": {},
   "outputs": [],
   "source": [
    "#Punctuation to remove\n",
    "non_words = list(punctuation)\n",
    "\n",
    "#Adding spanish punctuation\n",
    "non_words.extend(['¿', '¡'])  \n",
    "non_words.extend(map(str,range(10)))"
   ]
  },
  {
   "cell_type": "code",
   "execution_count": 34,
   "metadata": {},
   "outputs": [],
   "source": [
    "def tokenize(text):  \n",
    "    #Remove punctuation\n",
    "    text = ''.join([c for c in text if c not in non_words])\n",
    "    #Tokenize\n",
    "    tokens =  word_tokenize(text)\n",
    "\n",
    "    #Stem\n",
    "    try:\n",
    "        stems = stem_tokens(tokens, stemmer)\n",
    "    except Exception as e:\n",
    "        print(e)\n",
    "        print(text)\n",
    "        stems = ['']\n",
    "    return stems"
   ]
  },
  {
   "cell_type": "code",
   "execution_count": 35,
   "metadata": {},
   "outputs": [],
   "source": [
    "vectorizer = CountVectorizer(  \n",
    "                analyzer = 'word',\n",
    "                tokenizer = tokenize,\n",
    "                lowercase = True,\n",
    "                stop_words = spanish_stopwords)"
   ]
  },
  {
   "cell_type": "markdown",
   "metadata": {},
   "source": [
    "#### Split into training and test sets"
   ]
  },
  {
   "cell_type": "code",
   "execution_count": 42,
   "metadata": {},
   "outputs": [],
   "source": [
    "x_train,x_test,y_train,y_test = train_test_split(df['Text'], labels, test_size=0.3, random_state=7)"
   ]
  },
  {
   "cell_type": "code",
   "execution_count": 43,
   "metadata": {},
   "outputs": [
    {
     "name": "stdout",
     "output_type": "stream",
     "text": [
      "  (0, 8855)\t7\n",
      "  (0, 1238)\t4\n",
      "  (0, 2813)\t7\n",
      "  (0, 9046)\t2\n",
      "  (0, 7501)\t4\n",
      "  (0, 6272)\t5\n",
      "  (0, 68)\t5\n",
      "  (0, 4772)\t1\n",
      "  (0, 6986)\t2\n",
      "  (0, 1018)\t2\n",
      "  (0, 4240)\t1\n",
      "  (0, 6269)\t2\n",
      "  (0, 8497)\t1\n",
      "  (0, 4912)\t3\n",
      "  (0, 6037)\t2\n",
      "  (0, 5911)\t1\n",
      "  (0, 6462)\t1\n",
      "  (0, 10183)\t1\n",
      "  (0, 4844)\t1\n",
      "  (0, 1607)\t1\n",
      "  (0, 4986)\t1\n",
      "  (0, 9871)\t1\n",
      "  (0, 9190)\t2\n",
      "  (0, 8643)\t2\n",
      "  (0, 9487)\t1\n",
      "  :\t:\n",
      "  (472, 6096)\t1\n",
      "  (472, 947)\t1\n",
      "  (472, 358)\t1\n",
      "  (472, 1552)\t1\n",
      "  (472, 7587)\t1\n",
      "  (472, 7961)\t1\n",
      "  (472, 7633)\t2\n",
      "  (472, 147)\t1\n",
      "  (472, 10135)\t1\n",
      "  (472, 5040)\t1\n",
      "  (472, 5149)\t1\n",
      "  (472, 7726)\t1\n",
      "  (472, 9988)\t2\n",
      "  (472, 5091)\t2\n",
      "  (472, 6426)\t3\n",
      "  (472, 2898)\t2\n",
      "  (472, 6692)\t1\n",
      "  (472, 10495)\t1\n",
      "  (472, 9608)\t2\n",
      "  (472, 3058)\t1\n",
      "  (472, 2757)\t3\n",
      "  (472, 644)\t2\n",
      "  (472, 2022)\t2\n",
      "  (472, 7725)\t1\n",
      "  (472, 4681)\t1\n"
     ]
    }
   ],
   "source": [
    "c_train = vectorizer.fit_transform(x_train.values)\n",
    "c_test = vectorizer.transform(x_test.values)\n",
    "\n",
    "print(c_train)"
   ]
  },
  {
   "cell_type": "code",
   "execution_count": 38,
   "metadata": {},
   "outputs": [
    {
     "data": {
      "text/plain": [
       "(473, 1708)"
      ]
     },
     "execution_count": 38,
     "metadata": {},
     "output_type": "execute_result"
    }
   ],
   "source": [
    "c_train.shape"
   ]
  },
  {
   "cell_type": "code",
   "execution_count": 39,
   "metadata": {},
   "outputs": [
    {
     "data": {
      "text/plain": [
       "(203, 1708)"
      ]
     },
     "execution_count": 39,
     "metadata": {},
     "output_type": "execute_result"
    }
   ],
   "source": [
    "c_test.shape"
   ]
  },
  {
   "cell_type": "markdown",
   "metadata": {},
   "source": [
    "Initializes the Passive Aggressive Classifier"
   ]
  },
  {
   "cell_type": "code",
   "execution_count": 44,
   "metadata": {},
   "outputs": [
    {
     "data": {
      "text/plain": [
       "PassiveAggressiveClassifier(C=1.0, average=False, class_weight=None,\n",
       "                            early_stopping=False, fit_intercept=True,\n",
       "                            loss='hinge', max_iter=50, n_iter_no_change=5,\n",
       "                            n_jobs=None, random_state=None, shuffle=True,\n",
       "                            tol=0.001, validation_fraction=0.1, verbose=0,\n",
       "                            warm_start=False)"
      ]
     },
     "execution_count": 44,
     "metadata": {},
     "output_type": "execute_result"
    }
   ],
   "source": [
    "pa_classifier_1 = PassiveAggressiveClassifier(max_iter=50)\n",
    "pa_classifier_1.fit(c_train,y_train)"
   ]
  },
  {
   "cell_type": "code",
   "execution_count": 45,
   "metadata": {},
   "outputs": [
    {
     "name": "stdout",
     "output_type": "stream",
     "text": [
      "Accuracy: 73.4%\n"
     ]
    }
   ],
   "source": [
    "y_pred = pa_classifier_1.predict(c_test)\n",
    "score = accuracy_score(y_test,y_pred)\n",
    "print(f'Accuracy: {round(score*100,2)}%')"
   ]
  },
  {
   "cell_type": "code",
   "execution_count": 46,
   "metadata": {},
   "outputs": [
    {
     "name": "stdout",
     "output_type": "stream",
     "text": [
      "[[83 29]\n",
      " [25 66]]\n"
     ]
    }
   ],
   "source": [
    "cf_matrix = confusion_matrix(y_test,y_pred, labels=['Fake','True'])\n",
    "print(cf_matrix)"
   ]
  },
  {
   "cell_type": "code",
   "execution_count": 47,
   "metadata": {
    "scrolled": true
   },
   "outputs": [
    {
     "data": {
      "image/png": "[encoded data removed]",
      "text/plain": [
       "<Figure size 432x288 with 2 Axes>"
      ]
     },
     "metadata": {
      "needs_background": "light"
     },
     "output_type": "display_data"
    }
   ],
   "source": [
    "ax = sns.heatmap(cf_matrix/np.sum(cf_matrix), annot=True, \n",
    "            fmt='.2%', cmap='Blues')\n",
    "bottom, top = ax.get_ylim()\n",
    "ax.set_ylim(bottom + 0.5, top - 0.5)\n",
    "\n",
    "plt.ylabel('Actual')\n",
    "plt.xlabel('Predicted')\n",
    "plt.show()"
   ]
  },
  {
   "cell_type": "markdown",
   "metadata": {},
   "source": [
    "## TfidfVectorizer\n",
    "\n",
    "The TfidfVectorizer serves us to convert a collection of raw documents into a matrix of TF and IDF features.\n",
    "\n",
    "### IDF (Inverse Document Frequency)\n",
    "\n",
    "The IDF is used to calculate how many times a word appears on a set of documents.\n",
    "\n",
    "### TF (Term Frequency)\n",
    "\n",
    "The TF, unlike the IDF is the number of times a word appears in a single document."
   ]
  },
  {
   "cell_type": "markdown",
   "metadata": {},
   "source": [
    "#### Declare a TfidfVectorizer with stop words from English and we will allow up to a document frequency of 0.8\n",
    "#### Then fit and transform it to the dataset"
   ]
  },
  {
   "cell_type": "code",
   "execution_count": 87,
   "metadata": {},
   "outputs": [],
   "source": [
    "tfidf_vectorizer = TfidfVectorizer(stop_words='english', max_df=0.8)\n",
    "tfidf_train = tfidf_vectorizer.fit_transform(x_train) \n",
    "tfidf_test = tfidf_vectorizer.transform(x_test)"
   ]
  },
  {
   "cell_type": "code",
   "execution_count": 88,
   "metadata": {},
   "outputs": [
    {
     "name": "stdout",
     "output_type": "stream",
     "text": [
      "  (0, 56381)\t0.03622223988286098\n",
      "  (0, 16314)\t0.053492157980948106\n",
      "  (0, 19620)\t0.030351855107005405\n",
      "  (0, 52607)\t0.04266045446208797\n",
      "  (0, 14900)\t0.039165339742818085\n",
      "  (0, 53749)\t0.029756205182552464\n",
      "  (0, 15211)\t0.07772572986248194\n",
      "  (0, 61154)\t0.06726619958695557\n",
      "  (0, 59042)\t0.047893261248723944\n",
      "  (0, 42972)\t0.03152542343098286\n",
      "  (0, 54232)\t0.038673616329284524\n",
      "  (0, 59249)\t0.04106143649018827\n",
      "  (0, 28891)\t0.06514397995138038\n",
      "  (0, 41708)\t0.03983513460128018\n",
      "  (0, 50192)\t0.045331181477256094\n",
      "  (0, 44691)\t0.0318676439567658\n",
      "  (0, 11820)\t0.046381950858248124\n",
      "  (0, 7682)\t0.04137048243377956\n",
      "  (0, 50343)\t0.10196965191544219\n",
      "  (0, 48095)\t0.021092647294770877\n",
      "  (0, 17916)\t0.03674587236023286\n",
      "  (0, 46027)\t0.10236534701241509\n",
      "  (0, 16993)\t0.02775494464904786\n",
      "  (0, 55006)\t0.03368300200002207\n",
      "  (0, 51389)\t0.03397042876291898\n",
      "  :\t:\n",
      "  (5067, 32909)\t0.09429823872256275\n",
      "  (5067, 59221)\t0.11305513144362901\n",
      "  (5067, 14649)\t0.03772971846597005\n",
      "  (5067, 55827)\t0.2218263076177088\n",
      "  (5067, 10398)\t0.029198031075976353\n",
      "  (5067, 46158)\t0.037013973826002855\n",
      "  (5067, 60684)\t0.022935168393493133\n",
      "  (5067, 53139)\t0.025628375412833703\n",
      "  (5067, 14556)\t0.04989667741743244\n",
      "  (5067, 59249)\t0.09370008504693801\n",
      "  (5067, 48095)\t0.09626467139586602\n",
      "  (5067, 54706)\t0.02438296419332449\n",
      "  (5067, 54235)\t0.18013712617861882\n",
      "  (5067, 23649)\t0.11715980750719378\n",
      "  (5067, 60291)\t0.02511088091736429\n",
      "  (5067, 30025)\t0.07803429885512414\n",
      "  (5067, 4919)\t0.039597295646358985\n",
      "  (5067, 24041)\t0.031458613144788115\n",
      "  (5067, 51148)\t0.03759621365205542\n",
      "  (5067, 47648)\t0.051281746021764794\n",
      "  (5067, 40793)\t0.12848334208123888\n",
      "  (5067, 57811)\t0.028627812267104712\n",
      "  (5067, 51968)\t0.04662099560930727\n",
      "  (5067, 57236)\t0.05398142449766798\n",
      "  (5067, 24260)\t0.029565269989545447\n"
     ]
    }
   ],
   "source": [
    "print(tfidf_train)"
   ]
  },
  {
   "cell_type": "code",
   "execution_count": 89,
   "metadata": {},
   "outputs": [
    {
     "name": "stdout",
     "output_type": "stream",
     "text": [
      "  (0, 60731)\t0.05899712902382916\n",
      "  (0, 60684)\t0.033385466151529625\n",
      "  (0, 60271)\t0.04581143542258741\n",
      "  (0, 60261)\t0.07937859313949312\n",
      "  (0, 59116)\t0.10997273171965094\n",
      "  (0, 59036)\t0.08042180974421559\n",
      "  (0, 58654)\t0.07128159375531905\n",
      "  (0, 58335)\t0.0678398429566027\n",
      "  (0, 57086)\t0.12429244186413906\n",
      "  (0, 55170)\t0.20939665348422057\n",
      "  (0, 54706)\t0.035492943055135416\n",
      "  (0, 54394)\t0.10596727423829927\n",
      "  (0, 54238)\t0.06234899619642803\n",
      "  (0, 53749)\t0.04942070163765446\n",
      "  (0, 53518)\t0.117529167732626\n",
      "  (0, 53144)\t0.059982387365669215\n",
      "  (0, 52555)\t0.14065295472127948\n",
      "  (0, 52483)\t0.07360851972393109\n",
      "  (0, 51960)\t0.14065295472127948\n",
      "  (0, 51955)\t0.030414611451489323\n",
      "  (0, 51663)\t0.12057034351821985\n",
      "  (0, 51527)\t0.08134873077710283\n",
      "  (0, 51159)\t0.053278054236854326\n",
      "  (0, 51005)\t0.07360851972393109\n",
      "  (0, 50068)\t0.06481045119580665\n",
      "  :\t:\n",
      "  (1266, 16835)\t0.08080116269909657\n",
      "  (1266, 16385)\t0.0655727278454052\n",
      "  (1266, 15999)\t0.03279926109441314\n",
      "  (1266, 14890)\t0.05544599110567492\n",
      "  (1266, 13110)\t0.06697165573835866\n",
      "  (1266, 12885)\t0.05404331760933019\n",
      "  (1266, 12792)\t0.052054416965658004\n",
      "  (1266, 11999)\t0.09393931399068145\n",
      "  (1266, 11425)\t0.061215890922102396\n",
      "  (1266, 11275)\t0.03975222944194533\n",
      "  (1266, 10398)\t0.03928759838998747\n",
      "  (1266, 10334)\t0.052485971705883705\n",
      "  (1266, 9807)\t0.47248142728953435\n",
      "  (1266, 9082)\t0.06889577674672712\n",
      "  (1266, 8639)\t0.09860931312297018\n",
      "  (1266, 7209)\t0.05947909473390904\n",
      "  (1266, 7127)\t0.12219547760308587\n",
      "  (1266, 7021)\t0.09258263295223065\n",
      "  (1266, 6653)\t0.05532410291136702\n",
      "  (1266, 6288)\t0.04255750958351483\n",
      "  (1266, 5568)\t0.04067869750578144\n",
      "  (1266, 5070)\t0.08544954436342893\n",
      "  (1266, 4297)\t0.09929470490549547\n",
      "  (1266, 2510)\t0.04365670001733164\n",
      "  (1266, 2365)\t0.06671538208893119\n"
     ]
    }
   ],
   "source": [
    "print(tfidf_test)"
   ]
  },
  {
   "cell_type": "markdown",
   "metadata": {},
   "source": [
    "Initializes the Passive Aggressive Classifier"
   ]
  },
  {
   "cell_type": "code",
   "execution_count": 90,
   "metadata": {},
   "outputs": [
    {
     "data": {
      "text/plain": [
       "PassiveAggressiveClassifier(C=1.0, average=False, class_weight=None,\n",
       "                            early_stopping=False, fit_intercept=True,\n",
       "                            loss='hinge', max_iter=50, n_iter_no_change=5,\n",
       "                            n_jobs=None, random_state=None, shuffle=True,\n",
       "                            tol=0.001, validation_fraction=0.1, verbose=0,\n",
       "                            warm_start=False)"
      ]
     },
     "execution_count": 90,
     "metadata": {},
     "output_type": "execute_result"
    }
   ],
   "source": [
    "pa_classifier_2 = PassiveAggressiveClassifier(max_iter=50)\n",
    "pa_classifier_2.fit(tfidf_train,y_train)"
   ]
  },
  {
   "cell_type": "markdown",
   "metadata": {},
   "source": [
    "## Predictions & results"
   ]
  },
  {
   "cell_type": "code",
   "execution_count": 92,
   "metadata": {},
   "outputs": [
    {
     "name": "stdout",
     "output_type": "stream",
     "text": [
      "Accuracy: 92.82%\n"
     ]
    }
   ],
   "source": [
    "y_pred_2 = pa_classifier_2.predict(tfidf_test)\n",
    "score = accuracy_score(y_test,y_pred_2)\n",
    "print(f'Accuracy: {round(score*100,2)}%')"
   ]
  },
  {
   "cell_type": "code",
   "execution_count": 94,
   "metadata": {},
   "outputs": [
    {
     "name": "stdout",
     "output_type": "stream",
     "text": [
      "[[591  47]\n",
      " [ 44 585]]\n"
     ]
    }
   ],
   "source": [
    "cf_matrix = confusion_matrix(y_test,y_pred_2, labels=['FAKE','REAL'])\n",
    "print(cf_matrix)"
   ]
  },
  {
   "cell_type": "code",
   "execution_count": 95,
   "metadata": {
    "scrolled": true
   },
   "outputs": [
    {
     "data": {
      "image/png": "[encoded data removed]",
      "text/plain": [
       "<Figure size 432x288 with 2 Axes>"
      ]
     },
     "metadata": {
      "needs_background": "light"
     },
     "output_type": "display_data"
    }
   ],
   "source": [
    "ax = sns.heatmap(cf_matrix/np.sum(cf_matrix), annot=True, \n",
    "            fmt='.2%', cmap='Blues')\n",
    "bottom, top = ax.get_ylim()\n",
    "ax.set_ylim(bottom + 0.5, top - 0.5)\n",
    "\n",
    "plt.ylabel('Actual')\n",
    "plt.xlabel('Predicted')\n",
    "plt.show()"
   ]
  }
 ],
 "metadata": {
  "kernelspec": {
   "display_name": "Python 3",
   "language": "python",
   "name": "python3"
  },
  "language_info": {
   "codemirror_mode": {
    "name": "ipython",
    "version": 3
   },
   "file_extension": ".py",
   "mimetype": "text/x-python",
   "name": "python",
   "nbconvert_exporter": "python",
   "pygments_lexer": "ipython3",
   "version": "3.6.8"
  }
 },
 "nbformat": 4,
 "nbformat_minor": 2
}
