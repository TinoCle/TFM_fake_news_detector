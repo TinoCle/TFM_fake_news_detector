{
 "cells": [
  {
   "cell_type": "markdown",
   "metadata": {},
   "source": [
    "# Fouth model: Random forest with TFIDF + complexity features"
   ]
  },
  {
   "cell_type": "code",
   "execution_count": 62,
   "metadata": {},
   "outputs": [],
   "source": [
    "import time\n",
    "start = time.time()\n",
    "\n",
    "import nltk\n",
    "from nltk.corpus import stopwords  \n",
    "from nltk import word_tokenize, sent_tokenize\n",
    "from nltk.data import load  \n",
    "from nltk.stem import SnowballStemmer  \n",
    "from string import punctuation\n",
    "\n",
    "import itertools\n",
    "import seaborn as sns\n",
    "import pandas as pd\n",
    "import numpy as np\n",
    "from matplotlib import pyplot as plt\n",
    "\n",
    "from sklearn.feature_extraction.text import TfidfVectorizer\n",
    "from scipy.sparse import hstack, csr_matrix\n",
    "\n",
    "from sklearn.ensemble import RandomForestClassifier\n",
    "from sklearn.model_selection import RandomizedSearchCV\n",
    "from sklearn.model_selection import GridSearchCV\n",
    "from sklearn.preprocessing import LabelEncoder\n",
    "from sklearn.model_selection import train_test_split\n",
    "from sklearn import metrics\n",
    "from sklearn.metrics import confusion_matrix, roc_curve, auc, roc_auc_score, accuracy_score"
   ]
  },
  {
   "cell_type": "code",
   "execution_count": 63,
   "metadata": {},
   "outputs": [
    {
     "data": {
      "text/html": [
       "<div>\n",
       "<style scoped>\n",
       "    .dataframe tbody tr th:only-of-type {\n",
       "        vertical-align: middle;\n",
       "    }\n",
       "\n",
       "    .dataframe tbody tr th {\n",
       "        vertical-align: top;\n",
       "    }\n",
       "\n",
       "    .dataframe thead th {\n",
       "        text-align: right;\n",
       "    }\n",
       "</style>\n",
       "<table border=\"1\" class=\"dataframe\">\n",
       "  <thead>\n",
       "    <tr style=\"text-align: right;\">\n",
       "      <th></th>\n",
       "      <th>text</th>\n",
       "      <th>headline</th>\n",
       "      <th>n_sents</th>\n",
       "      <th>n_words</th>\n",
       "      <th>avg_words_sents</th>\n",
       "      <th>word_size</th>\n",
       "      <th>unique_words</th>\n",
       "      <th>ttr</th>\n",
       "      <th>mltd</th>\n",
       "      <th>n_words_h</th>\n",
       "      <th>...</th>\n",
       "      <th>propn_ratio</th>\n",
       "      <th>noun_ratio</th>\n",
       "      <th>adp_ratio</th>\n",
       "      <th>det_ratio</th>\n",
       "      <th>punct_ratio</th>\n",
       "      <th>pron_ratio</th>\n",
       "      <th>verb_ratio</th>\n",
       "      <th>adv_ratio</th>\n",
       "      <th>sym_ratio</th>\n",
       "      <th>label</th>\n",
       "    </tr>\n",
       "  </thead>\n",
       "  <tbody>\n",
       "    <tr>\n",
       "      <th>0</th>\n",
       "      <td>sofía castro y alejandro peña pretelini: una i...</td>\n",
       "      <td>sofía castro y alejandro peña pretelini: una i...</td>\n",
       "      <td>8</td>\n",
       "      <td>252</td>\n",
       "      <td>31.500000</td>\n",
       "      <td>4.190476</td>\n",
       "      <td>34.920635</td>\n",
       "      <td>50.000000</td>\n",
       "      <td>58.600559</td>\n",
       "      <td>12</td>\n",
       "      <td>...</td>\n",
       "      <td>15.079365</td>\n",
       "      <td>15.079365</td>\n",
       "      <td>13.888889</td>\n",
       "      <td>11.507937</td>\n",
       "      <td>9.523810</td>\n",
       "      <td>5.555556</td>\n",
       "      <td>6.349206</td>\n",
       "      <td>3.174603</td>\n",
       "      <td>0.000000</td>\n",
       "      <td>1</td>\n",
       "    </tr>\n",
       "    <tr>\n",
       "      <th>1</th>\n",
       "      <td>un paso más cerca de hacer los exámenes 'onlin...</td>\n",
       "      <td>un paso más cerca de hacer los exámenes 'online'</td>\n",
       "      <td>9</td>\n",
       "      <td>486</td>\n",
       "      <td>54.000000</td>\n",
       "      <td>4.255144</td>\n",
       "      <td>32.716049</td>\n",
       "      <td>44.238683</td>\n",
       "      <td>41.283136</td>\n",
       "      <td>11</td>\n",
       "      <td>...</td>\n",
       "      <td>16.666667</td>\n",
       "      <td>15.226337</td>\n",
       "      <td>12.345679</td>\n",
       "      <td>11.111111</td>\n",
       "      <td>18.930041</td>\n",
       "      <td>1.234568</td>\n",
       "      <td>3.292181</td>\n",
       "      <td>1.646091</td>\n",
       "      <td>1.851852</td>\n",
       "      <td>1</td>\n",
       "    </tr>\n",
       "    <tr>\n",
       "      <th>2</th>\n",
       "      <td>esto es lo que los científicos realmente piens...</td>\n",
       "      <td>esto es lo que los científicos realmente piens...</td>\n",
       "      <td>31</td>\n",
       "      <td>980</td>\n",
       "      <td>31.612903</td>\n",
       "      <td>4.815306</td>\n",
       "      <td>26.020408</td>\n",
       "      <td>38.571429</td>\n",
       "      <td>80.551467</td>\n",
       "      <td>12</td>\n",
       "      <td>...</td>\n",
       "      <td>4.795918</td>\n",
       "      <td>17.857143</td>\n",
       "      <td>13.979592</td>\n",
       "      <td>12.755102</td>\n",
       "      <td>11.836735</td>\n",
       "      <td>2.551020</td>\n",
       "      <td>10.306122</td>\n",
       "      <td>4.693878</td>\n",
       "      <td>0.510204</td>\n",
       "      <td>1</td>\n",
       "    </tr>\n",
       "    <tr>\n",
       "      <th>3</th>\n",
       "      <td>inicia impresión de boletas para elección pres...</td>\n",
       "      <td>inicia impresión de boletas para elección pres...</td>\n",
       "      <td>11</td>\n",
       "      <td>369</td>\n",
       "      <td>33.545455</td>\n",
       "      <td>4.728997</td>\n",
       "      <td>22.764228</td>\n",
       "      <td>37.398374</td>\n",
       "      <td>50.995314</td>\n",
       "      <td>7</td>\n",
       "      <td>...</td>\n",
       "      <td>4.065041</td>\n",
       "      <td>22.493225</td>\n",
       "      <td>18.157182</td>\n",
       "      <td>15.176152</td>\n",
       "      <td>11.111111</td>\n",
       "      <td>2.710027</td>\n",
       "      <td>7.317073</td>\n",
       "      <td>0.271003</td>\n",
       "      <td>1.355014</td>\n",
       "      <td>1</td>\n",
       "    </tr>\n",
       "    <tr>\n",
       "      <th>4</th>\n",
       "      <td>a *number* día del mundial\\nfifa.com sigue la ...</td>\n",
       "      <td>a *number* día del mundial</td>\n",
       "      <td>5</td>\n",
       "      <td>130</td>\n",
       "      <td>26.000000</td>\n",
       "      <td>4.461538</td>\n",
       "      <td>48.461538</td>\n",
       "      <td>60.000000</td>\n",
       "      <td>47.081602</td>\n",
       "      <td>7</td>\n",
       "      <td>...</td>\n",
       "      <td>14.615385</td>\n",
       "      <td>14.615385</td>\n",
       "      <td>17.692308</td>\n",
       "      <td>13.846154</td>\n",
       "      <td>9.230769</td>\n",
       "      <td>3.076923</td>\n",
       "      <td>4.615385</td>\n",
       "      <td>1.538462</td>\n",
       "      <td>2.307692</td>\n",
       "      <td>1</td>\n",
       "    </tr>\n",
       "  </tbody>\n",
       "</table>\n",
       "<p>5 rows × 26 columns</p>\n",
       "</div>"
      ],
      "text/plain": [
       "                                                text  \\\n",
       "0  sofía castro y alejandro peña pretelini: una i...   \n",
       "1  un paso más cerca de hacer los exámenes 'onlin...   \n",
       "2  esto es lo que los científicos realmente piens...   \n",
       "3  inicia impresión de boletas para elección pres...   \n",
       "4  a *number* día del mundial\\nfifa.com sigue la ...   \n",
       "\n",
       "                                            headline  n_sents  n_words  \\\n",
       "0  sofía castro y alejandro peña pretelini: una i...        8      252   \n",
       "1   un paso más cerca de hacer los exámenes 'online'        9      486   \n",
       "2  esto es lo que los científicos realmente piens...       31      980   \n",
       "3  inicia impresión de boletas para elección pres...       11      369   \n",
       "4                         a *number* día del mundial        5      130   \n",
       "\n",
       "   avg_words_sents  word_size  unique_words        ttr       mltd  n_words_h  \\\n",
       "0        31.500000   4.190476     34.920635  50.000000  58.600559         12   \n",
       "1        54.000000   4.255144     32.716049  44.238683  41.283136         11   \n",
       "2        31.612903   4.815306     26.020408  38.571429  80.551467         12   \n",
       "3        33.545455   4.728997     22.764228  37.398374  50.995314          7   \n",
       "4        26.000000   4.461538     48.461538  60.000000  47.081602          7   \n",
       "\n",
       "   ...  propn_ratio  noun_ratio  adp_ratio  det_ratio  punct_ratio  \\\n",
       "0  ...    15.079365   15.079365  13.888889  11.507937     9.523810   \n",
       "1  ...    16.666667   15.226337  12.345679  11.111111    18.930041   \n",
       "2  ...     4.795918   17.857143  13.979592  12.755102    11.836735   \n",
       "3  ...     4.065041   22.493225  18.157182  15.176152    11.111111   \n",
       "4  ...    14.615385   14.615385  17.692308  13.846154     9.230769   \n",
       "\n",
       "   pron_ratio  verb_ratio  adv_ratio  sym_ratio  label  \n",
       "0    5.555556    6.349206   3.174603   0.000000      1  \n",
       "1    1.234568    3.292181   1.646091   1.851852      1  \n",
       "2    2.551020   10.306122   4.693878   0.510204      1  \n",
       "3    2.710027    7.317073   0.271003   1.355014      1  \n",
       "4    3.076923    4.615385   1.538462   2.307692      1  \n",
       "\n",
       "[5 rows x 26 columns]"
      ]
     },
     "execution_count": 63,
     "metadata": {},
     "output_type": "execute_result"
    }
   ],
   "source": [
    "df = pd.read_csv('../data/spanish_corpus_features_v4.csv')\n",
    "df.head()"
   ]
  },
  {
   "cell_type": "code",
   "execution_count": 64,
   "metadata": {},
   "outputs": [
    {
     "name": "stdout",
     "output_type": "stream",
     "text": [
      "<class 'pandas.core.frame.DataFrame'>\n",
      "RangeIndex: 971 entries, 0 to 970\n",
      "Data columns (total 26 columns):\n",
      "text               971 non-null object\n",
      "headline           971 non-null object\n",
      "n_sents            971 non-null int64\n",
      "n_words            971 non-null int64\n",
      "avg_words_sents    971 non-null float64\n",
      "word_size          971 non-null float64\n",
      "unique_words       971 non-null float64\n",
      "ttr                971 non-null float64\n",
      "mltd               971 non-null float64\n",
      "n_words_h          971 non-null int64\n",
      "word_size_h        971 non-null float64\n",
      "unique_words_h     971 non-null float64\n",
      "ttr_h              971 non-null float64\n",
      "mltd_h             971 non-null float64\n",
      "n_quotes           971 non-null int64\n",
      "quotes_ratio       971 non-null float64\n",
      "propn_ratio        971 non-null float64\n",
      "noun_ratio         971 non-null float64\n",
      "adp_ratio          971 non-null float64\n",
      "det_ratio          971 non-null float64\n",
      "punct_ratio        971 non-null float64\n",
      "pron_ratio         971 non-null float64\n",
      "verb_ratio         971 non-null float64\n",
      "adv_ratio          971 non-null float64\n",
      "sym_ratio          971 non-null float64\n",
      "label              971 non-null int64\n",
      "dtypes: float64(19), int64(5), object(2)\n",
      "memory usage: 197.4+ KB\n"
     ]
    }
   ],
   "source": [
    "df.info()"
   ]
  },
  {
   "cell_type": "code",
   "execution_count": 65,
   "metadata": {},
   "outputs": [
    {
     "data": {
      "text/plain": [
       "Index(['text', 'headline', 'n_sents', 'n_words', 'avg_words_sents',\n",
       "       'word_size', 'unique_words', 'ttr', 'mltd', 'n_words_h', 'word_size_h',\n",
       "       'unique_words_h', 'ttr_h', 'mltd_h', 'n_quotes', 'quotes_ratio',\n",
       "       'propn_ratio', 'noun_ratio', 'adp_ratio', 'det_ratio', 'punct_ratio',\n",
       "       'pron_ratio', 'verb_ratio', 'adv_ratio', 'sym_ratio', 'label'],\n",
       "      dtype='object')"
      ]
     },
     "execution_count": 65,
     "metadata": {},
     "output_type": "execute_result"
    }
   ],
   "source": [
    "df.columns"
   ]
  },
  {
   "cell_type": "code",
   "execution_count": 66,
   "metadata": {},
   "outputs": [],
   "source": [
    "y = df['label']"
   ]
  },
  {
   "cell_type": "markdown",
   "metadata": {},
   "source": [
    "### Split into testing and training set"
   ]
  },
  {
   "cell_type": "code",
   "execution_count": 67,
   "metadata": {},
   "outputs": [],
   "source": [
    "numerical_features = ['n_sents', 'n_words', 'avg_words_sents',\n",
    "       'word_size', 'unique_words', 'ttr', 'mltd', 'n_words_h', 'word_size_h',\n",
    "       'unique_words_h', 'ttr_h', 'mltd_h', 'n_quotes', 'quotes_ratio',\n",
    "       'propn_ratio', 'noun_ratio', 'adp_ratio', 'det_ratio', 'punct_ratio',\n",
    "       'pron_ratio', 'verb_ratio', 'adv_ratio', 'sym_ratio']\n",
    "\n",
    "X = df[numerical_features].values\n",
    "tfvocab = df[numerical_features].columns.tolist()\n",
    "\n",
    "X_train, X_test, y_train, y_test = train_test_split(X, y, test_size = 0.3, random_state = 43)"
   ]
  },
  {
   "cell_type": "markdown",
   "metadata": {},
   "source": [
    "# Random Forest"
   ]
  },
  {
   "cell_type": "code",
   "execution_count": 68,
   "metadata": {},
   "outputs": [
    {
     "name": "stdout",
     "output_type": "stream",
     "text": [
      "0.7954929577464789 79.45\n"
     ]
    }
   ],
   "source": [
    "rf_model = RandomForestClassifier()\n",
    "rf_model.fit(X_train, y_train)\n",
    "\n",
    "y_pred = rf_model.predict(X_test)\n",
    "\n",
    "false_positive_rate, true_positive_rate, thresholds = roc_curve(y_test, y_pred)\n",
    "roc_auc = auc(false_positive_rate, true_positive_rate)\n",
    "\n",
    "score = accuracy_score(y_test, y_pred)\n",
    "accuracy = round(score * 100, 2)\n",
    "\n",
    "print(roc_auc, accuracy)"
   ]
  },
  {
   "cell_type": "markdown",
   "metadata": {},
   "source": [
    "## Random Forest hyperparameters grid search:\n",
    "\n",
    "    n_estimators = number of trees in the foreset\n",
    "\n",
    "    max_features = max number of features considered for splitting a node\n",
    "\n",
    "    max_depth = max number of levels in each decision tree\n",
    "\n",
    "    min_samples_split = min number of data points placed in a node before the node is split\n",
    "\n",
    "    min_samples_leaf = min number of data points allowed in a leaf node\n",
    "\n",
    "    bootstrap = method for sampling data points (with or without replacement)"
   ]
  },
  {
   "cell_type": "code",
   "execution_count": 69,
   "metadata": {},
   "outputs": [],
   "source": [
    "# Number of trees in random forest\n",
    "n_estimators = [int(x) for x in np.linspace(start = 200, stop = 2000, num = 10)]\n",
    "\n",
    "# Number of features to consider at every split\n",
    "max_features = ['auto', 'sqrt']\n",
    "\n",
    "# Maximum number of levels in tree\n",
    "max_depth = [int(x) for x in np.linspace(10, 110, num = 11)]\n",
    "max_depth.append(None)\n",
    "\n",
    "# Minimum number of samples required to split a node\n",
    "min_samples_split = [2, 5, 10]\n",
    "\n",
    "# Minimum number of samples required at each leaf node\n",
    "min_samples_leaf = [1, 2, 4]\n",
    "\n",
    "# Method of selecting samples for training each tree\n",
    "bootstrap = [True, False]\n",
    "\n",
    "# Create the random grid\n",
    "random_grid = {'n_estimators': n_estimators,\n",
    "               'max_features': max_features,\n",
    "               'max_depth': max_depth,\n",
    "               'min_samples_split': min_samples_split,\n",
    "               'min_samples_leaf': min_samples_leaf,\n",
    "               'bootstrap': bootstrap}"
   ]
  },
  {
   "cell_type": "code",
   "execution_count": 70,
   "metadata": {},
   "outputs": [
    {
     "name": "stdout",
     "output_type": "stream",
     "text": [
      "Fitting 3 folds for each of 100 candidates, totalling 300 fits\n"
     ]
    },
    {
     "name": "stderr",
     "output_type": "stream",
     "text": [
      "[Parallel(n_jobs=-1)]: Using backend LokyBackend with 8 concurrent workers.\n",
      "[Parallel(n_jobs=-1)]: Done  25 tasks      | elapsed:   27.5s\n",
      "[Parallel(n_jobs=-1)]: Done 146 tasks      | elapsed:  1.8min\n",
      "[Parallel(n_jobs=-1)]: Done 300 out of 300 | elapsed:  3.7min finished\n"
     ]
    },
    {
     "data": {
      "text/plain": [
       "RandomizedSearchCV(cv=3, estimator=RandomForestClassifier(), n_iter=100,\n",
       "                   n_jobs=-1,\n",
       "                   param_distributions={'bootstrap': [True, False],\n",
       "                                        'max_depth': [10, 20, 30, 40, 50, 60,\n",
       "                                                      70, 80, 90, 100, 110,\n",
       "                                                      None],\n",
       "                                        'max_features': ['auto', 'sqrt'],\n",
       "                                        'min_samples_leaf': [1, 2, 4],\n",
       "                                        'min_samples_split': [2, 5, 10],\n",
       "                                        'n_estimators': [200, 400, 600, 800,\n",
       "                                                         1000, 1200, 1400, 1600,\n",
       "                                                         1800, 2000]},\n",
       "                   random_state=42, verbose=2)"
      ]
     },
     "execution_count": 70,
     "metadata": {},
     "output_type": "execute_result"
    }
   ],
   "source": [
    "rf = RandomForestClassifier()\n",
    "rf_random = RandomizedSearchCV(estimator = rf, param_distributions = random_grid, n_iter = 100, cv = 3, verbose=2, random_state = 42, n_jobs = -1)\n",
    "rf_random.fit(X_train, y_train)"
   ]
  },
  {
   "cell_type": "code",
   "execution_count": 73,
   "metadata": {},
   "outputs": [
    {
     "data": {
      "text/plain": [
       "{'n_estimators': 1800,\n",
       " 'min_samples_split': 2,\n",
       " 'min_samples_leaf': 2,\n",
       " 'max_features': 'auto',\n",
       " 'max_depth': 80,\n",
       " 'bootstrap': True}"
      ]
     },
     "execution_count": 73,
     "metadata": {},
     "output_type": "execute_result"
    }
   ],
   "source": [
    "rf_random.best_params_"
   ]
  },
  {
   "cell_type": "code",
   "execution_count": 72,
   "metadata": {},
   "outputs": [
    {
     "name": "stdout",
     "output_type": "stream",
     "text": [
      "Model Performance\n",
      "Average Error: 0.226027 degrees.\n",
      "Accuracy: 77.4%\n",
      "Model Performance\n",
      "Average Error: 0.212329 degrees.\n",
      "Accuracy: 78.77%\n",
      "Improvement of 1.770026.\n"
     ]
    }
   ],
   "source": [
    "def evaluate(model, X_test, y_test):\n",
    "    y_pred = model.predict(X_test)\n",
    "    errors = abs(y_pred - y_test)\n",
    "    score = accuracy_score(y_test, y_pred)\n",
    "    accuracy = round(score * 100, 2)\n",
    "    print('Model Performance')\n",
    "    print('Average Error: %f degrees.' %(np.mean(errors)))\n",
    "    print(f'Accuracy: {round(score * 100, 2)}%')\n",
    "    \n",
    "    return accuracy\n",
    "\n",
    "base_model = RandomForestClassifier(n_estimators = 10, random_state = 42)\n",
    "base_model.fit(X_train, y_train)\n",
    "base_accuracy = evaluate(base_model, X_test, y_test)\n",
    "\n",
    "\n",
    "best_random = rf_random.best_estimator_\n",
    "random_accuracy = evaluate(best_random, X_test, y_test)\n",
    "\n",
    "print('Improvement of %f.' %( 100 * (random_accuracy - base_accuracy) / base_accuracy))"
   ]
  },
  {
   "cell_type": "markdown",
   "metadata": {},
   "source": [
    "## Grid search with cross validation"
   ]
  },
  {
   "cell_type": "code",
   "execution_count": 74,
   "metadata": {},
   "outputs": [],
   "source": [
    "param_grid = {\n",
    "    'bootstrap': [True],\n",
    "    'max_depth': [75, 80, 85],\n",
    "    'max_features': ['auto', 'sqrt'],\n",
    "    'min_samples_leaf': [1, 1.5, 2],\n",
    "    'min_samples_split': [2, 4, 6, 8],\n",
    "    'n_estimators': [1500, 1600, 1700, 1800, 1900, 2000]\n",
    "}"
   ]
  },
  {
   "cell_type": "markdown",
   "metadata": {},
   "source": [
    "{'bootstrap': True, 'max_depth': 80, 'max_features': 'sqrt', \n",
    " 'min_samples_leaf': 1, 'min_samples_split': 14, 'n_estimators': 300}"
   ]
  },
  {
   "cell_type": "code",
   "execution_count": 75,
   "metadata": {},
   "outputs": [],
   "source": [
    "rf = RandomForestClassifier()\n",
    "\n",
    "grid_search = GridSearchCV(estimator = rf, param_grid = param_grid, cv = 3, n_jobs = -1, verbose = 2)"
   ]
  },
  {
   "cell_type": "code",
   "execution_count": 76,
   "metadata": {},
   "outputs": [
    {
     "name": "stdout",
     "output_type": "stream",
     "text": [
      "Fitting 3 folds for each of 432 candidates, totalling 1296 fits\n"
     ]
    },
    {
     "name": "stderr",
     "output_type": "stream",
     "text": [
      "[Parallel(n_jobs=-1)]: Using backend LokyBackend with 8 concurrent workers.\n",
      "[Parallel(n_jobs=-1)]: Done  25 tasks      | elapsed:   37.6s\n",
      "[Parallel(n_jobs=-1)]: Done 146 tasks      | elapsed:  2.1min\n",
      "[Parallel(n_jobs=-1)]: Done 349 tasks      | elapsed:  5.7min\n",
      "[Parallel(n_jobs=-1)]: Done 632 tasks      | elapsed: 10.3min\n",
      "[Parallel(n_jobs=-1)]: Done 997 tasks      | elapsed: 15.5min\n",
      "[Parallel(n_jobs=-1)]: Done 1296 out of 1296 | elapsed: 20.1min finished\n"
     ]
    },
    {
     "name": "stdout",
     "output_type": "stream",
     "text": [
      "{'bootstrap': True, 'max_depth': 85, 'max_features': 'auto', 'min_samples_leaf': 1, 'min_samples_split': 4, 'n_estimators': 2000}\n",
      "Model Performance\n",
      "Average Error: 0.205479 degrees.\n",
      "Accuracy: 79.45%\n",
      "Improvement of 2.65%.\n",
      "CPU times: user 10.6 s, sys: 812 ms, total: 11.4 s\n",
      "Wall time: 20min 14s\n"
     ]
    }
   ],
   "source": [
    "%%time\n",
    "\n",
    "grid_search.fit(X_train, y_train)\n",
    "print(grid_search.best_params_)\n",
    "best_grid = grid_search.best_estimator_\n",
    "\n",
    "grid_accuracy = evaluate(best_grid, X_test, y_test)\n",
    "\n",
    "print('Improvement of {:0.2f}%.'.format( 100 * (grid_accuracy - base_accuracy) / base_accuracy))"
   ]
  },
  {
   "cell_type": "markdown",
   "metadata": {},
   "source": [
    "## Predictions & results"
   ]
  },
  {
   "cell_type": "code",
   "execution_count": 77,
   "metadata": {},
   "outputs": [],
   "source": [
    "y_pred = best_grid.predict(X_test)"
   ]
  },
  {
   "cell_type": "code",
   "execution_count": 78,
   "metadata": {},
   "outputs": [
    {
     "name": "stdout",
     "output_type": "stream",
     "text": [
      "Roc AUC:  0.7954929577464789 \n",
      "Accuracy:  79.45\n"
     ]
    }
   ],
   "source": [
    "score = accuracy_score(y_test, y_pred)\n",
    "accuracy = round(score * 100, 2)\n",
    "\n",
    "print('Roc AUC: ', roc_auc, '\\nAccuracy: ', accuracy)"
   ]
  },
  {
   "cell_type": "code",
   "execution_count": 79,
   "metadata": {},
   "outputs": [
    {
     "name": "stdout",
     "output_type": "stream",
     "text": [
      "[[114  36]\n",
      " [ 24 118]]\n"
     ]
    }
   ],
   "source": [
    "cf_matrix = confusion_matrix(y_test, y_pred, labels = [0, 1])\n",
    "print(cf_matrix)"
   ]
  },
  {
   "cell_type": "code",
   "execution_count": 53,
   "metadata": {
    "scrolled": true
   },
   "outputs": [
    {
     "data": {
      "image/png": "[encoded data removed]",
      "text/plain": [
       "<Figure size 432x288 with 2 Axes>"
      ]
     },
     "metadata": {},
     "output_type": "display_data"
    }
   ],
   "source": [
    "ax = sns.heatmap(cf_matrix/np.sum(cf_matrix), annot=True, \n",
    "            fmt='.2%', cmap='Blues')\n",
    "\n",
    "bottom, top = ax.get_ylim()\n",
    "ax.set_ylim(bottom + 0.5, top - 0.5)\n",
    "\n",
    "plt.ylabel('Actual')\n",
    "plt.xlabel('Predicted')\n",
    "plt.show()"
   ]
  },
  {
   "cell_type": "markdown",
   "metadata": {},
   "source": [
    "## Full model"
   ]
  },
  {
   "cell_type": "code",
   "execution_count": 82,
   "metadata": {},
   "outputs": [
    {
     "name": "stdout",
     "output_type": "stream",
     "text": [
      "Testing AUC: 0.870235\n"
     ]
    },
    {
     "data": {
      "image/png": "[encoded data removed]",
      "text/plain": [
       "<Figure size 432x288 with 1 Axes>"
      ]
     },
     "metadata": {},
     "output_type": "display_data"
    },
    {
     "name": "stdout",
     "output_type": "stream",
     "text": [
      "Logloss: 7.45\n",
      "Accuracy: 78.42\n"
     ]
    },
    {
     "data": {
      "image/png": "[encoded data removed]",
      "text/plain": [
       "<Figure size 432x288 with 2 Axes>"
      ]
     },
     "metadata": {},
     "output_type": "display_data"
    },
    {
     "data": {
      "image/png": "[encoded data removed]",
      "text/plain": [
       "<Figure size 720x1080 with 1 Axes>"
      ]
     },
     "metadata": {},
     "output_type": "display_data"
    }
   ],
   "source": [
    "import itertools\n",
    "import seaborn as sns\n",
    "import pandas as pd\n",
    "import numpy as np\n",
    "from matplotlib import pyplot as plt\n",
    "\n",
    "from sklearn.ensemble import RandomForestClassifier\n",
    "from sklearn.model_selection import RandomizedSearchCV\n",
    "from sklearn.model_selection import train_test_split,  GridSearchCV\n",
    "from sklearn.preprocessing import LabelEncoder\n",
    "from sklearn.model_selection import train_test_split\n",
    "from sklearn import metrics\n",
    "from sklearn.metrics import confusion_matrix, roc_curve, auc, roc_auc_score, accuracy_score, classification_report, log_loss\n",
    "\n",
    "df = pd.read_csv('../data/spanish_corpus_features_v4.csv')\n",
    "y = df['label']\n",
    "\n",
    "########### Features & train, test split ########### \n",
    "\n",
    "numerical_features = ['n_sents', 'n_words', 'avg_words_sents',\n",
    "       'word_size', 'unique_words', 'ttr', 'mltd', 'n_words_h', 'word_size_h',\n",
    "       'unique_words_h', 'ttr_h', 'mltd_h', 'n_quotes', 'quotes_ratio',\n",
    "       'propn_ratio', 'noun_ratio', 'adp_ratio', 'det_ratio', 'punct_ratio',\n",
    "       'pron_ratio', 'verb_ratio', 'adv_ratio', 'sym_ratio']\n",
    "\n",
    "X = df[numerical_features].values\n",
    "tfvocab = df[numerical_features].columns.tolist()\n",
    "\n",
    "# Calculating level of imbalance for modelling\n",
    "imbalance_weight = y.value_counts(normalize = True)[0] / y.value_counts(normalize = True)[1]\n",
    "\n",
    "# Training and test set\n",
    "X_train, X_test, y_train, y_test = train_test_split(X, y, test_size = 0.3, random_state = 43)\n",
    "\n",
    "\n",
    "########### RF CLassifier ########### \n",
    "\n",
    "rf_model = RandomForestClassifier(bootstrap = True, \n",
    "                                  n_estimators = 350, \n",
    "                                  max_depth = 80, \n",
    "                                  max_features = 'sqrt', \n",
    "                                  min_samples_leaf = 2,\n",
    "                                  min_samples_split = 13, \n",
    "                                  random_state = 43)\n",
    "\n",
    "rf_model.fit(X_train, y_train)\n",
    "\n",
    "\n",
    "########### Predictions and results ###########\n",
    "\n",
    "# predictions\n",
    "y_pred = rf_model.predict(X_test)\n",
    "probs = rf_model.predict_proba(X_test)\n",
    "probs = probs[:, 1]\n",
    "\n",
    "# testing AUC\n",
    "auc = roc_auc_score(y_test, probs)\n",
    "print('Testing AUC: %f' % auc)\n",
    "\n",
    "# roc curve calculation\n",
    "false_positive_rate, true_positive_rate, thresholds = roc_curve(y_test, probs)\n",
    "\n",
    "# plot the limits for no skill\n",
    "plt.plot([0, 1], [0, 1], linestyle = '--')\n",
    "\n",
    "# plot the roc curve\n",
    "plt.plot(false_positive_rate, true_positive_rate, marker = '.')\n",
    "plt.xlabel('False positive rate')\n",
    "plt.ylabel('Sensitivity/ Recall')\n",
    "plt.show();\n",
    "\n",
    "# accuracy score\n",
    "print('Logloss: %.2f' % (log_loss(y_test, y_pred)))\n",
    "print('Accuracy: %.2f' % (rf_model.score(X_test, y_test) * 100))\n",
    "\n",
    "# confusion matrix\n",
    "cf_matrix = confusion_matrix(y_test, y_pred, labels = [0, 1])\n",
    "ax = sns.heatmap(cf_matrix / np.sum(cf_matrix), annot = True, fmt = '.2%', cmap = 'Blues')\n",
    "\n",
    "bottom, top = ax.get_ylim()\n",
    "ax.set_ylim(bottom + 0.5, top - 0.5)\n",
    "\n",
    "plt.ylabel('Actual')\n",
    "plt.xlabel('Predicted')\n",
    "plt.show();\n",
    "\n",
    "\n",
    "########### Feature importance ###########\n",
    "\n",
    "dict_features = dict(enumerate(tfvocab))\n",
    "\n",
    "# feature importance with default names\n",
    "\n",
    "df_feature_importance = pd.DataFrame(rf_model.feature_importances_, index = tfvocab, \n",
    "                                     columns = ['feature importance']).sort_values('feature importance')\n",
    "\n",
    "df_feature_all = pd.DataFrame([tree.feature_importances_ for tree in rf_model.estimators_], columns = tfvocab)\n",
    "df_feature_long = pd.melt(df_feature_all, var_name = 'feature name', value_name = 'values')\n",
    "\n",
    "fig, ax = plt.subplots(figsize = [10, 15])\n",
    "df_feature_importance.plot(kind = 'barh', ax = ax, title = 'Random Forest Classifier Feature Importance');"
   ]
  }
 ],
 "metadata": {
  "kernelspec": {
   "display_name": "Python 3",
   "language": "python",
   "name": "python3"
  },
  "language_info": {
   "codemirror_mode": {
    "name": "ipython",
    "version": 3
   },
   "file_extension": ".py",
   "mimetype": "text/x-python",
   "name": "python",
   "nbconvert_exporter": "python",
   "pygments_lexer": "ipython3",
   "version": "3.6.9"
  }
 },
 "nbformat": 4,
 "nbformat_minor": 2
}
