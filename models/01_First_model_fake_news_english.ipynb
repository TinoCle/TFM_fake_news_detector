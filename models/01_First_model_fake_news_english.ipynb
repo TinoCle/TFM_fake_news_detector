{
 "cells": [
  {
   "cell_type": "markdown",
   "metadata": {},
   "source": [
    "# Fake News Detector in English\n",
    "\n",
    "### First model using text vectorizers with a dataset of Fake and Real news in english languaje"
   ]
  },
  {
   "cell_type": "markdown",
   "metadata": {},
   "source": [
    "## Exploratory Data Analysis"
   ]
  },
  {
   "cell_type": "code",
   "execution_count": 1,
   "metadata": {},
   "outputs": [],
   "source": [
    "import pandas as pd\n",
    "import numpy as np\n",
    "import seaborn as sns\n",
    "import matplotlib.pyplot as plt"
   ]
  },
  {
   "cell_type": "code",
   "execution_count": 5,
   "metadata": {},
   "outputs": [],
   "source": [
    "df = pd.read_csv(\"~/TFM_fake_news_detector/data/news.csv\")"
   ]
  },
  {
   "cell_type": "code",
   "execution_count": 6,
   "metadata": {},
   "outputs": [
    {
     "data": {
      "text/plain": [
       "(6335, 4)"
      ]
     },
     "execution_count": 6,
     "metadata": {},
     "output_type": "execute_result"
    }
   ],
   "source": [
    "df.shape"
   ]
  },
  {
   "cell_type": "code",
   "execution_count": 4,
   "metadata": {},
   "outputs": [
    {
     "data": {
      "text/html": [
       "<div>\n",
       "<style scoped>\n",
       "    .dataframe tbody tr th:only-of-type {\n",
       "        vertical-align: middle;\n",
       "    }\n",
       "\n",
       "    .dataframe tbody tr th {\n",
       "        vertical-align: top;\n",
       "    }\n",
       "\n",
       "    .dataframe thead th {\n",
       "        text-align: right;\n",
       "    }\n",
       "</style>\n",
       "<table border=\"1\" class=\"dataframe\">\n",
       "  <thead>\n",
       "    <tr style=\"text-align: right;\">\n",
       "      <th></th>\n",
       "      <th>Unnamed: 0</th>\n",
       "      <th>title</th>\n",
       "      <th>text</th>\n",
       "      <th>label</th>\n",
       "    </tr>\n",
       "  </thead>\n",
       "  <tbody>\n",
       "    <tr>\n",
       "      <td>5317</td>\n",
       "      <td>9069</td>\n",
       "      <td>U.S. Behind Huge Weapons Shipments To Saudi Ar...</td>\n",
       "      <td>The United States shipped hundreds of millions...</td>\n",
       "      <td>FAKE</td>\n",
       "    </tr>\n",
       "    <tr>\n",
       "      <td>690</td>\n",
       "      <td>1222</td>\n",
       "      <td>Fall of the House of Bush: How last name and D...</td>\n",
       "      <td>For Jeb Bush’s campaign, August was a cruel mo...</td>\n",
       "      <td>REAL</td>\n",
       "    </tr>\n",
       "    <tr>\n",
       "      <td>4045</td>\n",
       "      <td>935</td>\n",
       "      <td>Will Cruz, Sanders Victories Lead to Contested...</td>\n",
       "      <td>As expected, the voters of Wisconsin have give...</td>\n",
       "      <td>REAL</td>\n",
       "    </tr>\n",
       "    <tr>\n",
       "      <td>5038</td>\n",
       "      <td>7969</td>\n",
       "      <td>When Dad’s Kind Birthday Gift For Ex-Wife Has ...</td>\n",
       "      <td>Share on Twitter \\nOn October 21, 2016, father...</td>\n",
       "      <td>FAKE</td>\n",
       "    </tr>\n",
       "    <tr>\n",
       "      <td>4032</td>\n",
       "      <td>8825</td>\n",
       "      <td>Anonymous World War 3 Has Begun!</td>\n",
       "      <td>source Add To The Conversation Using Facebook ...</td>\n",
       "      <td>FAKE</td>\n",
       "    </tr>\n",
       "  </tbody>\n",
       "</table>\n",
       "</div>"
      ],
      "text/plain": [
       "      Unnamed: 0                                              title  \\\n",
       "5317        9069  U.S. Behind Huge Weapons Shipments To Saudi Ar...   \n",
       "690         1222  Fall of the House of Bush: How last name and D...   \n",
       "4045         935  Will Cruz, Sanders Victories Lead to Contested...   \n",
       "5038        7969  When Dad’s Kind Birthday Gift For Ex-Wife Has ...   \n",
       "4032        8825                   Anonymous World War 3 Has Begun!   \n",
       "\n",
       "                                                   text label  \n",
       "5317  The United States shipped hundreds of millions...  FAKE  \n",
       "690   For Jeb Bush’s campaign, August was a cruel mo...  REAL  \n",
       "4045  As expected, the voters of Wisconsin have give...  REAL  \n",
       "5038  Share on Twitter \\nOn October 21, 2016, father...  FAKE  \n",
       "4032  source Add To The Conversation Using Facebook ...  FAKE  "
      ]
     },
     "execution_count": 4,
     "metadata": {},
     "output_type": "execute_result"
    }
   ],
   "source": [
    "df.sample(5)"
   ]
  },
  {
   "cell_type": "code",
   "execution_count": 8,
   "metadata": {},
   "outputs": [
    {
     "data": {
      "text/plain": [
       "Unnamed: 0     int64\n",
       "title         object\n",
       "text          object\n",
       "label         object\n",
       "dtype: object"
      ]
     },
     "execution_count": 8,
     "metadata": {},
     "output_type": "execute_result"
    }
   ],
   "source": [
    "df.dtypes"
   ]
  },
  {
   "cell_type": "code",
   "execution_count": 5,
   "metadata": {},
   "outputs": [
    {
     "data": {
      "text/plain": [
       "label\n",
       "FAKE    3164\n",
       "REAL    3171\n",
       "dtype: int64"
      ]
     },
     "execution_count": 5,
     "metadata": {},
     "output_type": "execute_result"
    }
   ],
   "source": [
    "df_plot = df.groupby(\"label\").size()\n",
    "df_plot"
   ]
  },
  {
   "cell_type": "code",
   "execution_count": 6,
   "metadata": {},
   "outputs": [
    {
     "data": {
      "text/plain": [
       "<matplotlib.axes._subplots.AxesSubplot at 0x1f9badd1c08>"
      ]
     },
     "execution_count": 6,
     "metadata": {},
     "output_type": "execute_result"
    },
    {
     "data": {
      "image/png": "[encoded data removed]",
      "text/plain": [
       "<Figure size 432x288 with 1 Axes>"
      ]
     },
     "metadata": {
      "needs_background": "light"
     },
     "output_type": "display_data"
    }
   ],
   "source": [
    "df_plot.plot.bar()"
   ]
  },
  {
   "cell_type": "code",
   "execution_count": 9,
   "metadata": {},
   "outputs": [
    {
     "data": {
      "text/plain": [
       "Unnamed: 0    0\n",
       "title         0\n",
       "text          0\n",
       "label         0\n",
       "dtype: int64"
      ]
     },
     "execution_count": 9,
     "metadata": {},
     "output_type": "execute_result"
    }
   ],
   "source": [
    "df.isnull().sum()"
   ]
  },
  {
   "cell_type": "markdown",
   "metadata": {},
   "source": [
    "#### Get the labels isolated"
   ]
  },
  {
   "cell_type": "code",
   "execution_count": 10,
   "metadata": {},
   "outputs": [
    {
     "data": {
      "text/plain": [
       "0    FAKE\n",
       "1    FAKE\n",
       "2    REAL\n",
       "3    FAKE\n",
       "4    REAL\n",
       "Name: label, dtype: object"
      ]
     },
     "execution_count": 10,
     "metadata": {},
     "output_type": "execute_result"
    }
   ],
   "source": [
    "labels = df.label\n",
    "labels.head()"
   ]
  },
  {
   "cell_type": "markdown",
   "metadata": {},
   "source": [
    "## Modelling\n",
    "\n",
    "### CountVectorizer\n",
    "\n",
    "The CountVectorizer provides a simple way to both tokenize a collection of text documents and build a vocabulary of known words, but also to encode new documents using that vocabulary.\n",
    "\n",
    "You can use it as follows:\n",
    "\n",
    "Create an instance of the CountVectorizer class.\n",
    "Call the fit() function in order to learn a vocabulary from one or more documents.\n",
    "Call the transform() function on one or more documents as needed to encode each as a vector.\n",
    "An encoded vector is returned with a length of the entire vocabulary and an integer count for the number of times each word appeared in the document.\n",
    "\n",
    "### Passive Aggressive Classifier\n",
    "\n",
    "Passive Aggressive are considered algorithms for online learning. Their characteristic is that they remain passive when dealing with an outcome which has been correctly classified, and become aggressive when a miscalculation takes place, thus constantly self-updating and adjusting."
   ]
  },
  {
   "cell_type": "code",
   "execution_count": 11,
   "metadata": {},
   "outputs": [],
   "source": [
    "import itertools\n",
    "from sklearn.model_selection import train_test_split\n",
    "from sklearn.feature_extraction.text import TfidfVectorizer\n",
    "from sklearn.feature_extraction.text import CountVectorizer\n",
    "from sklearn.linear_model import PassiveAggressiveClassifier\n",
    "from sklearn.metrics import accuracy_score, confusion_matrix"
   ]
  },
  {
   "cell_type": "markdown",
   "metadata": {},
   "source": [
    "#### Split into training and test sets"
   ]
  },
  {
   "cell_type": "code",
   "execution_count": 12,
   "metadata": {},
   "outputs": [],
   "source": [
    "x_train,x_test,y_train,y_test=train_test_split(df['title'], labels, test_size=0.2, random_state=7)"
   ]
  },
  {
   "cell_type": "code",
   "execution_count": 13,
   "metadata": {},
   "outputs": [
    {
     "name": "stdout",
     "output_type": "stream",
     "text": [
      "  (0, 7091)\t1\n",
      "  (0, 1533)\t1\n",
      "  (0, 5316)\t1\n",
      "  (0, 3762)\t1\n",
      "  (0, 78)\t1\n",
      "  (0, 8667)\t1\n",
      "  (0, 3478)\t1\n",
      "  (0, 6005)\t1\n",
      "  (1, 7380)\t1\n",
      "  (1, 7849)\t1\n",
      "  (1, 8372)\t2\n",
      "  (1, 493)\t1\n",
      "  (1, 2074)\t1\n",
      "  (1, 5635)\t1\n",
      "  (2, 5400)\t1\n",
      "  (2, 8644)\t1\n",
      "  (2, 4714)\t1\n",
      "  (2, 6)\t1\n",
      "  (2, 4405)\t1\n",
      "  (2, 1113)\t1\n",
      "  (2, 3050)\t1\n",
      "  (2, 1087)\t1\n",
      "  (3, 3419)\t1\n",
      "  (3, 8646)\t1\n",
      "  (3, 7660)\t1\n",
      "  :\t:\n",
      "  (5064, 4833)\t1\n",
      "  (5064, 6755)\t1\n",
      "  (5064, 3189)\t1\n",
      "  (5064, 492)\t1\n",
      "  (5064, 2843)\t1\n",
      "  (5064, 1943)\t1\n",
      "  (5065, 1571)\t1\n",
      "  (5065, 8718)\t1\n",
      "  (5065, 2488)\t1\n",
      "  (5065, 7439)\t1\n",
      "  (5066, 1750)\t1\n",
      "  (5066, 8390)\t1\n",
      "  (5066, 1352)\t1\n",
      "  (5066, 280)\t1\n",
      "  (5066, 4912)\t1\n",
      "  (5066, 5919)\t1\n",
      "  (5066, 3258)\t1\n",
      "  (5066, 4527)\t1\n",
      "  (5067, 2468)\t1\n",
      "  (5067, 8096)\t1\n",
      "  (5067, 356)\t1\n",
      "  (5067, 8349)\t1\n",
      "  (5067, 2093)\t1\n",
      "  (5067, 4506)\t1\n",
      "  (5067, 2096)\t1\n"
     ]
    }
   ],
   "source": [
    "count_vectorizer = CountVectorizer(stop_words='english')\n",
    "c_train = count_vectorizer.fit_transform(x_train.values)\n",
    "c_test = count_vectorizer.transform(x_test.values)\n",
    "\n",
    "print(c_train)"
   ]
  },
  {
   "cell_type": "markdown",
   "metadata": {},
   "source": [
    "Initializes the Passive Aggressive Classifier"
   ]
  },
  {
   "cell_type": "code",
   "execution_count": 14,
   "metadata": {},
   "outputs": [
    {
     "data": {
      "text/plain": [
       "PassiveAggressiveClassifier(C=1.0, average=False, class_weight=None,\n",
       "                            early_stopping=False, fit_intercept=True,\n",
       "                            loss='hinge', max_iter=50, n_iter_no_change=5,\n",
       "                            n_jobs=None, random_state=None, shuffle=True,\n",
       "                            tol=0.001, validation_fraction=0.1, verbose=0,\n",
       "                            warm_start=False)"
      ]
     },
     "execution_count": 14,
     "metadata": {},
     "output_type": "execute_result"
    }
   ],
   "source": [
    "pa_classifier_1 = PassiveAggressiveClassifier(max_iter=50)\n",
    "pa_classifier_1.fit(c_train,y_train)"
   ]
  },
  {
   "cell_type": "code",
   "execution_count": 15,
   "metadata": {},
   "outputs": [
    {
     "name": "stdout",
     "output_type": "stream",
     "text": [
      "Accuracy: 78.14%\n"
     ]
    }
   ],
   "source": [
    "y_pred_1 = pa_classifier_1.predict(c_test)\n",
    "score = accuracy_score(y_test,y_pred_1)\n",
    "print(f'Accuracy: {round(score*100,2)}%')"
   ]
  },
  {
   "cell_type": "code",
   "execution_count": 16,
   "metadata": {},
   "outputs": [
    {
     "name": "stdout",
     "output_type": "stream",
     "text": [
      "[[486 152]\n",
      " [125 504]]\n"
     ]
    }
   ],
   "source": [
    "cf_matrix = confusion_matrix(y_test,y_pred_1, labels=['FAKE','REAL'])\n",
    "print(cf_matrix)"
   ]
  },
  {
   "cell_type": "code",
   "execution_count": 17,
   "metadata": {
    "scrolled": true
   },
   "outputs": [
    {
     "data": {
      "image/png": "[encoded data removed]",
      "text/plain": [
       "<Figure size 432x288 with 2 Axes>"
      ]
     },
     "metadata": {
      "needs_background": "light"
     },
     "output_type": "display_data"
    }
   ],
   "source": [
    "ax = sns.heatmap(cf_matrix/np.sum(cf_matrix), annot=True, \n",
    "            fmt='.2%', cmap='Blues')\n",
    "bottom, top = ax.get_ylim()\n",
    "ax.set_ylim(bottom + 0.5, top - 0.5)\n",
    "\n",
    "plt.ylabel('Actual')\n",
    "plt.xlabel('Predicted')\n",
    "plt.show()"
   ]
  },
  {
   "cell_type": "markdown",
   "metadata": {},
   "source": [
    "## TfidfVectorizer\n",
    "\n",
    "The TfidfVectorizer serves us to convert a collection of raw documents into a matrix of TF and IDF features.\n",
    "\n",
    "### IDF (Inverse Document Frequency)\n",
    "\n",
    "The IDF is used to calculate how many times a word appears on a set of documents.\n",
    "\n",
    "### TF (Term Frequency)\n",
    "\n",
    "The TF, unlike the IDF is the number of times a word appears in a single document."
   ]
  },
  {
   "cell_type": "markdown",
   "metadata": {},
   "source": [
    "#### Declare a TfidfVectorizer with stop words from English and we will allow up to a document frequency of 0.8\n",
    "#### Then fit and transform it to the dataset"
   ]
  },
  {
   "cell_type": "code",
   "execution_count": 26,
   "metadata": {},
   "outputs": [],
   "source": [
    "tfidf_vectorizer = TfidfVectorizer(stop_words='english', max_df=0.8)\n",
    "tfidf_train = tfidf_vectorizer.fit_transform(x_train) \n",
    "tfidf_test = tfidf_vectorizer.transform(x_test)"
   ]
  },
  {
   "cell_type": "code",
   "execution_count": 27,
   "metadata": {},
   "outputs": [
    {
     "name": "stdout",
     "output_type": "stream",
     "text": [
      "  (0, 6005)\t0.41328892052701427\n",
      "  (0, 3478)\t0.38087456208965226\n",
      "  (0, 8667)\t0.23274562439422375\n",
      "  (0, 78)\t0.38087456208965226\n",
      "  (0, 3762)\t0.3080094339276839\n",
      "  (0, 5316)\t0.41328892052701427\n",
      "  (0, 1533)\t0.30561075255619213\n",
      "  (0, 7091)\t0.3547046702599086\n",
      "  (1, 5635)\t0.3782383513370419\n",
      "  (1, 2074)\t0.24942639025520227\n",
      "  (1, 493)\t0.3964258800826214\n",
      "  (1, 8372)\t0.6008622938082652\n",
      "  (1, 7849)\t0.3653340943302742\n",
      "  (1, 7380)\t0.3782383513370419\n",
      "  (2, 1087)\t0.3750907330972984\n",
      "  (2, 3050)\t0.4070128583304528\n",
      "  (2, 1113)\t0.2616207026216703\n",
      "  (2, 4405)\t0.4070128583304528\n",
      "  (2, 6)\t0.3377442406878585\n",
      "  (2, 4714)\t0.3285025741979334\n",
      "  (2, 8644)\t0.2945332723024223\n",
      "  (2, 5400)\t0.38833961212573287\n",
      "  (3, 8613)\t0.2821238746451825\n",
      "  (3, 5293)\t0.3147448146046148\n",
      "  (3, 6338)\t0.42265509656385314\n",
      "  :\t:\n",
      "  (5064, 3189)\t0.3956868768318111\n",
      "  (5064, 6755)\t0.2683497336652027\n",
      "  (5064, 4833)\t0.3029161459711111\n",
      "  (5064, 1273)\t0.22693399141286627\n",
      "  (5064, 8390)\t0.21677574730219634\n",
      "  (5064, 76)\t0.2112917637862919\n",
      "  (5065, 7439)\t0.5989413640229733\n",
      "  (5065, 2488)\t0.5577881018496101\n",
      "  (5065, 8718)\t0.5245498289186749\n",
      "  (5065, 1571)\t0.23449766071050293\n",
      "  (5066, 4527)\t0.37497543019548935\n",
      "  (5066, 3258)\t0.37040132221724587\n",
      "  (5066, 5919)\t0.35527814053312967\n",
      "  (5066, 4912)\t0.37040132221724587\n",
      "  (5066, 280)\t0.36229776290300186\n",
      "  (5066, 1352)\t0.4281543587562724\n",
      "  (5066, 8390)\t0.23456294993461335\n",
      "  (5066, 1750)\t0.29863186233206745\n",
      "  (5067, 2096)\t0.4133834574680066\n",
      "  (5067, 4506)\t0.3795253586005264\n",
      "  (5067, 2093)\t0.4833289083900751\n",
      "  (5067, 8349)\t0.4010614217207654\n",
      "  (5067, 356)\t0.45011937824618736\n",
      "  (5067, 8096)\t0.16365845522366457\n",
      "  (5067, 2468)\t0.24743883477292955\n"
     ]
    }
   ],
   "source": [
    "print(tfidf_train)"
   ]
  },
  {
   "cell_type": "code",
   "execution_count": 28,
   "metadata": {},
   "outputs": [
    {
     "name": "stdout",
     "output_type": "stream",
     "text": [
      "  (0, 6826)\t0.302138203993392\n",
      "  (0, 4568)\t0.5113448977241198\n",
      "  (0, 4410)\t0.44237042634867635\n",
      "  (0, 3742)\t0.2112958995693997\n",
      "  (0, 1571)\t0.20020187206165005\n",
      "  (0, 896)\t0.3456562502210221\n",
      "  (0, 408)\t0.49733521600883873\n",
      "  (1, 8390)\t0.26407010346781773\n",
      "  (1, 8112)\t0.37123745937636976\n",
      "  (1, 7320)\t0.43402206385531494\n",
      "  (1, 6858)\t0.33495266416924535\n",
      "  (1, 4639)\t0.396382928642641\n",
      "  (1, 4011)\t0.46880849863867935\n",
      "  (1, 3024)\t0.2817193570357074\n",
      "  (1, 1571)\t0.1887184660259552\n",
      "  (2, 8096)\t0.1728396328511757\n",
      "  (2, 7376)\t0.49645849303037676\n",
      "  (2, 4783)\t0.5538848087278592\n",
      "  (2, 3398)\t0.412790515119217\n",
      "  (2, 2784)\t0.49645849303037676\n",
      "  (3, 6974)\t0.2596904998981416\n",
      "  (3, 6865)\t0.30908498805709894\n",
      "  (3, 6544)\t0.2197335370049293\n",
      "  (3, 6522)\t0.33949112281967325\n",
      "  (3, 5788)\t0.3129018969746056\n",
      "  :\t:\n",
      "  (1263, 8712)\t0.3438915852925153\n",
      "  (1263, 6022)\t0.35673344581269145\n",
      "  (1263, 5396)\t0.21892227327682748\n",
      "  (1263, 4990)\t0.388939206863056\n",
      "  (1263, 3104)\t0.388939206863056\n",
      "  (1263, 2124)\t0.4852761690893108\n",
      "  (1263, 1542)\t0.4105027294798258\n",
      "  (1264, 5396)\t0.29647921499035235\n",
      "  (1264, 4153)\t0.44788563377248997\n",
      "  (1264, 4115)\t0.6887945538102294\n",
      "  (1264, 2678)\t0.4186828662232855\n",
      "  (1264, 1571)\t0.24852616423898055\n",
      "  (1265, 8083)\t0.31720529383495094\n",
      "  (1265, 6143)\t0.3623204207688506\n",
      "  (1265, 2312)\t0.350315610593317\n",
      "  (1265, 1529)\t0.33657358752559435\n",
      "  (1265, 1261)\t0.34072995479434803\n",
      "  (1265, 382)\t0.38905219797460383\n",
      "  (1265, 334)\t0.38905219797460383\n",
      "  (1265, 111)\t0.33657358752559435\n",
      "  (1266, 7885)\t0.49499798168292664\n",
      "  (1266, 6543)\t0.3814840906499944\n",
      "  (1266, 5662)\t0.3773787583595447\n",
      "  (1266, 4555)\t0.48105296638384254\n",
      "  (1266, 1330)\t0.4854072547697347\n"
     ]
    }
   ],
   "source": [
    "print(tfidf_test)"
   ]
  },
  {
   "cell_type": "markdown",
   "metadata": {},
   "source": [
    "Initializes the Passive Aggressive Classifier"
   ]
  },
  {
   "cell_type": "code",
   "execution_count": 29,
   "metadata": {},
   "outputs": [
    {
     "data": {
      "text/plain": [
       "PassiveAggressiveClassifier(C=1.0, average=False, class_weight=None,\n",
       "                            early_stopping=False, fit_intercept=True,\n",
       "                            loss='hinge', max_iter=50, n_iter_no_change=5,\n",
       "                            n_jobs=None, random_state=None, shuffle=True,\n",
       "                            tol=0.001, validation_fraction=0.1, verbose=0,\n",
       "                            warm_start=False)"
      ]
     },
     "execution_count": 29,
     "metadata": {},
     "output_type": "execute_result"
    }
   ],
   "source": [
    "pa_classifier_2 = PassiveAggressiveClassifier(max_iter=50)\n",
    "pa_classifier_2.fit(tfidf_train,y_train)"
   ]
  },
  {
   "cell_type": "markdown",
   "metadata": {},
   "source": [
    "## Predictions & results"
   ]
  },
  {
   "cell_type": "code",
   "execution_count": 30,
   "metadata": {},
   "outputs": [
    {
     "name": "stdout",
     "output_type": "stream",
     "text": [
      "Accuracy: 78.37%\n"
     ]
    }
   ],
   "source": [
    "y_pred_2 = pa_classifier_2.predict(tfidf_test)\n",
    "score = accuracy_score(y_test,y_pred_2)\n",
    "print(f'Accuracy: {round(score*100,2)}%')"
   ]
  },
  {
   "cell_type": "code",
   "execution_count": 31,
   "metadata": {},
   "outputs": [
    {
     "name": "stdout",
     "output_type": "stream",
     "text": [
      "[[494 144]\n",
      " [130 499]]\n"
     ]
    }
   ],
   "source": [
    "cf_matrix = confusion_matrix(y_test,y_pred_2, labels=['FAKE','REAL'])\n",
    "print(cf_matrix)"
   ]
  },
  {
   "cell_type": "code",
   "execution_count": 32,
   "metadata": {
    "scrolled": true
   },
   "outputs": [
    {
     "data": {
      "image/png": "[encoded data removed]",
      "text/plain": [
       "<Figure size 432x288 with 2 Axes>"
      ]
     },
     "metadata": {
      "needs_background": "light"
     },
     "output_type": "display_data"
    }
   ],
   "source": [
    "ax = sns.heatmap(cf_matrix/np.sum(cf_matrix), annot=True, \n",
    "            fmt='.2%', cmap='Blues')\n",
    "bottom, top = ax.get_ylim()\n",
    "ax.set_ylim(bottom + 0.5, top - 0.5)\n",
    "\n",
    "plt.ylabel('Actual')\n",
    "plt.xlabel('Predicted')\n",
    "plt.show()"
   ]
  },
  {
   "cell_type": "code",
   "execution_count": null,
   "metadata": {},
   "outputs": [],
   "source": []
  },
  {
   "cell_type": "code",
   "execution_count": null,
   "metadata": {},
   "outputs": [],
   "source": []
  },
  {
   "cell_type": "code",
   "execution_count": null,
   "metadata": {},
   "outputs": [],
   "source": []
  }
 ],
 "metadata": {
  "kernelspec": {
   "display_name": "Python 3",
   "language": "python",
   "name": "python3"
  },
  "language_info": {
   "codemirror_mode": {
    "name": "ipython",
    "version": 3
   },
   "file_extension": ".py",
   "mimetype": "text/x-python",
   "name": "python",
   "nbconvert_exporter": "python",
   "pygments_lexer": "ipython3",
   "version": "3.6.8"
  }
 },
 "nbformat": 4,
 "nbformat_minor": 2
}
