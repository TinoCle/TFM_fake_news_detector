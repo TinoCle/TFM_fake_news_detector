{
 "cells": [
  {
   "cell_type": "markdown",
   "metadata": {},
   "source": [
    "# Third model: TFIDF + complexity features"
   ]
  },
  {
   "cell_type": "code",
   "execution_count": 91,
   "metadata": {},
   "outputs": [],
   "source": [
    "import nltk\n",
    "from nltk.corpus import stopwords  \n",
    "from nltk import word_tokenize  \n",
    "from nltk.data import load  \n",
    "from nltk.stem import SnowballStemmer  \n",
    "from string import punctuation"
   ]
  },
  {
   "cell_type": "code",
   "execution_count": 92,
   "metadata": {},
   "outputs": [],
   "source": [
    "import time\n",
    "start = time.time()\n",
    "\n",
    "import itertools\n",
    "import seaborn as sns\n",
    "import pandas as pd\n",
    "import numpy as np\n",
    "from matplotlib import pyplot as plt\n",
    "%matplotlib inline\n",
    "\n",
    "from sklearn.pipeline import Pipeline, FeatureUnion\n",
    "from sklearn.feature_extraction.text import TfidfVectorizer\n",
    "from scipy.sparse import hstack, csr_matrix\n",
    "\n",
    "import xgboost as xgb\n",
    "from sklearn import metrics\n",
    "from sklearn.metrics import accuracy_score\n",
    "from sklearn.metrics import roc_auc_score\n",
    "from sklearn.preprocessing import LabelEncoder\n",
    "from sklearn.model_selection import cross_val_score\n",
    "from sklearn.model_selection import train_test_split\n",
    "from sklearn.model_selection import KFold, RepeatedKFold\n",
    "from sklearn.model_selection import train_test_split, RandomizedSearchCV, GridSearchCV\n",
    "from sklearn.metrics import confusion_matrix, roc_curve, auc, roc_auc_score, accuracy_score\n",
    "\n",
    "import gc"
   ]
  },
  {
   "cell_type": "code",
   "execution_count": 93,
   "metadata": {},
   "outputs": [],
   "source": [
    "df = pd.read_csv('~/TFM_fake_news_detector/data/corpus_features.csv', index_col = 0)"
   ]
  },
  {
   "cell_type": "code",
   "execution_count": 94,
   "metadata": {},
   "outputs": [],
   "source": [
    "df_index = df.index"
   ]
  },
  {
   "cell_type": "code",
   "execution_count": 95,
   "metadata": {},
   "outputs": [],
   "source": [
    "# creating instance of labelencoder\n",
    "labelencoder = LabelEncoder()\n",
    "\n",
    "# Assigning numerical values and sºtoring in another column\n",
    "df['Labels'] = labelencoder.fit_transform(df['Category'])\n",
    "\n",
    "# True == 1 and False == 0\n",
    "y = df['Labels']"
   ]
  },
  {
   "cell_type": "markdown",
   "metadata": {},
   "source": [
    "## TfidfVectorizer\n",
    "\n",
    "The TfidfVectorizer serves us to convert a collection of raw documents into a matrix of TF and IDF features.\n",
    "\n",
    "### IDF (Inverse Document Frequency)\n",
    "\n",
    "The IDF is used to calculate how many times a word appears on a set of documents.\n",
    "\n",
    "### TF (Term Frequency)\n",
    "\n",
    "The TF, unlike the IDF is the number of times a word appears in a single document."
   ]
  },
  {
   "cell_type": "markdown",
   "metadata": {},
   "source": [
    "## Spanish tokenization\n",
    "\n",
    "    - Spanish stopwords\n",
    "    - Added more spanish punctuation\n",
    "    - Created stems with lemmas, using the rooting word"
   ]
  },
  {
   "cell_type": "code",
   "execution_count": 96,
   "metadata": {},
   "outputs": [],
   "source": [
    "#Stopword list to use\n",
    "spanish_stopwords = stopwords.words('spanish')"
   ]
  },
  {
   "cell_type": "code",
   "execution_count": 97,
   "metadata": {},
   "outputs": [],
   "source": [
    "#Spanish stemmer: Stemming is the process to transform any word into its rooting word, considering them as the same word\n",
    "stemmer = SnowballStemmer('spanish')\n",
    "\n",
    "def stem_tokens(tokens, stemmer):  \n",
    "    stemmed = []\n",
    "    for item in tokens:\n",
    "        stemmed.append(stemmer.stem(item))\n",
    "    return stemmed"
   ]
  },
  {
   "cell_type": "code",
   "execution_count": 98,
   "metadata": {},
   "outputs": [],
   "source": [
    "#Punctuation to remove\n",
    "non_words = list(punctuation)\n",
    "\n",
    "#Adding spanish punctuation\n",
    "non_words.extend(['¿', '¡'])  \n",
    "non_words.extend(map(str,range(10)))"
   ]
  },
  {
   "cell_type": "code",
   "execution_count": 99,
   "metadata": {},
   "outputs": [],
   "source": [
    "def tokenize(text):  \n",
    "    #Remove punctuation\n",
    "    text = ''.join([c for c in text if c not in non_words])\n",
    "    #Tokenize\n",
    "    tokens =  word_tokenize(text)\n",
    "\n",
    "    #Stem\n",
    "    try:\n",
    "        stems = stem_tokens(tokens, stemmer)\n",
    "    except Exception as e:\n",
    "        print(e)\n",
    "        print(text)\n",
    "        stems = ['']\n",
    "    return stems"
   ]
  },
  {
   "cell_type": "markdown",
   "metadata": {},
   "source": [
    "## TFIDF Vectorizer transformation with the tokenization explaned"
   ]
  },
  {
   "cell_type": "code",
   "execution_count": 100,
   "metadata": {},
   "outputs": [],
   "source": [
    "tfidf_vectorizer = TfidfVectorizer(  \n",
    "                analyzer = 'word',\n",
    "                tokenizer = tokenize,\n",
    "                lowercase = True,\n",
    "                stop_words = spanish_stopwords)"
   ]
  },
  {
   "cell_type": "markdown",
   "metadata": {},
   "source": [
    "### Transformation"
   ]
  },
  {
   "cell_type": "code",
   "execution_count": 101,
   "metadata": {},
   "outputs": [
    {
     "name": "stderr",
     "output_type": "stream",
     "text": [
      "/home/pipe11/.local/lib/python3.6/site-packages/sklearn/feature_extraction/text.py:386: UserWarning: Your stop_words may be inconsistent with your preprocessing. Tokenizing the stop words generated tokens ['algun', 'com', 'contr', 'cuand', 'desd', 'dond', 'durant', 'eram', 'estab', 'estais', 'estam', 'estan', 'estand', 'estaran', 'estaras', 'esteis', 'estem', 'esten', 'estes', 'estuv', 'fuer', 'fues', 'fuim', 'fuist', 'hab', 'habr', 'habran', 'habras', 'hast', 'hem', 'hub', 'mas', 'mia', 'mias', 'mio', 'mios', 'much', 'nad', 'nosotr', 'nuestr', 'par', 'per', 'poc', 'porqu', 'qui', 'seais', 'seam', 'sent', 'ser', 'seran', 'seras', 'si', 'sient', 'sint', 'sobr', 'som', 'suy', 'tambien', 'tant', 'ten', 'tendr', 'tendran', 'tendras', 'teng', 'tien', 'tod', 'tuv', 'tuy', 'vosotr', 'vuestr'] not in stop_words.\n",
      "  'stop_words.' % sorted(inconsistent))\n"
     ]
    }
   ],
   "source": [
    "text_vectorized = tfidf_vectorizer.fit_transform(df['Text']) "
   ]
  },
  {
   "cell_type": "code",
   "execution_count": 102,
   "metadata": {},
   "outputs": [],
   "source": [
    "tfvocab = tfidf_vectorizer.get_feature_names()"
   ]
  },
  {
   "cell_type": "markdown",
   "metadata": {},
   "source": [
    "### Make Dense dataframe Sparse, and Combine with TF-IDF features"
   ]
  },
  {
   "cell_type": "code",
   "execution_count": 103,
   "metadata": {},
   "outputs": [
    {
     "name": "stdout",
     "output_type": "stream",
     "text": [
      "971 Rows and 15569 Cols\n",
      "Feature Names Length:  15569\n"
     ]
    }
   ],
   "source": [
    "categorical_features = ['sentences', 'n_words', 'avg_words_sent', 'avg_word_size', 'TTR']\n",
    "\n",
    "X = hstack([csr_matrix(df[categorical_features].values), text_vectorized[0:]])\n",
    "tfvocab = df[categorical_features].columns.tolist() + tfvocab\n",
    "\n",
    "for shape in [X]:\n",
    "    print(\"{} Rows and {} Cols\".format(*shape.shape))\n",
    "print(\"Feature Names Length: \", len(tfvocab))\n",
    "gc.collect();"
   ]
  },
  {
   "cell_type": "markdown",
   "metadata": {},
   "source": [
    "### Split in training and test for validation"
   ]
  },
  {
   "cell_type": "code",
   "execution_count": 104,
   "metadata": {},
   "outputs": [
    {
     "name": "stdout",
     "output_type": "stream",
     "text": [
      "Imbalance Weight:  0.9775967413441956\n"
     ]
    }
   ],
   "source": [
    "# Calculating level of imbalance for future models.\n",
    "imbalance_weight = y.value_counts(normalize=True)[0] / y.value_counts(normalize=True)[1]\n",
    "print(\"Imbalance Weight: \", imbalance_weight)"
   ]
  },
  {
   "cell_type": "code",
   "execution_count": 118,
   "metadata": {},
   "outputs": [],
   "source": [
    "# Training and Validation Set\n",
    "X_train, X_valid, y_train, y_valid = train_test_split(\n",
    "    X, y, test_size = 0.3, random_state = 23)"
   ]
  },
  {
   "cell_type": "code",
   "execution_count": 119,
   "metadata": {},
   "outputs": [],
   "source": [
    "# XGBOOST Sparse Feature Storage\n",
    "d_train = xgb.DMatrix(X_train, y_train, feature_names = tfvocab)\n",
    "d_valid = xgb.DMatrix(X_valid, y_valid, feature_names = tfvocab)"
   ]
  },
  {
   "cell_type": "markdown",
   "metadata": {},
   "source": [
    "## Model: XGB"
   ]
  },
  {
   "cell_type": "code",
   "execution_count": 146,
   "metadata": {},
   "outputs": [],
   "source": [
    "xgb_params = {'eta': 0.04, \n",
    "              'max_depth': 12, \n",
    "              'subsample': 0.8, \n",
    "              'colsample_bytree': 0.75,\n",
    "              #'min_child_weight' : 1.5,\n",
    "              'scale_pos_weight': imbalance_weight,\n",
    "              'objective': 'binary:logistic', \n",
    "              'eval_metric': 'auc', \n",
    "              'seed': 23,\n",
    "              'lambda': 1.5,\n",
    "              'alpha': .6\n",
    "             }"
   ]
  },
  {
   "cell_type": "code",
   "execution_count": 150,
   "metadata": {},
   "outputs": [
    {
     "ename": "TypeError",
     "evalue": "__init__() takes from 1 to 2 positional arguments but 3 were given",
     "output_type": "error",
     "traceback": [
      "\u001b[0;31m---------------------------------------------------------------------------\u001b[0m",
      "\u001b[0;31mTypeError\u001b[0m                                 Traceback (most recent call last)",
      "\u001b[0;32m<ipython-input-150-5c2683d649da>\u001b[0m in \u001b[0;36m<module>\u001b[0;34m\u001b[0m\n\u001b[1;32m      2\u001b[0m \u001b[0mwatchlist\u001b[0m \u001b[0;34m=\u001b[0m \u001b[0;34m[\u001b[0m\u001b[0;34m(\u001b[0m\u001b[0md_train\u001b[0m\u001b[0;34m,\u001b[0m \u001b[0;34m'train'\u001b[0m\u001b[0;34m)\u001b[0m\u001b[0;34m,\u001b[0m \u001b[0;34m(\u001b[0m\u001b[0md_valid\u001b[0m\u001b[0;34m,\u001b[0m \u001b[0;34m'valid'\u001b[0m\u001b[0;34m)\u001b[0m\u001b[0;34m]\u001b[0m\u001b[0;34m\u001b[0m\u001b[0;34m\u001b[0m\u001b[0m\n\u001b[1;32m      3\u001b[0m model = xgb.XGBClassifier(xgb_params, d_train, n_estimators = 200, watchlist = [(d_train, 'train'), (d_valid, 'valid')]\n\u001b[0;32m----> 4\u001b[0;31m                           , verbose_eval = 30, early_stopping_rounds = 30)\n\u001b[0m\u001b[1;32m      5\u001b[0m \u001b[0;34m\u001b[0m\u001b[0m\n\u001b[1;32m      6\u001b[0m \u001b[0mprint\u001b[0m\u001b[0;34m(\u001b[0m\u001b[0;34m\"Model Runtime: %0.2f Minutes\"\u001b[0m\u001b[0;34m%\u001b[0m\u001b[0;34m(\u001b[0m\u001b[0;34m(\u001b[0m\u001b[0mtime\u001b[0m\u001b[0;34m.\u001b[0m\u001b[0mtime\u001b[0m\u001b[0;34m(\u001b[0m\u001b[0;34m)\u001b[0m \u001b[0;34m-\u001b[0m \u001b[0mmodelstart\u001b[0m\u001b[0;34m)\u001b[0m \u001b[0;34m/\u001b[0m \u001b[0;36m60\u001b[0m\u001b[0;34m)\u001b[0m\u001b[0;34m)\u001b[0m\u001b[0;34m\u001b[0m\u001b[0;34m\u001b[0m\u001b[0m\n",
      "\u001b[0;31mTypeError\u001b[0m: __init__() takes from 1 to 2 positional arguments but 3 were given"
     ]
    }
   ],
   "source": [
    "modelstart = time.time()\n",
    "watchlist = [(d_train, 'train'), (d_valid, 'valid')]\n",
    "model = xgb.XGBClassifier(xgb_params, d_train, n_estimators = 200, watchlist = [(d_train, 'train'), (d_valid, 'valid')]\n",
    "                          , verbose_eval = 30, early_stopping_rounds = 30)\n",
    "\n",
    "print(\"Model Runtime: %0.2f Minutes\"%((time.time() - modelstart) / 60))\n",
    "\n",
    "print(\"Best error: {:.2f} with {} rounds\".format(\n",
    "                 model.best_score,\n",
    "                 model.best_iteration+1))"
   ]
  },
  {
   "cell_type": "code",
   "execution_count": 141,
   "metadata": {
    "scrolled": true
   },
   "outputs": [
    {
     "data": {
      "image/png": "[encoded data removed]",
      "text/plain": [
       "<Figure size 504x720 with 1 Axes>"
      ]
     },
     "metadata": {},
     "output_type": "display_data"
    }
   ],
   "source": [
    "f, ax = plt.subplots(figsize = [7,10])\n",
    "xgb.plot_importance(model,max_num_features = 50,ax = ax)\n",
    "plt.title(\"XGBOOST Feature Importance\")\n",
    "plt.show()"
   ]
  },
  {
   "cell_type": "markdown",
   "metadata": {},
   "source": [
    "## Predictions & results"
   ]
  },
  {
   "cell_type": "code",
   "execution_count": 142,
   "metadata": {},
   "outputs": [],
   "source": [
    "y_pred = model.predict(d_valid)"
   ]
  },
  {
   "cell_type": "code",
   "execution_count": 145,
   "metadata": {},
   "outputs": [
    {
     "data": {
      "text/plain": [
       "array([0.1719394 , 0.5190205 , 0.7474392 , 0.8754335 , 0.79897135,\n",
       "       0.0700499 , 0.41809058, 0.02230711, 0.31340778, 0.03751165,\n",
       "       0.8334714 , 0.08873258, 0.86503625, 0.7387707 , 0.985838  ,\n",
       "       0.05111165, 0.922575  , 0.14445399, 0.05691275, 0.85555   ,\n",
       "       0.26160023, 0.8666745 , 0.11985849, 0.94920623, 0.67725146,\n",
       "       0.84176403, 0.42646417, 0.22470048, 0.06288422, 0.71594566,\n",
       "       0.15043731, 0.52790874, 0.9493814 , 0.04165402, 0.15350665,\n",
       "       0.9223695 , 0.7554337 , 0.71058583, 0.09155346, 0.17907076,\n",
       "       0.11237909, 0.08770473, 0.19545084, 0.53726244, 0.04201237,\n",
       "       0.78731954, 0.8696532 , 0.80322254, 0.261886  , 0.06756862,\n",
       "       0.5867763 , 0.4612638 , 0.14206786, 0.23127444, 0.9643508 ,\n",
       "       0.74483466, 0.60192   , 0.07982633, 0.9271951 , 0.897261  ,\n",
       "       0.89856744, 0.11468593, 0.5980025 , 0.20699793, 0.15312393,\n",
       "       0.67208666, 0.834553  , 0.17872474, 0.44989657, 0.919059  ,\n",
       "       0.6794469 , 0.5763063 , 0.7437544 , 0.12807707, 0.79665935,\n",
       "       0.25459492, 0.9336266 , 0.22628194, 0.9732624 , 0.60714453,\n",
       "       0.8317036 , 0.97087604, 0.62389195, 0.88740146, 0.51947254,\n",
       "       0.8819202 , 0.10283389, 0.08083793, 0.74982375, 0.9633606 ,\n",
       "       0.49073038, 0.92223805, 0.08187547, 0.05021273, 0.9505759 ,\n",
       "       0.9212276 , 0.29700905, 0.18483242, 0.9626026 , 0.95165753,\n",
       "       0.91704124, 0.9607112 , 0.82321954, 0.709573  , 0.43468407,\n",
       "       0.06894251, 0.8330726 , 0.10649987, 0.09938038, 0.7550131 ,\n",
       "       0.838484  , 0.0826599 , 0.6634594 , 0.09533599, 0.780118  ,\n",
       "       0.360617  , 0.7666215 , 0.95586747, 0.8059156 , 0.87021345,\n",
       "       0.9692584 , 0.5417954 , 0.16778398, 0.8497567 , 0.8842355 ,\n",
       "       0.8624807 , 0.04814466, 0.9676944 , 0.11002261, 0.93651515,\n",
       "       0.6684185 , 0.76466924, 0.07876913, 0.7950374 , 0.14041488,\n",
       "       0.4198712 , 0.8978333 , 0.14620274, 0.9583474 , 0.93175024,\n",
       "       0.05693834, 0.9116043 , 0.15635884, 0.05514141, 0.12258203,\n",
       "       0.9439961 , 0.40723374, 0.8389886 , 0.13305865, 0.9750167 ,\n",
       "       0.7637317 , 0.862534  , 0.8650164 , 0.26598287, 0.9224103 ,\n",
       "       0.6052332 , 0.7098501 , 0.82242054, 0.5346706 , 0.09443806,\n",
       "       0.946555  , 0.24380726, 0.04799895, 0.97158325, 0.03867877,\n",
       "       0.05458071, 0.8080435 , 0.8462991 , 0.05019484, 0.5957681 ,\n",
       "       0.6864184 , 0.98391265, 0.92152715, 0.9042812 , 0.05530247,\n",
       "       0.07291563, 0.08811387, 0.945053  , 0.89401597, 0.04541269,\n",
       "       0.53383905, 0.37448472, 0.11197375, 0.9106224 , 0.9829449 ,\n",
       "       0.01971086, 0.80012757, 0.4779407 , 0.0500383 , 0.53463715,\n",
       "       0.380372  , 0.55987626, 0.966132  , 0.01873836, 0.02079022,\n",
       "       0.08953442, 0.19947805, 0.98624265, 0.83651966, 0.562736  ,\n",
       "       0.1324283 , 0.94355416, 0.42482036, 0.21103132, 0.65580446,\n",
       "       0.5998073 , 0.03403397, 0.6574372 , 0.03719848, 0.89872247,\n",
       "       0.10890784, 0.5727105 , 0.10596233, 0.09208786, 0.8045261 ,\n",
       "       0.1589657 , 0.88674843, 0.16686112, 0.6551274 , 0.17014058,\n",
       "       0.13882147, 0.9878094 , 0.1245558 , 0.85947925, 0.04919691,\n",
       "       0.03074431, 0.14447841, 0.9618171 , 0.95039845, 0.9691952 ,\n",
       "       0.13803525, 0.16120926, 0.9468937 , 0.14307208, 0.9591059 ,\n",
       "       0.9272505 , 0.14695336, 0.35684   , 0.8723199 , 0.22850347,\n",
       "       0.71756786, 0.80037946, 0.25668022, 0.7132868 , 0.72067684,\n",
       "       0.77338386, 0.9724451 , 0.92166394, 0.07053701, 0.22153418,\n",
       "       0.61817896, 0.4337324 , 0.26462066, 0.40546176, 0.372689  ,\n",
       "       0.30955625, 0.9490271 , 0.9086461 , 0.16749872, 0.16268192,\n",
       "       0.9788103 , 0.27134085, 0.16350384, 0.12961768, 0.05490393,\n",
       "       0.71946234, 0.37600628, 0.05304613, 0.9365596 , 0.05330551,\n",
       "       0.77497345, 0.84329534, 0.93677264, 0.9295354 , 0.01022724,\n",
       "       0.10847167, 0.08597516, 0.07041446, 0.4439836 , 0.66508245,\n",
       "       0.24085681, 0.12104729, 0.38164884, 0.4864242 , 0.84791374,\n",
       "       0.7558038 , 0.09863765, 0.8219168 , 0.91894716, 0.9620064 ,\n",
       "       0.8759638 , 0.7291381 ], dtype=float32)"
      ]
     },
     "execution_count": 145,
     "metadata": {},
     "output_type": "execute_result"
    }
   ],
   "source": [
    "y_pred"
   ]
  },
  {
   "cell_type": "code",
   "execution_count": 144,
   "metadata": {},
   "outputs": [
    {
     "data": {
      "text/plain": [
       "numpy.ndarray"
      ]
     },
     "execution_count": 144,
     "metadata": {},
     "output_type": "execute_result"
    }
   ],
   "source": [
    "type(y_pred)"
   ]
  },
  {
   "cell_type": "code",
   "execution_count": null,
   "metadata": {},
   "outputs": [],
   "source": [
    "y_pred\n",
    "for value in y_pred:\n",
    "    if value > 0.5:\n",
    "        value == 1\n",
    "    else:\n",
    "        value == 0"
   ]
  },
  {
   "cell_type": "code",
   "execution_count": 143,
   "metadata": {},
   "outputs": [
    {
     "ename": "ValueError",
     "evalue": "Classification metrics can't handle a mix of binary and continuous targets",
     "output_type": "error",
     "traceback": [
      "\u001b[0;31m---------------------------------------------------------------------------\u001b[0m",
      "\u001b[0;31mValueError\u001b[0m                                Traceback (most recent call last)",
      "\u001b[0;32m<ipython-input-143-942c89a2c754>\u001b[0m in \u001b[0;36m<module>\u001b[0;34m\u001b[0m\n\u001b[1;32m      1\u001b[0m \u001b[0;31m# y_pred = model.predict(d_valid)\u001b[0m\u001b[0;34m\u001b[0m\u001b[0;34m\u001b[0m\u001b[0;34m\u001b[0m\u001b[0m\n\u001b[0;32m----> 2\u001b[0;31m \u001b[0mscore\u001b[0m \u001b[0;34m=\u001b[0m \u001b[0maccuracy_score\u001b[0m\u001b[0;34m(\u001b[0m\u001b[0my_valid\u001b[0m\u001b[0;34m,\u001b[0m \u001b[0my_pred\u001b[0m\u001b[0;34m)\u001b[0m\u001b[0;34m\u001b[0m\u001b[0;34m\u001b[0m\u001b[0m\n\u001b[0m\u001b[1;32m      3\u001b[0m \u001b[0mprint\u001b[0m\u001b[0;34m(\u001b[0m\u001b[0;34mf'Accuracy: {round(score * 100, 2)}%'\u001b[0m\u001b[0;34m)\u001b[0m\u001b[0;34m\u001b[0m\u001b[0;34m\u001b[0m\u001b[0m\n",
      "\u001b[0;32m~/.local/lib/python3.6/site-packages/sklearn/utils/validation.py\u001b[0m in \u001b[0;36minner_f\u001b[0;34m(*args, **kwargs)\u001b[0m\n\u001b[1;32m     71\u001b[0m                           FutureWarning)\n\u001b[1;32m     72\u001b[0m         \u001b[0mkwargs\u001b[0m\u001b[0;34m.\u001b[0m\u001b[0mupdate\u001b[0m\u001b[0;34m(\u001b[0m\u001b[0;34m{\u001b[0m\u001b[0mk\u001b[0m\u001b[0;34m:\u001b[0m \u001b[0marg\u001b[0m \u001b[0;32mfor\u001b[0m \u001b[0mk\u001b[0m\u001b[0;34m,\u001b[0m \u001b[0marg\u001b[0m \u001b[0;32min\u001b[0m \u001b[0mzip\u001b[0m\u001b[0;34m(\u001b[0m\u001b[0msig\u001b[0m\u001b[0;34m.\u001b[0m\u001b[0mparameters\u001b[0m\u001b[0;34m,\u001b[0m \u001b[0margs\u001b[0m\u001b[0;34m)\u001b[0m\u001b[0;34m}\u001b[0m\u001b[0;34m)\u001b[0m\u001b[0;34m\u001b[0m\u001b[0;34m\u001b[0m\u001b[0m\n\u001b[0;32m---> 73\u001b[0;31m         \u001b[0;32mreturn\u001b[0m \u001b[0mf\u001b[0m\u001b[0;34m(\u001b[0m\u001b[0;34m**\u001b[0m\u001b[0mkwargs\u001b[0m\u001b[0;34m)\u001b[0m\u001b[0;34m\u001b[0m\u001b[0;34m\u001b[0m\u001b[0m\n\u001b[0m\u001b[1;32m     74\u001b[0m     \u001b[0;32mreturn\u001b[0m \u001b[0minner_f\u001b[0m\u001b[0;34m\u001b[0m\u001b[0;34m\u001b[0m\u001b[0m\n\u001b[1;32m     75\u001b[0m \u001b[0;34m\u001b[0m\u001b[0m\n",
      "\u001b[0;32m~/.local/lib/python3.6/site-packages/sklearn/metrics/_classification.py\u001b[0m in \u001b[0;36maccuracy_score\u001b[0;34m(y_true, y_pred, normalize, sample_weight)\u001b[0m\n\u001b[1;32m    185\u001b[0m \u001b[0;34m\u001b[0m\u001b[0m\n\u001b[1;32m    186\u001b[0m     \u001b[0;31m# Compute accuracy for each possible representation\u001b[0m\u001b[0;34m\u001b[0m\u001b[0;34m\u001b[0m\u001b[0;34m\u001b[0m\u001b[0m\n\u001b[0;32m--> 187\u001b[0;31m     \u001b[0my_type\u001b[0m\u001b[0;34m,\u001b[0m \u001b[0my_true\u001b[0m\u001b[0;34m,\u001b[0m \u001b[0my_pred\u001b[0m \u001b[0;34m=\u001b[0m \u001b[0m_check_targets\u001b[0m\u001b[0;34m(\u001b[0m\u001b[0my_true\u001b[0m\u001b[0;34m,\u001b[0m \u001b[0my_pred\u001b[0m\u001b[0;34m)\u001b[0m\u001b[0;34m\u001b[0m\u001b[0;34m\u001b[0m\u001b[0m\n\u001b[0m\u001b[1;32m    188\u001b[0m     \u001b[0mcheck_consistent_length\u001b[0m\u001b[0;34m(\u001b[0m\u001b[0my_true\u001b[0m\u001b[0;34m,\u001b[0m \u001b[0my_pred\u001b[0m\u001b[0;34m,\u001b[0m \u001b[0msample_weight\u001b[0m\u001b[0;34m)\u001b[0m\u001b[0;34m\u001b[0m\u001b[0;34m\u001b[0m\u001b[0m\n\u001b[1;32m    189\u001b[0m     \u001b[0;32mif\u001b[0m \u001b[0my_type\u001b[0m\u001b[0;34m.\u001b[0m\u001b[0mstartswith\u001b[0m\u001b[0;34m(\u001b[0m\u001b[0;34m'multilabel'\u001b[0m\u001b[0;34m)\u001b[0m\u001b[0;34m:\u001b[0m\u001b[0;34m\u001b[0m\u001b[0;34m\u001b[0m\u001b[0m\n",
      "\u001b[0;32m~/.local/lib/python3.6/site-packages/sklearn/metrics/_classification.py\u001b[0m in \u001b[0;36m_check_targets\u001b[0;34m(y_true, y_pred)\u001b[0m\n\u001b[1;32m     89\u001b[0m     \u001b[0;32mif\u001b[0m \u001b[0mlen\u001b[0m\u001b[0;34m(\u001b[0m\u001b[0my_type\u001b[0m\u001b[0;34m)\u001b[0m \u001b[0;34m>\u001b[0m \u001b[0;36m1\u001b[0m\u001b[0;34m:\u001b[0m\u001b[0;34m\u001b[0m\u001b[0;34m\u001b[0m\u001b[0m\n\u001b[1;32m     90\u001b[0m         raise ValueError(\"Classification metrics can't handle a mix of {0} \"\n\u001b[0;32m---> 91\u001b[0;31m                          \"and {1} targets\".format(type_true, type_pred))\n\u001b[0m\u001b[1;32m     92\u001b[0m \u001b[0;34m\u001b[0m\u001b[0m\n\u001b[1;32m     93\u001b[0m     \u001b[0;31m# We can't have more than one value on y_type => The set is no more needed\u001b[0m\u001b[0;34m\u001b[0m\u001b[0;34m\u001b[0m\u001b[0;34m\u001b[0m\u001b[0m\n",
      "\u001b[0;31mValueError\u001b[0m: Classification metrics can't handle a mix of binary and continuous targets"
     ]
    }
   ],
   "source": [
    "# y_pred = model.predict(d_valid)\n",
    "score = accuracy_score(y_valid, y_pred)\n",
    "print(f'Accuracy: {round(score * 100, 2)}%')"
   ]
  },
  {
   "cell_type": "code",
   "execution_count": 72,
   "metadata": {},
   "outputs": [
    {
     "name": "stdout",
     "output_type": "stream",
     "text": [
      "[[ 24 116]\n",
      " [  8 144]]\n"
     ]
    }
   ],
   "source": [
    "cf_matrix = confusion_matrix(y_test,y_pred, labels = ['Fake','True'])\n",
    "print(cf_matrix)"
   ]
  },
  {
   "cell_type": "code",
   "execution_count": 73,
   "metadata": {
    "scrolled": true
   },
   "outputs": [
    {
     "data": {
      "image/png": "[encoded data removed]",
      "text/plain": [
       "<Figure size 432x288 with 2 Axes>"
      ]
     },
     "metadata": {},
     "output_type": "display_data"
    }
   ],
   "source": [
    "ax = sns.heatmap(cf_matrix/np.sum(cf_matrix), annot=True, \n",
    "            fmt='.2%', cmap='Blues')\n",
    "bottom, top = ax.get_ylim()\n",
    "ax.set_ylim(bottom + 0.5, top - 0.5)\n",
    "\n",
    "plt.ylabel('Actual')\n",
    "plt.xlabel('Predicted')\n",
    "plt.show()"
   ]
  }
 ],
 "metadata": {
  "kernelspec": {
   "display_name": "Python 3",
   "language": "python",
   "name": "python3"
  },
  "language_info": {
   "codemirror_mode": {
    "name": "ipython",
    "version": 3
   },
   "file_extension": ".py",
   "mimetype": "text/x-python",
   "name": "python",
   "nbconvert_exporter": "python",
   "pygments_lexer": "ipython3",
   "version": "3.6.8"
  }
 },
 "nbformat": 4,
 "nbformat_minor": 2
}
