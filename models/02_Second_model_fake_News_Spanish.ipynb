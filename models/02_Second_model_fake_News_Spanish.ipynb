{
 "cells": [
  {
   "cell_type": "markdown",
   "metadata": {},
   "source": [
    "# Exploratory Data Analysis"
   ]
  },
  {
   "cell_type": "markdown",
   "metadata": {},
   "source": [
    "## Load the datasets\n",
    "\n",
    "1) Unify train dataset with test dataset\n",
    "\n",
    "2) Shuffle it\n",
    "\n",
    "3) Explore it"
   ]
  },
  {
   "cell_type": "code",
   "execution_count": 2,
   "metadata": {},
   "outputs": [],
   "source": [
    "import pandas as pd\n",
    "\n",
    "corpus_train = pd.read_excel('~/TFM_fake_news_detector/data/Corpus_spanish_train.xlsx', index_col = 0)\n",
    "corpus_test = pd.read_excel('~/TFM_fake_news_detector/data/Corpus_spanish_test.xlsx', index_col = 0)\n",
    "\n",
    "corpus = pd.concat([corpus_train, corpus_test])\n",
    "\n",
    "corpus = corpus.sample(frac = 1)"
   ]
  },
  {
   "cell_type": "code",
   "execution_count": 3,
   "metadata": {},
   "outputs": [
    {
     "name": "stdout",
     "output_type": "stream",
     "text": [
      "<class 'pandas.core.frame.DataFrame'>\n",
      "Int64Index: 971 entries, 33 to 144\n",
      "Data columns (total 6 columns):\n",
      "Category    971 non-null object\n",
      "Topic       971 non-null object\n",
      "Source      971 non-null object\n",
      "Headline    971 non-null object\n",
      "Text        971 non-null object\n",
      "Link        971 non-null object\n",
      "dtypes: object(6)\n",
      "memory usage: 53.1+ KB\n"
     ]
    }
   ],
   "source": [
    "corpus.info()"
   ]
  },
  {
   "cell_type": "code",
   "execution_count": 4,
   "metadata": {},
   "outputs": [
    {
     "data": {
      "text/html": [
       "<div>\n",
       "<style scoped>\n",
       "    .dataframe tbody tr th:only-of-type {\n",
       "        vertical-align: middle;\n",
       "    }\n",
       "\n",
       "    .dataframe tbody tr th {\n",
       "        vertical-align: top;\n",
       "    }\n",
       "\n",
       "    .dataframe thead th {\n",
       "        text-align: right;\n",
       "    }\n",
       "</style>\n",
       "<table border=\"1\" class=\"dataframe\">\n",
       "  <thead>\n",
       "    <tr style=\"text-align: right;\">\n",
       "      <th></th>\n",
       "      <th>Category</th>\n",
       "      <th>Topic</th>\n",
       "      <th>Source</th>\n",
       "      <th>Headline</th>\n",
       "      <th>Text</th>\n",
       "      <th>Link</th>\n",
       "    </tr>\n",
       "    <tr>\n",
       "      <th>Id</th>\n",
       "      <th></th>\n",
       "      <th></th>\n",
       "      <th></th>\n",
       "      <th></th>\n",
       "      <th></th>\n",
       "      <th></th>\n",
       "    </tr>\n",
       "  </thead>\n",
       "  <tbody>\n",
       "    <tr>\n",
       "      <th>33</th>\n",
       "      <td>True</td>\n",
       "      <td>Society</td>\n",
       "      <td>Proceso</td>\n",
       "      <td>Nuevo arzobispo de Antequera-Oaxaca llega a un...</td>\n",
       "      <td>Nuevo arzobispo de Antequera-Oaxaca llega a un...</td>\n",
       "      <td>https://www.proceso.com.mx/522312/nuevo-arzobi...</td>\n",
       "    </tr>\n",
       "    <tr>\n",
       "      <th>384</th>\n",
       "      <td>True</td>\n",
       "      <td>Politics</td>\n",
       "      <td>Animal Político</td>\n",
       "      <td>Enrique Ochoa dejó este miércoles la dirigenci...</td>\n",
       "      <td>Enrique Ochoa dejó este miércoles la dirigenci...</td>\n",
       "      <td>https://www.animalpolitico.com/2018/05/pri-enr...</td>\n",
       "    </tr>\n",
       "    <tr>\n",
       "      <th>627</th>\n",
       "      <td>True</td>\n",
       "      <td>Entertainment</td>\n",
       "      <td>HOLA</td>\n",
       "      <td>Paulina Peña habla por primera vez del legado ...</td>\n",
       "      <td>Paulina Peña habla por primera vez del legado ...</td>\n",
       "      <td>https://www.quien.com/politica/2018/01/25/paul...</td>\n",
       "    </tr>\n",
       "    <tr>\n",
       "      <th>224</th>\n",
       "      <td>Fake</td>\n",
       "      <td>Health</td>\n",
       "      <td>ABC sociedad</td>\n",
       "      <td>La Unión Europea podría prohibir los kebabs po...</td>\n",
       "      <td>La Unión Europea podría prohibir los kebabs po...</td>\n",
       "      <td>http://www.abc.es/sociedad/abci-union-europea-...</td>\n",
       "    </tr>\n",
       "    <tr>\n",
       "      <th>448</th>\n",
       "      <td>Fake</td>\n",
       "      <td>Politics</td>\n",
       "      <td>El Ruinaversal</td>\n",
       "      <td>INE AUTORIZA EL \"SUFRAGIO VIP\": EL VOTO DE EMP...</td>\n",
       "      <td>INE AUTORIZA EL \"SUFRAGIO VIP\": EL VOTO DE EMP...</td>\n",
       "      <td>http://www.elruinaversal.com/2018/06/19/ine-au...</td>\n",
       "    </tr>\n",
       "  </tbody>\n",
       "</table>\n",
       "</div>"
      ],
      "text/plain": [
       "    Category          Topic           Source  \\\n",
       "Id                                             \n",
       "33      True        Society          Proceso   \n",
       "384     True       Politics  Animal Político   \n",
       "627     True  Entertainment             HOLA   \n",
       "224     Fake         Health     ABC sociedad   \n",
       "448     Fake       Politics   El Ruinaversal   \n",
       "\n",
       "                                              Headline  \\\n",
       "Id                                                       \n",
       "33   Nuevo arzobispo de Antequera-Oaxaca llega a un...   \n",
       "384  Enrique Ochoa dejó este miércoles la dirigenci...   \n",
       "627  Paulina Peña habla por primera vez del legado ...   \n",
       "224  La Unión Europea podría prohibir los kebabs po...   \n",
       "448  INE AUTORIZA EL \"SUFRAGIO VIP\": EL VOTO DE EMP...   \n",
       "\n",
       "                                                  Text  \\\n",
       "Id                                                       \n",
       "33   Nuevo arzobispo de Antequera-Oaxaca llega a un...   \n",
       "384  Enrique Ochoa dejó este miércoles la dirigenci...   \n",
       "627  Paulina Peña habla por primera vez del legado ...   \n",
       "224  La Unión Europea podría prohibir los kebabs po...   \n",
       "448  INE AUTORIZA EL \"SUFRAGIO VIP\": EL VOTO DE EMP...   \n",
       "\n",
       "                                                  Link  \n",
       "Id                                                      \n",
       "33   https://www.proceso.com.mx/522312/nuevo-arzobi...  \n",
       "384  https://www.animalpolitico.com/2018/05/pri-enr...  \n",
       "627  https://www.quien.com/politica/2018/01/25/paul...  \n",
       "224  http://www.abc.es/sociedad/abci-union-europea-...  \n",
       "448  http://www.elruinaversal.com/2018/06/19/ine-au...  "
      ]
     },
     "execution_count": 4,
     "metadata": {},
     "output_type": "execute_result"
    }
   ],
   "source": [
    "corpus.head()"
   ]
  },
  {
   "cell_type": "code",
   "execution_count": 5,
   "metadata": {},
   "outputs": [],
   "source": [
    "labels = corpus['Category']"
   ]
  },
  {
   "cell_type": "markdown",
   "metadata": {},
   "source": [
    "## Modelling\n",
    "\n",
    "### CountVectorizer\n",
    "\n",
    "The CountVectorizer provides a simple way to both tokenize a collection of text documents and build a vocabulary of known words, but also to encode new documents using that vocabulary.\n",
    "\n",
    "You can use it as follows:\n",
    "\n",
    "Create an instance of the CountVectorizer class.\n",
    "Call the fit() function in order to learn a vocabulary from one or more documents.\n",
    "Call the transform() function on one or more documents as needed to encode each as a vector.\n",
    "An encoded vector is returned with a length of the entire vocabulary and an integer count for the number of times each word appeared in the document.\n",
    "\n",
    "### Passive Aggressive Classifier\n",
    "\n",
    "Passive Aggressive are considered algorithms for online learning. Their characteristic is that they remain passive when dealing with an outcome which has been correctly classified, and become aggressive when a miscalculation takes place, thus constantly self-updating and adjusting."
   ]
  },
  {
   "cell_type": "code",
   "execution_count": 5,
   "metadata": {},
   "outputs": [],
   "source": [
    "import nltk"
   ]
  },
  {
   "cell_type": "code",
   "execution_count": 6,
   "metadata": {},
   "outputs": [],
   "source": [
    "import itertools\n",
    "import seaborn as sns\n",
    "import numpy as np\n",
    "from matplotlib import pyplot as plt\n",
    "%matplotlib inline\n",
    "\n",
    "from sklearn.model_selection import train_test_split\n",
    "from sklearn.feature_extraction.text import TfidfVectorizer\n",
    "from sklearn.feature_extraction.text import CountVectorizer\n",
    "from sklearn.linear_model import PassiveAggressiveClassifier\n",
    "from sklearn.metrics import accuracy_score, confusion_matrix"
   ]
  },
  {
   "cell_type": "code",
   "execution_count": 7,
   "metadata": {},
   "outputs": [],
   "source": [
    "from nltk.corpus import stopwords  \n",
    "from nltk import word_tokenize  \n",
    "from nltk.data import load  \n",
    "from nltk.stem import SnowballStemmer  \n",
    "from string import punctuation"
   ]
  },
  {
   "cell_type": "code",
   "execution_count": 32,
   "metadata": {},
   "outputs": [],
   "source": [
    "#Stopword list to use\n",
    "spanish_stopwords = stopwords.words('spanish')"
   ]
  },
  {
   "cell_type": "code",
   "execution_count": 33,
   "metadata": {},
   "outputs": [],
   "source": [
    "#Spanish stemmer: Stemming is the process to transform any word into its rooting word, considering them as the same word\n",
    "stemmer = SnowballStemmer('spanish')\n",
    "\n",
    "def stem_tokens(tokens, stemmer):  \n",
    "    stemmed = []\n",
    "    for item in tokens:\n",
    "        stemmed.append(stemmer.stem(item))\n",
    "    return stemmed"
   ]
  },
  {
   "cell_type": "code",
   "execution_count": 34,
   "metadata": {},
   "outputs": [],
   "source": [
    "#Punctuation to remove\n",
    "non_words = list(punctuation)\n",
    "\n",
    "#Adding spanish punctuation\n",
    "non_words.extend(['¿', '¡'])  \n",
    "non_words.extend(map(str,range(10)))"
   ]
  },
  {
   "cell_type": "code",
   "execution_count": 35,
   "metadata": {},
   "outputs": [],
   "source": [
    "def tokenize(text):  \n",
    "    #Remove punctuation\n",
    "    text = ''.join([c for c in text if c not in non_words])\n",
    "    #Tokenize\n",
    "    tokens =  word_tokenize(text)\n",
    "\n",
    "    #Stem\n",
    "    try:\n",
    "        stems = stem_tokens(tokens, stemmer)\n",
    "    except Exception as e:\n",
    "        print(e)\n",
    "        print(text)\n",
    "        stems = ['']\n",
    "    return stems"
   ]
  },
  {
   "cell_type": "code",
   "execution_count": 36,
   "metadata": {},
   "outputs": [],
   "source": [
    "vectorizer = CountVectorizer(  \n",
    "                analyzer = 'word',\n",
    "                tokenizer = tokenize,\n",
    "                lowercase = True,\n",
    "                stop_words = spanish_stopwords)"
   ]
  },
  {
   "cell_type": "markdown",
   "metadata": {},
   "source": [
    "#### Split into training and test sets"
   ]
  },
  {
   "cell_type": "code",
   "execution_count": 37,
   "metadata": {},
   "outputs": [],
   "source": [
    "x_train,x_test,y_train,y_test = train_test_split(corpus['Text'], labels, test_size=0.3, random_state=7)"
   ]
  },
  {
   "cell_type": "code",
   "execution_count": 38,
   "metadata": {},
   "outputs": [
    {
     "name": "stderr",
     "output_type": "stream",
     "text": [
      "/home/pipe11/.local/lib/python3.6/site-packages/sklearn/feature_extraction/text.py:386: UserWarning: Your stop_words may be inconsistent with your preprocessing. Tokenizing the stop words generated tokens ['algun', 'com', 'contr', 'cuand', 'desd', 'dond', 'durant', 'eram', 'estab', 'estais', 'estam', 'estan', 'estand', 'estaran', 'estaras', 'esteis', 'estem', 'esten', 'estes', 'estuv', 'fuer', 'fues', 'fuim', 'fuist', 'hab', 'habr', 'habran', 'habras', 'hast', 'hem', 'hub', 'mas', 'mia', 'mias', 'mio', 'mios', 'much', 'nad', 'nosotr', 'nuestr', 'par', 'per', 'poc', 'porqu', 'qui', 'seais', 'seam', 'sent', 'ser', 'seran', 'seras', 'si', 'sient', 'sint', 'sobr', 'som', 'suy', 'tambien', 'tant', 'ten', 'tendr', 'tendran', 'tendras', 'teng', 'tien', 'tod', 'tuv', 'tuy', 'vosotr', 'vuestr'] not in stop_words.\n",
      "  'stop_words.' % sorted(inconsistent))\n"
     ]
    },
    {
     "name": "stdout",
     "output_type": "stream",
     "text": [
      "  (0, 638)\t3\n",
      "  (0, 10357)\t3\n",
      "  (0, 5784)\t5\n",
      "  (0, 10583)\t2\n",
      "  (0, 6177)\t2\n",
      "  (0, 12330)\t2\n",
      "  (0, 8640)\t3\n",
      "  (0, 11375)\t2\n",
      "  (0, 8864)\t2\n",
      "  (0, 9448)\t1\n",
      "  (0, 3185)\t1\n",
      "  (0, 7671)\t2\n",
      "  (0, 949)\t2\n",
      "  (0, 12236)\t1\n",
      "  (0, 10838)\t1\n",
      "  (0, 7331)\t1\n",
      "  (0, 5854)\t1\n",
      "  (0, 12198)\t1\n",
      "  (0, 11748)\t1\n",
      "  (0, 9754)\t2\n",
      "  (0, 9868)\t1\n",
      "  (0, 5403)\t1\n",
      "  (0, 6714)\t1\n",
      "  (0, 4519)\t1\n",
      "  (0, 8714)\t3\n",
      "  :\t:\n",
      "  (678, 9)\t1\n",
      "  (678, 4680)\t1\n",
      "  (678, 4673)\t1\n",
      "  (678, 6786)\t1\n",
      "  (678, 7389)\t1\n",
      "  (678, 12270)\t4\n",
      "  (678, 1736)\t1\n",
      "  (678, 2558)\t1\n",
      "  (678, 2831)\t1\n",
      "  (678, 8451)\t1\n",
      "  (678, 2551)\t1\n",
      "  (678, 1576)\t1\n",
      "  (678, 5294)\t1\n",
      "  (678, 2339)\t4\n",
      "  (678, 7881)\t1\n",
      "  (678, 4461)\t1\n",
      "  (678, 4395)\t1\n",
      "  (678, 7135)\t1\n",
      "  (678, 9282)\t1\n",
      "  (678, 10975)\t1\n",
      "  (678, 7164)\t1\n",
      "  (678, 6378)\t1\n",
      "  (678, 3249)\t1\n",
      "  (678, 7241)\t1\n",
      "  (678, 11995)\t1\n"
     ]
    }
   ],
   "source": [
    "c_train = vectorizer.fit_transform(x_train.values)\n",
    "c_test = vectorizer.transform(x_test.values)\n",
    "\n",
    "print(c_train)"
   ]
  },
  {
   "cell_type": "code",
   "execution_count": 39,
   "metadata": {},
   "outputs": [
    {
     "data": {
      "text/plain": [
       "(679, 12722)"
      ]
     },
     "execution_count": 39,
     "metadata": {},
     "output_type": "execute_result"
    }
   ],
   "source": [
    "c_train.shape"
   ]
  },
  {
   "cell_type": "code",
   "execution_count": 40,
   "metadata": {},
   "outputs": [
    {
     "data": {
      "text/plain": [
       "(292, 12722)"
      ]
     },
     "execution_count": 40,
     "metadata": {},
     "output_type": "execute_result"
    }
   ],
   "source": [
    "c_test.shape"
   ]
  },
  {
   "cell_type": "markdown",
   "metadata": {},
   "source": [
    "Initializes the Passive Aggressive Classifier"
   ]
  },
  {
   "cell_type": "code",
   "execution_count": 41,
   "metadata": {},
   "outputs": [
    {
     "data": {
      "text/plain": [
       "PassiveAggressiveClassifier(max_iter=50)"
      ]
     },
     "execution_count": 41,
     "metadata": {},
     "output_type": "execute_result"
    }
   ],
   "source": [
    "pa_classifier_1 = PassiveAggressiveClassifier(max_iter=50)\n",
    "pa_classifier_1.fit(c_train,y_train)"
   ]
  },
  {
   "cell_type": "code",
   "execution_count": 42,
   "metadata": {},
   "outputs": [
    {
     "name": "stdout",
     "output_type": "stream",
     "text": [
      "Accuracy: 82.19%\n"
     ]
    }
   ],
   "source": [
    "y_pred = pa_classifier_1.predict(c_test)\n",
    "score = accuracy_score(y_test,y_pred)\n",
    "print(f'Accuracy: {round(score*100,2)}%')"
   ]
  },
  {
   "cell_type": "code",
   "execution_count": 43,
   "metadata": {},
   "outputs": [
    {
     "name": "stdout",
     "output_type": "stream",
     "text": [
      "[[117  21]\n",
      " [ 31 123]]\n"
     ]
    }
   ],
   "source": [
    "cf_matrix = confusion_matrix(y_test,y_pred, labels=['Fake','True'])\n",
    "print(cf_matrix)"
   ]
  },
  {
   "cell_type": "code",
   "execution_count": 48,
   "metadata": {
    "scrolled": true
   },
   "outputs": [
    {
     "data": {
      "image/png": "[encoded data removed]",
      "text/plain": [
       "<Figure size 432x288 with 2 Axes>"
      ]
     },
     "metadata": {},
     "output_type": "display_data"
    }
   ],
   "source": [
    "ax = sns.heatmap(cf_matrix/np.sum(cf_matrix), annot=True, \n",
    "            fmt='.2%', cmap='Blues')\n",
    "bottom, top = ax.get_ylim()\n",
    "ax.set_ylim(bottom + 0.5, top - 0.5)\n",
    "\n",
    "plt.ylabel('Actual')\n",
    "plt.xlabel('Predicted')\n",
    "plt.show()"
   ]
  },
  {
   "cell_type": "markdown",
   "metadata": {},
   "source": [
    "## TfidfVectorizer\n",
    "\n",
    "The TfidfVectorizer serves us to convert a collection of raw documents into a matrix of TF and IDF features.\n",
    "\n",
    "### IDF (Inverse Document Frequency)\n",
    "\n",
    "The IDF is used to calculate how many times a word appears on a set of documents.\n",
    "\n",
    "### TF (Term Frequency)\n",
    "\n",
    "The TF, unlike the IDF is the number of times a word appears in a single document.\n",
    "\n",
    "### Declare a TfidfVectorizer with stop words from English and we will allow up to a document frequency of 0.8\n",
    "### Then fit and transform it to the dataset"
   ]
  },
  {
   "cell_type": "code",
   "execution_count": 50,
   "metadata": {},
   "outputs": [],
   "source": [
    "tfidf_vectorizer = TfidfVectorizer(  \n",
    "                analyzer = 'word',\n",
    "                tokenizer = tokenize,\n",
    "                lowercase = True,\n",
    "                stop_words = spanish_stopwords)"
   ]
  },
  {
   "cell_type": "code",
   "execution_count": 51,
   "metadata": {},
   "outputs": [
    {
     "name": "stderr",
     "output_type": "stream",
     "text": [
      "/home/pipe11/.local/lib/python3.6/site-packages/sklearn/feature_extraction/text.py:386: UserWarning: Your stop_words may be inconsistent with your preprocessing. Tokenizing the stop words generated tokens ['algun', 'com', 'contr', 'cuand', 'desd', 'dond', 'durant', 'eram', 'estab', 'estais', 'estam', 'estan', 'estand', 'estaran', 'estaras', 'esteis', 'estem', 'esten', 'estes', 'estuv', 'fuer', 'fues', 'fuim', 'fuist', 'hab', 'habr', 'habran', 'habras', 'hast', 'hem', 'hub', 'mas', 'mia', 'mias', 'mio', 'mios', 'much', 'nad', 'nosotr', 'nuestr', 'par', 'per', 'poc', 'porqu', 'qui', 'seais', 'seam', 'sent', 'ser', 'seran', 'seras', 'si', 'sient', 'sint', 'sobr', 'som', 'suy', 'tambien', 'tant', 'ten', 'tendr', 'tendran', 'tendras', 'teng', 'tien', 'tod', 'tuv', 'tuy', 'vosotr', 'vuestr'] not in stop_words.\n",
      "  'stop_words.' % sorted(inconsistent))\n"
     ]
    }
   ],
   "source": [
    "tfidf_train = tfidf_vectorizer.fit_transform(x_train) \n",
    "tfidf_test = tfidf_vectorizer.transform(x_test)"
   ]
  },
  {
   "cell_type": "code",
   "execution_count": 52,
   "metadata": {},
   "outputs": [
    {
     "name": "stdout",
     "output_type": "stream",
     "text": [
      "  (0, 4867)\t0.09487438349796473\n",
      "  (0, 5630)\t0.057739186792188146\n",
      "  (0, 6241)\t0.04957953305978498\n",
      "  (0, 2813)\t0.08611044358121214\n",
      "  (0, 10791)\t0.046507676406413616\n",
      "  (0, 12155)\t0.11036081137508882\n",
      "  (0, 3892)\t0.04804360473309929\n",
      "  (0, 5968)\t0.06906660455827178\n",
      "  (0, 10095)\t0.12254301205383092\n",
      "  (0, 3076)\t0.05177681821945501\n",
      "  (0, 6264)\t0.07893367885028936\n",
      "  (0, 3025)\t0.10273951383037691\n",
      "  (0, 8925)\t0.09091465903678546\n",
      "  (0, 4555)\t0.05533850895111285\n",
      "  (0, 5304)\t0.08281374063337585\n",
      "  (0, 3266)\t0.056849541721771375\n",
      "  (0, 11645)\t0.03141453448393453\n",
      "  (0, 4788)\t0.10439844280235569\n",
      "  (0, 8221)\t0.06560431712460034\n",
      "  (0, 3036)\t0.04179848214451279\n",
      "  (0, 3682)\t0.09003258770951912\n",
      "  (0, 8510)\t0.07069938141586504\n",
      "  (0, 7805)\t0.04704325008112484\n",
      "  (0, 9666)\t0.041464191866718486\n",
      "  (0, 4027)\t0.08106124243745358\n",
      "  :\t:\n",
      "  (678, 11485)\t0.024027395343672545\n",
      "  (678, 1411)\t0.09520012623728791\n",
      "  (678, 11699)\t0.059009545326152976\n",
      "  (678, 5099)\t0.03200847315189939\n",
      "  (678, 2495)\t0.07342689622324157\n",
      "  (678, 3245)\t0.0339136769952965\n",
      "  (678, 11775)\t0.03630923390814618\n",
      "  (678, 8308)\t0.04615724273456757\n",
      "  (678, 3470)\t0.025340432407937437\n",
      "  (678, 5620)\t0.024972623955495033\n",
      "  (678, 5020)\t0.03094384726120583\n",
      "  (678, 8907)\t0.019494425223379457\n",
      "  (678, 12087)\t0.033698351132296696\n",
      "  (678, 2483)\t0.015292635703180884\n",
      "  (678, 5630)\t0.0335921131948728\n",
      "  (678, 10791)\t0.02705772659905442\n",
      "  (678, 3076)\t0.060246527016677806\n",
      "  (678, 11645)\t0.03655335854128581\n",
      "  (678, 8221)\t0.03816797169058967\n",
      "  (678, 8049)\t0.047830722015885396\n",
      "  (678, 7448)\t0.03364701147356992\n",
      "  (678, 4872)\t0.035172042535279356\n",
      "  (678, 173)\t0.026457705904805756\n",
      "  (678, 8714)\t0.013893045831507836\n",
      "  (678, 5784)\t0.11497068004713357\n"
     ]
    }
   ],
   "source": [
    "print(tfidf_train)"
   ]
  },
  {
   "cell_type": "code",
   "execution_count": 53,
   "metadata": {},
   "outputs": [
    {
     "name": "stdout",
     "output_type": "stream",
     "text": [
      "  (0, 12511)\t0.06745822073680367\n",
      "  (0, 12282)\t0.12381950242234124\n",
      "  (0, 12236)\t0.03983004080300405\n",
      "  (0, 12087)\t0.04020701049012902\n",
      "  (0, 11849)\t0.05109923819379035\n",
      "  (0, 11775)\t0.04332217154786006\n",
      "  (0, 11722)\t0.14050302965857114\n",
      "  (0, 11265)\t0.07660809780900758\n",
      "  (0, 11208)\t0.058358211490182776\n",
      "  (0, 10788)\t0.11253899843237036\n",
      "  (0, 10685)\t0.10507423024219628\n",
      "  (0, 10499)\t0.057068974511337744\n",
      "  (0, 10268)\t0.04182218368987935\n",
      "  (0, 10164)\t0.07509229152911845\n",
      "  (0, 9947)\t0.08022372161491341\n",
      "  (0, 9648)\t0.06190532821458576\n",
      "  (0, 9616)\t0.0528277367802495\n",
      "  (0, 9406)\t0.03062191728170029\n",
      "  (0, 9404)\t0.08860694726645606\n",
      "  (0, 9265)\t0.08827483184706628\n",
      "  (0, 9214)\t0.03575334736749525\n",
      "  (0, 9207)\t0.1737465124556233\n",
      "  (0, 9191)\t0.034673827156771315\n",
      "  (0, 8760)\t0.02465835160687084\n",
      "  (0, 8714)\t0.03315282918705868\n",
      "  :\t:\n",
      "  (291, 5733)\t0.08788685526948231\n",
      "  (291, 5578)\t0.05549957703731301\n",
      "  (291, 5543)\t0.03911245375189887\n",
      "  (291, 5111)\t0.07629402108623282\n",
      "  (291, 4810)\t0.17577371053896462\n",
      "  (291, 4669)\t0.09160744266697135\n",
      "  (291, 3740)\t0.05083497728297735\n",
      "  (291, 3658)\t0.03799745597209555\n",
      "  (291, 3609)\t0.06891940425964213\n",
      "  (291, 3578)\t0.03382544972528813\n",
      "  (291, 3383)\t0.08210106731265833\n",
      "  (291, 3284)\t0.07010990468771594\n",
      "  (291, 3283)\t0.05388805496721097\n",
      "  (291, 3234)\t0.02924687675410606\n",
      "  (291, 3170)\t0.04623132250137049\n",
      "  (291, 2984)\t0.08395075355207329\n",
      "  (291, 2896)\t0.06126267179380165\n",
      "  (291, 2662)\t0.08788685526948231\n",
      "  (291, 1850)\t0.05549957703731301\n",
      "  (291, 1595)\t0.19759897972622553\n",
      "  (291, 1433)\t0.37373791622797353\n",
      "  (291, 1254)\t0.14021980937543188\n",
      "  (291, 1117)\t0.04459569095585804\n",
      "  (291, 823)\t0.08395075355207329\n",
      "  (291, 242)\t0.13783880851928426\n"
     ]
    }
   ],
   "source": [
    "print(tfidf_test)"
   ]
  },
  {
   "cell_type": "markdown",
   "metadata": {},
   "source": [
    "Initializes the Passive Aggressive Classifier"
   ]
  },
  {
   "cell_type": "code",
   "execution_count": 54,
   "metadata": {},
   "outputs": [
    {
     "data": {
      "text/plain": [
       "PassiveAggressiveClassifier(max_iter=50)"
      ]
     },
     "execution_count": 54,
     "metadata": {},
     "output_type": "execute_result"
    }
   ],
   "source": [
    "pa_classifier_2 = PassiveAggressiveClassifier(max_iter=50)\n",
    "pa_classifier_2.fit(tfidf_train,y_train)"
   ]
  },
  {
   "cell_type": "markdown",
   "metadata": {},
   "source": [
    "## Predictions & results"
   ]
  },
  {
   "cell_type": "code",
   "execution_count": 55,
   "metadata": {},
   "outputs": [
    {
     "name": "stdout",
     "output_type": "stream",
     "text": [
      "Accuracy: 78.42%\n"
     ]
    }
   ],
   "source": [
    "y_pred_2 = pa_classifier_2.predict(tfidf_test)\n",
    "score = accuracy_score(y_test,y_pred_2)\n",
    "print(f'Accuracy: {round(score*100,2)}%')"
   ]
  },
  {
   "cell_type": "code",
   "execution_count": 58,
   "metadata": {},
   "outputs": [
    {
     "name": "stdout",
     "output_type": "stream",
     "text": [
      "[[109  29]\n",
      " [ 34 120]]\n"
     ]
    }
   ],
   "source": [
    "cf_matrix = confusion_matrix(y_test,y_pred_2, labels = ['Fake','True'])\n",
    "print(cf_matrix)"
   ]
  },
  {
   "cell_type": "code",
   "execution_count": 59,
   "metadata": {
    "scrolled": true
   },
   "outputs": [
    {
     "data": {
      "image/png": "[encoded data removed]",
      "text/plain": [
       "<Figure size 432x288 with 2 Axes>"
      ]
     },
     "metadata": {},
     "output_type": "display_data"
    }
   ],
   "source": [
    "ax = sns.heatmap(cf_matrix/np.sum(cf_matrix), annot=True, \n",
    "            fmt='.2%', cmap='Blues')\n",
    "bottom, top = ax.get_ylim()\n",
    "ax.set_ylim(bottom + 0.5, top - 0.5)\n",
    "\n",
    "plt.ylabel('Actual')\n",
    "plt.xlabel('Predicted')\n",
    "plt.show()"
   ]
  }
 ],
 "metadata": {
  "kernelspec": {
   "display_name": "Python 3",
   "language": "python",
   "name": "python3"
  },
  "language_info": {
   "codemirror_mode": {
    "name": "ipython",
    "version": 3
   },
   "file_extension": ".py",
   "mimetype": "text/x-python",
   "name": "python",
   "nbconvert_exporter": "python",
   "pygments_lexer": "ipython3",
   "version": "3.6.8"
  }
 },
 "nbformat": 4,
 "nbformat_minor": 2
}
