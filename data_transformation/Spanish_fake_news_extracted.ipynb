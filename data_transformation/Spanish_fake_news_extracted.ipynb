{
 "cells": [
  {
   "cell_type": "code",
   "execution_count": 1,
   "metadata": {},
   "outputs": [],
   "source": [
    "import pandas as pd\n",
    "\n",
    "df = pd.read_csv('news_csv_spanish.csv', lineterminator = '\\n')"
   ]
  },
  {
   "cell_type": "code",
   "execution_count": 2,
   "metadata": {},
   "outputs": [
    {
     "data": {
      "text/plain": [
       "(4612, 6)"
      ]
     },
     "execution_count": 2,
     "metadata": {},
     "output_type": "execute_result"
    }
   ],
   "source": [
    "df.shape"
   ]
  },
  {
   "cell_type": "code",
   "execution_count": 3,
   "metadata": {},
   "outputs": [
    {
     "data": {
      "text/html": [
       "<div>\n",
       "<style scoped>\n",
       "    .dataframe tbody tr th:only-of-type {\n",
       "        vertical-align: middle;\n",
       "    }\n",
       "\n",
       "    .dataframe tbody tr th {\n",
       "        vertical-align: top;\n",
       "    }\n",
       "\n",
       "    .dataframe thead th {\n",
       "        text-align: right;\n",
       "    }\n",
       "</style>\n",
       "<table border=\"1\" class=\"dataframe\">\n",
       "  <thead>\n",
       "    <tr style=\"text-align: right;\">\n",
       "      <th></th>\n",
       "      <th>id</th>\n",
       "      <th>domain</th>\n",
       "      <th>type</th>\n",
       "      <th>url</th>\n",
       "      <th>content</th>\n",
       "      <th>title</th>\n",
       "    </tr>\n",
       "  </thead>\n",
       "  <tbody>\n",
       "    <tr>\n",
       "      <th>0</th>\n",
       "      <td>30301</td>\n",
       "      <td>actualidadpanamericana.com</td>\n",
       "      <td>satire</td>\n",
       "      <td>http://www.actualidadpanamericana.com/allanada...</td>\n",
       "      <td>Esta mañana unidades del CTI allanaron las ofi...</td>\n",
       "      <td>Allanadas oficinas de Actualidad Panamericana ...</td>\n",
       "    </tr>\n",
       "    <tr>\n",
       "      <th>1</th>\n",
       "      <td>30303</td>\n",
       "      <td>actualidadpanamericana.com</td>\n",
       "      <td>satire</td>\n",
       "      <td>http://www.actualidadpanamericana.com/ya-abrie...</td>\n",
       "      <td>Algo de sosiego trajo a los miles de viajeros ...</td>\n",
       "      <td>Ya abrieron un D1 en trancón de La Línea</td>\n",
       "    </tr>\n",
       "    <tr>\n",
       "      <th>2</th>\n",
       "      <td>30304</td>\n",
       "      <td>actualidadpanamericana.com</td>\n",
       "      <td>satire</td>\n",
       "      <td>http://www.actualidadpanamericana.com/jaguares...</td>\n",
       "      <td>El fin de año es época de anuncios en el fútbo...</td>\n",
       "      <td>Jaguares anunció a Dimayor como patrocinador p...</td>\n",
       "    </tr>\n",
       "    <tr>\n",
       "      <th>3</th>\n",
       "      <td>30305</td>\n",
       "      <td>actualidadpanamericana.com</td>\n",
       "      <td>satire</td>\n",
       "      <td>http://www.actualidadpanamericana.com/embajado...</td>\n",
       "      <td>Un mico de última hora en la nueva ley que rig...</td>\n",
       "      <td>Embajadora de Florhuila, Claudia Bahamón defie...</td>\n",
       "    </tr>\n",
       "    <tr>\n",
       "      <th>4</th>\n",
       "      <td>30348</td>\n",
       "      <td>actualidadpanamericana.com</td>\n",
       "      <td>satire</td>\n",
       "      <td>http://www.actualidadpanamericana.com/guia-inv...</td>\n",
       "      <td>Cada nuevo año es la oportunidad para planear ...</td>\n",
       "      <td>Guía para invertir su dinero en 2018</td>\n",
       "    </tr>\n",
       "  </tbody>\n",
       "</table>\n",
       "</div>"
      ],
      "text/plain": [
       "      id                      domain    type  \\\n",
       "0  30301  actualidadpanamericana.com  satire   \n",
       "1  30303  actualidadpanamericana.com  satire   \n",
       "2  30304  actualidadpanamericana.com  satire   \n",
       "3  30305  actualidadpanamericana.com  satire   \n",
       "4  30348  actualidadpanamericana.com  satire   \n",
       "\n",
       "                                                 url  \\\n",
       "0  http://www.actualidadpanamericana.com/allanada...   \n",
       "1  http://www.actualidadpanamericana.com/ya-abrie...   \n",
       "2  http://www.actualidadpanamericana.com/jaguares...   \n",
       "3  http://www.actualidadpanamericana.com/embajado...   \n",
       "4  http://www.actualidadpanamericana.com/guia-inv...   \n",
       "\n",
       "                                             content  \\\n",
       "0  Esta mañana unidades del CTI allanaron las ofi...   \n",
       "1  Algo de sosiego trajo a los miles de viajeros ...   \n",
       "2  El fin de año es época de anuncios en el fútbo...   \n",
       "3  Un mico de última hora en la nueva ley que rig...   \n",
       "4  Cada nuevo año es la oportunidad para planear ...   \n",
       "\n",
       "                                               title  \n",
       "0  Allanadas oficinas de Actualidad Panamericana ...  \n",
       "1           Ya abrieron un D1 en trancón de La Línea  \n",
       "2  Jaguares anunció a Dimayor como patrocinador p...  \n",
       "3  Embajadora de Florhuila, Claudia Bahamón defie...  \n",
       "4               Guía para invertir su dinero en 2018  "
      ]
     },
     "execution_count": 3,
     "metadata": {},
     "output_type": "execute_result"
    }
   ],
   "source": [
    "df.head()"
   ]
  },
  {
   "cell_type": "code",
   "execution_count": 4,
   "metadata": {},
   "outputs": [
    {
     "data": {
      "text/plain": [
       "Index(['id', 'domain', 'type', 'url', 'content', 'title'], dtype='object')"
      ]
     },
     "execution_count": 4,
     "metadata": {},
     "output_type": "execute_result"
    }
   ],
   "source": [
    "df.columns"
   ]
  },
  {
   "cell_type": "code",
   "execution_count": 8,
   "metadata": {},
   "outputs": [],
   "source": [
    "df = df[['domain', 'type', 'title', 'content', 'url']]"
   ]
  },
  {
   "cell_type": "code",
   "execution_count": 11,
   "metadata": {},
   "outputs": [
    {
     "data": {
      "text/html": [
       "<div>\n",
       "<style scoped>\n",
       "    .dataframe tbody tr th:only-of-type {\n",
       "        vertical-align: middle;\n",
       "    }\n",
       "\n",
       "    .dataframe tbody tr th {\n",
       "        vertical-align: top;\n",
       "    }\n",
       "\n",
       "    .dataframe thead th {\n",
       "        text-align: right;\n",
       "    }\n",
       "</style>\n",
       "<table border=\"1\" class=\"dataframe\">\n",
       "  <thead>\n",
       "    <tr style=\"text-align: right;\">\n",
       "      <th></th>\n",
       "      <th>domain</th>\n",
       "      <th>type</th>\n",
       "      <th>title</th>\n",
       "      <th>content</th>\n",
       "      <th>url</th>\n",
       "    </tr>\n",
       "  </thead>\n",
       "  <tbody>\n",
       "    <tr>\n",
       "      <th>2459</th>\n",
       "      <td>nutritionfacts.org</td>\n",
       "      <td>reliable</td>\n",
       "      <td>¿Cuáles son los alimentos más saludables?</td>\n",
       "      <td>Las últimas directrices alimentarias (las de 2...</td>\n",
       "      <td>https://nutritionfacts.org/es/video/cuales-son...</td>\n",
       "    </tr>\n",
       "    <tr>\n",
       "      <th>958</th>\n",
       "      <td>nutritionfacts.org</td>\n",
       "      <td>reliable</td>\n",
       "      <td>NutritionFacts.org</td>\n",
       "      <td>Semillas de lino contra el cáncer de próstata\\...</td>\n",
       "      <td>https://nutritionfacts.org/es/topics/prostatec...</td>\n",
       "    </tr>\n",
       "    <tr>\n",
       "      <th>2134</th>\n",
       "      <td>actualidadpanamericana.com</td>\n",
       "      <td>satire</td>\n",
       "      <td>“Oro del galeón tiene que ser para Springer”, ...</td>\n",
       "      <td>Hacía falta el pronunciamiento del Fiscal resp...</td>\n",
       "      <td>http://www.actualidadpanamericana.com/oro-del-...</td>\n",
       "    </tr>\n",
       "    <tr>\n",
       "      <th>3237</th>\n",
       "      <td>nutritionfacts.org</td>\n",
       "      <td>reliable</td>\n",
       "      <td>Emulsión Derivada Del Coco</td>\n",
       "      <td>a nuestros voluntarios ¡Envía tu solicitud!</td>\n",
       "      <td>https://nutritionfacts.org/es/topics/emulsion-...</td>\n",
       "    </tr>\n",
       "    <tr>\n",
       "      <th>2671</th>\n",
       "      <td>nutritionfacts.org</td>\n",
       "      <td>reliable</td>\n",
       "      <td>Avoiding Chicken to Avoid Bladder Infections</td>\n",
       "      <td>Puedes compartir este material en la red o imp...</td>\n",
       "      <td>https://nutritionfacts.org/es/video/avoiding-c...</td>\n",
       "    </tr>\n",
       "    <tr>\n",
       "      <th>4331</th>\n",
       "      <td>nutritionfacts.org</td>\n",
       "      <td>reliable</td>\n",
       "      <td>NutritionFacts.org</td>\n",
       "      <td>Alimentación a base de vegetales para la diabe...</td>\n",
       "      <td>https://nutritionfacts.org/es/topics/legumbres...</td>\n",
       "    </tr>\n",
       "    <tr>\n",
       "      <th>1934</th>\n",
       "      <td>actualidadpanamericana.com</td>\n",
       "      <td>satire</td>\n",
       "      <td>Por culpa de Peppa pig, niños de Ibagué se nie...</td>\n",
       "      <td>Una polémica se ha desatado en Ibagué; ciudad ...</td>\n",
       "      <td>http://www.actualidadpanamericana.com/por-culp...</td>\n",
       "    </tr>\n",
       "    <tr>\n",
       "      <th>3755</th>\n",
       "      <td>nutritionfacts.org</td>\n",
       "      <td>reliable</td>\n",
       "      <td>Aceite De Cártamo</td>\n",
       "      <td>El vinagre y la función arterial\\n\\nRociar vin...</td>\n",
       "      <td>https://nutritionfacts.org/es/topics/aceite-de...</td>\n",
       "    </tr>\n",
       "    <tr>\n",
       "      <th>728</th>\n",
       "      <td>nutritionfacts.org</td>\n",
       "      <td>reliable</td>\n",
       "      <td>Flame-Retardant Chemical Contamination</td>\n",
       "      <td>Puedes compartir este material en la red o imp...</td>\n",
       "      <td>https://nutritionfacts.org/es/video/flame-reta...</td>\n",
       "    </tr>\n",
       "    <tr>\n",
       "      <th>13</th>\n",
       "      <td>actualidadpanamericana.com</td>\n",
       "      <td>satire</td>\n",
       "      <td>Mike Bahía se quedó hablando en ‘Autotune’</td>\n",
       "      <td>Los fans del famoso reguetonero están en ascua...</td>\n",
       "      <td>http://www.actualidadpanamericana.com/mike-bah...</td>\n",
       "    </tr>\n",
       "  </tbody>\n",
       "</table>\n",
       "</div>"
      ],
      "text/plain": [
       "                          domain      type  \\\n",
       "2459          nutritionfacts.org  reliable   \n",
       "958           nutritionfacts.org  reliable   \n",
       "2134  actualidadpanamericana.com    satire   \n",
       "3237          nutritionfacts.org  reliable   \n",
       "2671          nutritionfacts.org  reliable   \n",
       "4331          nutritionfacts.org  reliable   \n",
       "1934  actualidadpanamericana.com    satire   \n",
       "3755          nutritionfacts.org  reliable   \n",
       "728           nutritionfacts.org  reliable   \n",
       "13    actualidadpanamericana.com    satire   \n",
       "\n",
       "                                                  title  \\\n",
       "2459          ¿Cuáles son los alimentos más saludables?   \n",
       "958                                  NutritionFacts.org   \n",
       "2134  “Oro del galeón tiene que ser para Springer”, ...   \n",
       "3237                         Emulsión Derivada Del Coco   \n",
       "2671       Avoiding Chicken to Avoid Bladder Infections   \n",
       "4331                                 NutritionFacts.org   \n",
       "1934  Por culpa de Peppa pig, niños de Ibagué se nie...   \n",
       "3755                                  Aceite De Cártamo   \n",
       "728              Flame-Retardant Chemical Contamination   \n",
       "13           Mike Bahía se quedó hablando en ‘Autotune’   \n",
       "\n",
       "                                                content  \\\n",
       "2459  Las últimas directrices alimentarias (las de 2...   \n",
       "958   Semillas de lino contra el cáncer de próstata\\...   \n",
       "2134  Hacía falta el pronunciamiento del Fiscal resp...   \n",
       "3237        a nuestros voluntarios ¡Envía tu solicitud!   \n",
       "2671  Puedes compartir este material en la red o imp...   \n",
       "4331  Alimentación a base de vegetales para la diabe...   \n",
       "1934  Una polémica se ha desatado en Ibagué; ciudad ...   \n",
       "3755  El vinagre y la función arterial\\n\\nRociar vin...   \n",
       "728   Puedes compartir este material en la red o imp...   \n",
       "13    Los fans del famoso reguetonero están en ascua...   \n",
       "\n",
       "                                                    url  \n",
       "2459  https://nutritionfacts.org/es/video/cuales-son...  \n",
       "958   https://nutritionfacts.org/es/topics/prostatec...  \n",
       "2134  http://www.actualidadpanamericana.com/oro-del-...  \n",
       "3237  https://nutritionfacts.org/es/topics/emulsion-...  \n",
       "2671  https://nutritionfacts.org/es/video/avoiding-c...  \n",
       "4331  https://nutritionfacts.org/es/topics/legumbres...  \n",
       "1934  http://www.actualidadpanamericana.com/por-culp...  \n",
       "3755  https://nutritionfacts.org/es/topics/aceite-de...  \n",
       "728   https://nutritionfacts.org/es/video/flame-reta...  \n",
       "13    http://www.actualidadpanamericana.com/mike-bah...  "
      ]
     },
     "execution_count": 11,
     "metadata": {},
     "output_type": "execute_result"
    }
   ],
   "source": [
    "df.sample(10)"
   ]
  },
  {
   "cell_type": "code",
   "execution_count": 18,
   "metadata": {},
   "outputs": [],
   "source": [
    "df_satire = df[df['type'] == 'satire']"
   ]
  },
  {
   "cell_type": "code",
   "execution_count": 25,
   "metadata": {},
   "outputs": [
    {
     "name": "stdout",
     "output_type": "stream",
     "text": [
      "<class 'pandas.core.frame.DataFrame'>\n",
      "Int64Index: 1323 entries, 0 to 4531\n",
      "Data columns (total 5 columns):\n",
      "domain     1323 non-null object\n",
      "type       1323 non-null object\n",
      "title      1323 non-null object\n",
      "content    1323 non-null object\n",
      "url        1323 non-null object\n",
      "dtypes: object(5)\n",
      "memory usage: 62.0+ KB\n"
     ]
    }
   ],
   "source": [
    "df_satire.info()"
   ]
  },
  {
   "cell_type": "code",
   "execution_count": 21,
   "metadata": {},
   "outputs": [],
   "source": [
    "df_fake = df[df['type'] == 'fake']"
   ]
  },
  {
   "cell_type": "code",
   "execution_count": 24,
   "metadata": {},
   "outputs": [
    {
     "name": "stdout",
     "output_type": "stream",
     "text": [
      "<class 'pandas.core.frame.DataFrame'>\n",
      "Int64Index: 125 entries, 102 to 4511\n",
      "Data columns (total 5 columns):\n",
      "domain     125 non-null object\n",
      "type       125 non-null object\n",
      "title      125 non-null object\n",
      "content    125 non-null object\n",
      "url        125 non-null object\n",
      "dtypes: object(5)\n",
      "memory usage: 5.9+ KB\n"
     ]
    }
   ],
   "source": [
    "df_fake.info()"
   ]
  },
  {
   "cell_type": "code",
   "execution_count": 19,
   "metadata": {},
   "outputs": [],
   "source": [
    "df_true = df[df['type'] == 'reliable']"
   ]
  },
  {
   "cell_type": "code",
   "execution_count": 23,
   "metadata": {},
   "outputs": [
    {
     "data": {
      "text/plain": [
       "domain\n",
       "nutritionfacts.org        3084\n",
       "nytimes.com                 55\n",
       "in.reuters.com               6\n",
       "latino.foxnews.com           5\n",
       "www.cbsnews.com              4\n",
       "www.buzzfeed.com             3\n",
       "www.msn.com                  2\n",
       "www.nba.com                  1\n",
       "www.huffingtonpost.com       1\n",
       "www.cnet.com                 1\n",
       "wiki.mozilla.org             1\n",
       "news.yahoo.com               1\n",
       "dtype: int64"
      ]
     },
     "execution_count": 23,
     "metadata": {},
     "output_type": "execute_result"
    }
   ],
   "source": [
    "df_true.groupby('domain').size().sort_values(ascending = False)"
   ]
  }
 ],
 "metadata": {
  "kernelspec": {
   "display_name": "Python 3",
   "language": "python",
   "name": "python3"
  },
  "language_info": {
   "codemirror_mode": {
    "name": "ipython",
    "version": 3
   },
   "file_extension": ".py",
   "mimetype": "text/x-python",
   "name": "python",
   "nbconvert_exporter": "python",
   "pygments_lexer": "ipython3",
   "version": "3.6.8"
  }
 },
 "nbformat": 4,
 "nbformat_minor": 2
}
