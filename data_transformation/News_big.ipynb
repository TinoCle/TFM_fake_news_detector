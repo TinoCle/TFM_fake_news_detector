{
 "cells": [
  {
   "cell_type": "code",
   "execution_count": 2,
   "metadata": {},
   "outputs": [
    {
     "name": "stdout",
     "output_type": "stream",
     "text": [
      "total 28666956\r\n",
      "-rw-rw-rw- 1 pipe11 pipe11      205272 Aug  1 13:33  02_ADSC_Exercise2.ipynb\r\n",
      "-rw-rw-rw- 1 pipe11 pipe11      227479 Aug  1 20:05  04_ADSC_Exercise4.ipynb\r\n",
      "-rw-rw-rw- 1 pipe11 pipe11       83001 Aug  2 10:54  18_TAC_Exercise4.ipynb\r\n",
      "-rw-rw-rw- 1 pipe11 pipe11      748241 Jul 31 18:03  Corpus_spanish_train.xlsx\r\n",
      "-rw-rw-rw- 1 pipe11 pipe11       51173 Aug  2 18:01 'Fake News.ipynb'\r\n",
      "-rw-rw-rw- 1 pipe11 pipe11      113554 Aug  2 13:48  Fake_News_Spanish_Corpus.ipynb\r\n",
      "-rw-rw-rw- 1 pipe11 pipe11        4184 Aug  2 17:12  Langdetect_filter.ipynb\r\n",
      "-rw-rw-rw- 1 pipe11 pipe11       78854 Aug  2 18:03  News_csv_30Gb.ipynb\r\n",
      "-rw-rw-rw- 1 pipe11 pipe11       88614 Aug  1 20:20 'Web Scraping CNMC-Copy1.ipynb'\r\n",
      "-rw-rw-rw- 1 pipe11 pipe11    30696129 Jul 31 18:03  news.csv\r\n",
      "-rw-rw-rw- 1 pipe11 pipe11 29322513705 Jul 31 19:59  news_cleaned_2018_02_13.csv\r\n"
     ]
    }
   ],
   "source": [
    "ls -l"
   ]
  },
  {
   "cell_type": "markdown",
   "metadata": {},
   "source": [
    "Count lines in the csv. But it has several \\n, so it wont count them properly."
   ]
  },
  {
   "cell_type": "code",
   "execution_count": 6,
   "metadata": {},
   "outputs": [
    {
     "name": "stdout",
     "output_type": "stream",
     "text": [
      "216212648\r\n"
     ]
    }
   ],
   "source": [
    "! cat news_cleaned_2018_02_13.csv | wc -l"
   ]
  },
  {
   "cell_type": "markdown",
   "metadata": {},
   "source": [
    "# Get familiar with data\n",
    "\n",
    "Data acquired from https://github.com/several27/FakeNewsCorpus. An open source dataset composed of millions of news articles. Around 9,400,000 articles.\n",
    "\n",
    "Load with the csv in a DataFrame with nrows\n",
    "\n",
    "Prepare the sample"
   ]
  },
  {
   "cell_type": "code",
   "execution_count": 2,
   "metadata": {},
   "outputs": [],
   "source": [
    "import pandas as pd"
   ]
  },
  {
   "cell_type": "code",
   "execution_count": 3,
   "metadata": {},
   "outputs": [
    {
     "data": {
      "text/plain": [
       "(100000, 16)"
      ]
     },
     "execution_count": 3,
     "metadata": {},
     "output_type": "execute_result"
    }
   ],
   "source": [
    "df = pd.read_csv('news_cleaned_2018_02_13.csv', nrows = 100000, index_col = 0)\n",
    "df.shape"
   ]
  },
  {
   "cell_type": "code",
   "execution_count": 4,
   "metadata": {},
   "outputs": [
    {
     "data": {
      "text/html": [
       "<div>\n",
       "<style scoped>\n",
       "    .dataframe tbody tr th:only-of-type {\n",
       "        vertical-align: middle;\n",
       "    }\n",
       "\n",
       "    .dataframe tbody tr th {\n",
       "        vertical-align: top;\n",
       "    }\n",
       "\n",
       "    .dataframe thead th {\n",
       "        text-align: right;\n",
       "    }\n",
       "</style>\n",
       "<table border=\"1\" class=\"dataframe\">\n",
       "  <thead>\n",
       "    <tr style=\"text-align: right;\">\n",
       "      <th></th>\n",
       "      <th>id</th>\n",
       "      <th>domain</th>\n",
       "      <th>type</th>\n",
       "      <th>url</th>\n",
       "      <th>content</th>\n",
       "      <th>scraped_at</th>\n",
       "      <th>inserted_at</th>\n",
       "      <th>updated_at</th>\n",
       "      <th>title</th>\n",
       "      <th>authors</th>\n",
       "      <th>keywords</th>\n",
       "      <th>meta_keywords</th>\n",
       "      <th>meta_description</th>\n",
       "      <th>tags</th>\n",
       "      <th>summary</th>\n",
       "      <th>source</th>\n",
       "    </tr>\n",
       "  </thead>\n",
       "  <tbody>\n",
       "    <tr>\n",
       "      <th>0</th>\n",
       "      <td>2</td>\n",
       "      <td>express.co.uk</td>\n",
       "      <td>rumor</td>\n",
       "      <td>https://www.express.co.uk/news/science/738402/...</td>\n",
       "      <td>Life is an illusion, at least on a quantum lev...</td>\n",
       "      <td>2018-01-25 16:17:44.789555</td>\n",
       "      <td>2018-02-02 01:19:41.756632</td>\n",
       "      <td>2018-02-02 01:19:41.756664</td>\n",
       "      <td>Is life an ILLUSION? Researchers prove 'realit...</td>\n",
       "      <td>Sean Martin</td>\n",
       "      <td>NaN</td>\n",
       "      <td>['']</td>\n",
       "      <td>THE UNIVERSE ceases to exist when we are not l...</td>\n",
       "      <td>NaN</td>\n",
       "      <td>NaN</td>\n",
       "      <td>NaN</td>\n",
       "    </tr>\n",
       "    <tr>\n",
       "      <th>1</th>\n",
       "      <td>6</td>\n",
       "      <td>barenakedislam.com</td>\n",
       "      <td>hate</td>\n",
       "      <td>http://barenakedislam.com/category/donald-trum...</td>\n",
       "      <td>Unfortunately, he hasn’t yet attacked her for ...</td>\n",
       "      <td>2018-01-25 16:17:44.789555</td>\n",
       "      <td>2018-02-02 01:19:41.756632</td>\n",
       "      <td>2018-02-02 01:19:41.756664</td>\n",
       "      <td>Donald Trump</td>\n",
       "      <td>Linda Rivera, Conrad Calvano, Az Gal, Lincoln ...</td>\n",
       "      <td>NaN</td>\n",
       "      <td>['']</td>\n",
       "      <td>NaN</td>\n",
       "      <td>NaN</td>\n",
       "      <td>NaN</td>\n",
       "      <td>NaN</td>\n",
       "    </tr>\n",
       "    <tr>\n",
       "      <th>2</th>\n",
       "      <td>7</td>\n",
       "      <td>barenakedislam.com</td>\n",
       "      <td>hate</td>\n",
       "      <td>http://barenakedislam.com/category/donald-trum...</td>\n",
       "      <td>The Los Angeles Police Department has been den...</td>\n",
       "      <td>2018-01-25 16:17:44.789555</td>\n",
       "      <td>2018-02-02 01:19:41.756632</td>\n",
       "      <td>2018-02-02 01:19:41.756664</td>\n",
       "      <td>Donald Trump</td>\n",
       "      <td>Linda Rivera, Conrad Calvano, Az Gal, Lincoln ...</td>\n",
       "      <td>NaN</td>\n",
       "      <td>['']</td>\n",
       "      <td>NaN</td>\n",
       "      <td>NaN</td>\n",
       "      <td>NaN</td>\n",
       "      <td>NaN</td>\n",
       "    </tr>\n",
       "    <tr>\n",
       "      <th>3</th>\n",
       "      <td>8</td>\n",
       "      <td>barenakedislam.com</td>\n",
       "      <td>hate</td>\n",
       "      <td>http://barenakedislam.com/2017/12/24/more-winn...</td>\n",
       "      <td>The White House has decided to quietly withdra...</td>\n",
       "      <td>2018-01-25 16:17:44.789555</td>\n",
       "      <td>2018-02-02 01:19:41.756632</td>\n",
       "      <td>2018-02-02 01:19:41.756664</td>\n",
       "      <td>MORE WINNING! Israeli intelligence source, DEB...</td>\n",
       "      <td>Cleavis Nowell, Cleavisnowell, Clarence J. Fei...</td>\n",
       "      <td>NaN</td>\n",
       "      <td>['']</td>\n",
       "      <td>NaN</td>\n",
       "      <td>NaN</td>\n",
       "      <td>NaN</td>\n",
       "      <td>NaN</td>\n",
       "    </tr>\n",
       "    <tr>\n",
       "      <th>4</th>\n",
       "      <td>9</td>\n",
       "      <td>barenakedislam.com</td>\n",
       "      <td>hate</td>\n",
       "      <td>http://barenakedislam.com/2017/12/25/oh-trump-...</td>\n",
       "      <td>“The time has come to cut off the tongues of t...</td>\n",
       "      <td>2018-01-25 16:17:44.789555</td>\n",
       "      <td>2018-02-02 01:19:41.756632</td>\n",
       "      <td>2018-02-02 01:19:41.756664</td>\n",
       "      <td>“Oh, Trump, you coward, you just wait, we will...</td>\n",
       "      <td>F.N. Lehner, Don Spilman, Clarence J. Feinour,...</td>\n",
       "      <td>NaN</td>\n",
       "      <td>['']</td>\n",
       "      <td>NaN</td>\n",
       "      <td>NaN</td>\n",
       "      <td>NaN</td>\n",
       "      <td>NaN</td>\n",
       "    </tr>\n",
       "  </tbody>\n",
       "</table>\n",
       "</div>"
      ],
      "text/plain": [
       "   id              domain   type  \\\n",
       "0   2       express.co.uk  rumor   \n",
       "1   6  barenakedislam.com   hate   \n",
       "2   7  barenakedislam.com   hate   \n",
       "3   8  barenakedislam.com   hate   \n",
       "4   9  barenakedislam.com   hate   \n",
       "\n",
       "                                                 url  \\\n",
       "0  https://www.express.co.uk/news/science/738402/...   \n",
       "1  http://barenakedislam.com/category/donald-trum...   \n",
       "2  http://barenakedislam.com/category/donald-trum...   \n",
       "3  http://barenakedislam.com/2017/12/24/more-winn...   \n",
       "4  http://barenakedislam.com/2017/12/25/oh-trump-...   \n",
       "\n",
       "                                             content  \\\n",
       "0  Life is an illusion, at least on a quantum lev...   \n",
       "1  Unfortunately, he hasn’t yet attacked her for ...   \n",
       "2  The Los Angeles Police Department has been den...   \n",
       "3  The White House has decided to quietly withdra...   \n",
       "4  “The time has come to cut off the tongues of t...   \n",
       "\n",
       "                   scraped_at                 inserted_at  \\\n",
       "0  2018-01-25 16:17:44.789555  2018-02-02 01:19:41.756632   \n",
       "1  2018-01-25 16:17:44.789555  2018-02-02 01:19:41.756632   \n",
       "2  2018-01-25 16:17:44.789555  2018-02-02 01:19:41.756632   \n",
       "3  2018-01-25 16:17:44.789555  2018-02-02 01:19:41.756632   \n",
       "4  2018-01-25 16:17:44.789555  2018-02-02 01:19:41.756632   \n",
       "\n",
       "                   updated_at  \\\n",
       "0  2018-02-02 01:19:41.756664   \n",
       "1  2018-02-02 01:19:41.756664   \n",
       "2  2018-02-02 01:19:41.756664   \n",
       "3  2018-02-02 01:19:41.756664   \n",
       "4  2018-02-02 01:19:41.756664   \n",
       "\n",
       "                                               title  \\\n",
       "0  Is life an ILLUSION? Researchers prove 'realit...   \n",
       "1                                       Donald Trump   \n",
       "2                                       Donald Trump   \n",
       "3  MORE WINNING! Israeli intelligence source, DEB...   \n",
       "4  “Oh, Trump, you coward, you just wait, we will...   \n",
       "\n",
       "                                             authors  keywords meta_keywords  \\\n",
       "0                                        Sean Martin       NaN          ['']   \n",
       "1  Linda Rivera, Conrad Calvano, Az Gal, Lincoln ...       NaN          ['']   \n",
       "2  Linda Rivera, Conrad Calvano, Az Gal, Lincoln ...       NaN          ['']   \n",
       "3  Cleavis Nowell, Cleavisnowell, Clarence J. Fei...       NaN          ['']   \n",
       "4  F.N. Lehner, Don Spilman, Clarence J. Feinour,...       NaN          ['']   \n",
       "\n",
       "                                    meta_description tags  summary  source  \n",
       "0  THE UNIVERSE ceases to exist when we are not l...  NaN      NaN     NaN  \n",
       "1                                                NaN  NaN      NaN     NaN  \n",
       "2                                                NaN  NaN      NaN     NaN  \n",
       "3                                                NaN  NaN      NaN     NaN  \n",
       "4                                                NaN  NaN      NaN     NaN  "
      ]
     },
     "execution_count": 4,
     "metadata": {},
     "output_type": "execute_result"
    }
   ],
   "source": [
    "df.head()"
   ]
  },
  {
   "cell_type": "code",
   "execution_count": 5,
   "metadata": {},
   "outputs": [
    {
     "data": {
      "text/plain": [
       "id                    int64\n",
       "domain               object\n",
       "type                 object\n",
       "url                  object\n",
       "content              object\n",
       "scraped_at           object\n",
       "inserted_at          object\n",
       "updated_at           object\n",
       "title                object\n",
       "authors              object\n",
       "keywords            float64\n",
       "meta_keywords        object\n",
       "meta_description     object\n",
       "tags                 object\n",
       "summary             float64\n",
       "source              float64\n",
       "dtype: object"
      ]
     },
     "execution_count": 5,
     "metadata": {},
     "output_type": "execute_result"
    }
   ],
   "source": [
    "df.dtypes"
   ]
  },
  {
   "cell_type": "code",
   "execution_count": 6,
   "metadata": {},
   "outputs": [
    {
     "data": {
      "text/plain": [
       "Index(['id', 'domain', 'type', 'url', 'content', 'scraped_at', 'inserted_at',\n",
       "       'updated_at', 'title', 'authors', 'keywords', 'meta_keywords',\n",
       "       'meta_description', 'tags', 'summary', 'source'],\n",
       "      dtype='object')"
      ]
     },
     "execution_count": 6,
     "metadata": {},
     "output_type": "execute_result"
    }
   ],
   "source": [
    "df.columns"
   ]
  },
  {
   "cell_type": "markdown",
   "metadata": {},
   "source": [
    "### We only want these columns:\n",
    "\n",
    "    'id'\n",
    "    'type'\n",
    "    'content' \n",
    "    'title' \n",
    "    'domain'\n",
    "    'url'\n",
    "    \n",
    "Lets load a DataFrame as a test DataFrame and explore it:"
   ]
  },
  {
   "cell_type": "code",
   "execution_count": 7,
   "metadata": {},
   "outputs": [
    {
     "data": {
      "text/plain": [
       "(1000000, 5)"
      ]
     },
     "execution_count": 7,
     "metadata": {},
     "output_type": "execute_result"
    }
   ],
   "source": [
    "dftest = pd.read_csv('news_cleaned_2018_02_13.csv' ,usecols=['id', 'type', 'content', 'title', 'domain', 'url'], \n",
    "                     index_col = 0, lineterminator='\\n', nrows = 1000000)\n",
    "\n",
    "dftest.shape"
   ]
  },
  {
   "cell_type": "code",
   "execution_count": 8,
   "metadata": {},
   "outputs": [
    {
     "data": {
      "text/html": [
       "<div>\n",
       "<style scoped>\n",
       "    .dataframe tbody tr th:only-of-type {\n",
       "        vertical-align: middle;\n",
       "    }\n",
       "\n",
       "    .dataframe tbody tr th {\n",
       "        vertical-align: top;\n",
       "    }\n",
       "\n",
       "    .dataframe thead th {\n",
       "        text-align: right;\n",
       "    }\n",
       "</style>\n",
       "<table border=\"1\" class=\"dataframe\">\n",
       "  <thead>\n",
       "    <tr style=\"text-align: right;\">\n",
       "      <th></th>\n",
       "      <th>domain</th>\n",
       "      <th>type</th>\n",
       "      <th>url</th>\n",
       "      <th>content</th>\n",
       "      <th>title</th>\n",
       "    </tr>\n",
       "    <tr>\n",
       "      <th>id</th>\n",
       "      <th></th>\n",
       "      <th></th>\n",
       "      <th></th>\n",
       "      <th></th>\n",
       "      <th></th>\n",
       "    </tr>\n",
       "  </thead>\n",
       "  <tbody>\n",
       "    <tr>\n",
       "      <th>2</th>\n",
       "      <td>express.co.uk</td>\n",
       "      <td>rumor</td>\n",
       "      <td>https://www.express.co.uk/news/science/738402/...</td>\n",
       "      <td>Life is an illusion, at least on a quantum lev...</td>\n",
       "      <td>Is life an ILLUSION? Researchers prove 'realit...</td>\n",
       "    </tr>\n",
       "    <tr>\n",
       "      <th>6</th>\n",
       "      <td>barenakedislam.com</td>\n",
       "      <td>hate</td>\n",
       "      <td>http://barenakedislam.com/category/donald-trum...</td>\n",
       "      <td>Unfortunately, he hasn’t yet attacked her for ...</td>\n",
       "      <td>Donald Trump</td>\n",
       "    </tr>\n",
       "    <tr>\n",
       "      <th>7</th>\n",
       "      <td>barenakedislam.com</td>\n",
       "      <td>hate</td>\n",
       "      <td>http://barenakedislam.com/category/donald-trum...</td>\n",
       "      <td>The Los Angeles Police Department has been den...</td>\n",
       "      <td>Donald Trump</td>\n",
       "    </tr>\n",
       "    <tr>\n",
       "      <th>8</th>\n",
       "      <td>barenakedislam.com</td>\n",
       "      <td>hate</td>\n",
       "      <td>http://barenakedislam.com/2017/12/24/more-winn...</td>\n",
       "      <td>The White House has decided to quietly withdra...</td>\n",
       "      <td>MORE WINNING! Israeli intelligence source, DEB...</td>\n",
       "    </tr>\n",
       "    <tr>\n",
       "      <th>9</th>\n",
       "      <td>barenakedislam.com</td>\n",
       "      <td>hate</td>\n",
       "      <td>http://barenakedislam.com/2017/12/25/oh-trump-...</td>\n",
       "      <td>“The time has come to cut off the tongues of t...</td>\n",
       "      <td>“Oh, Trump, you coward, you just wait, we will...</td>\n",
       "    </tr>\n",
       "  </tbody>\n",
       "</table>\n",
       "</div>"
      ],
      "text/plain": [
       "                domain   type  \\\n",
       "id                              \n",
       "2        express.co.uk  rumor   \n",
       "6   barenakedislam.com   hate   \n",
       "7   barenakedislam.com   hate   \n",
       "8   barenakedislam.com   hate   \n",
       "9   barenakedislam.com   hate   \n",
       "\n",
       "                                                  url  \\\n",
       "id                                                      \n",
       "2   https://www.express.co.uk/news/science/738402/...   \n",
       "6   http://barenakedislam.com/category/donald-trum...   \n",
       "7   http://barenakedislam.com/category/donald-trum...   \n",
       "8   http://barenakedislam.com/2017/12/24/more-winn...   \n",
       "9   http://barenakedislam.com/2017/12/25/oh-trump-...   \n",
       "\n",
       "                                              content  \\\n",
       "id                                                      \n",
       "2   Life is an illusion, at least on a quantum lev...   \n",
       "6   Unfortunately, he hasn’t yet attacked her for ...   \n",
       "7   The Los Angeles Police Department has been den...   \n",
       "8   The White House has decided to quietly withdra...   \n",
       "9   “The time has come to cut off the tongues of t...   \n",
       "\n",
       "                                                title  \n",
       "id                                                     \n",
       "2   Is life an ILLUSION? Researchers prove 'realit...  \n",
       "6                                        Donald Trump  \n",
       "7                                        Donald Trump  \n",
       "8   MORE WINNING! Israeli intelligence source, DEB...  \n",
       "9   “Oh, Trump, you coward, you just wait, we will...  "
      ]
     },
     "execution_count": 8,
     "metadata": {},
     "output_type": "execute_result"
    }
   ],
   "source": [
    "dftest.head()"
   ]
  },
  {
   "cell_type": "code",
   "execution_count": 9,
   "metadata": {},
   "outputs": [
    {
     "data": {
      "text/plain": [
       "domain         0\n",
       "type       41000\n",
       "url            0\n",
       "content        0\n",
       "title       9577\n",
       "dtype: int64"
      ]
     },
     "execution_count": 9,
     "metadata": {},
     "output_type": "execute_result"
    }
   ],
   "source": [
    "dftest.isnull().sum()"
   ]
  },
  {
   "cell_type": "code",
   "execution_count": 10,
   "metadata": {},
   "outputs": [
    {
     "data": {
      "text/plain": [
       "type\n",
       "political     289666\n",
       "unreliable    141653\n",
       "bias          136381\n",
       "fake          123929\n",
       "conspiracy    109793\n",
       "unknown        47413\n",
       "rumor          46551\n",
       "clickbait      21723\n",
       "junksci        17408\n",
       "satire         14263\n",
       "reliable        6601\n",
       "hate            3619\n",
       "dtype: int64"
      ]
     },
     "execution_count": 10,
     "metadata": {},
     "output_type": "execute_result"
    }
   ],
   "source": [
    "dftest.groupby('type').size().sort_values(ascending = False)"
   ]
  },
  {
   "cell_type": "markdown",
   "metadata": {},
   "source": [
    "### We are focusing on news categorized as:\n",
    "\n",
    "    'fake'\n",
    "    'satire'\n",
    "    'reliable'\n",
    "\n",
    "We only want these selected categories, so lets keep exploring them:"
   ]
  },
  {
   "cell_type": "code",
   "execution_count": 11,
   "metadata": {},
   "outputs": [
    {
     "data": {
      "text/plain": [
       "(144793, 5)"
      ]
     },
     "execution_count": 11,
     "metadata": {},
     "output_type": "execute_result"
    }
   ],
   "source": [
    "dftest2 = dftest[dftest.type.isin(['fake', 'satire', 'reliable'])]\n",
    "\n",
    "dftest2.shape"
   ]
  },
  {
   "cell_type": "code",
   "execution_count": 12,
   "metadata": {},
   "outputs": [
    {
     "data": {
      "text/plain": [
       "domain     0\n",
       "type       0\n",
       "url        0\n",
       "content    0\n",
       "title      1\n",
       "dtype: int64"
      ]
     },
     "execution_count": 12,
     "metadata": {},
     "output_type": "execute_result"
    }
   ],
   "source": [
    "dftest2.isnull().sum()"
   ]
  },
  {
   "cell_type": "code",
   "execution_count": 13,
   "metadata": {},
   "outputs": [
    {
     "data": {
      "text/plain": [
       "(144792, 5)"
      ]
     },
     "execution_count": 13,
     "metadata": {},
     "output_type": "execute_result"
    }
   ],
   "source": [
    "dftest2 = dftest2.dropna()\n",
    "\n",
    "dftest2.shape"
   ]
  },
  {
   "cell_type": "code",
   "execution_count": 16,
   "metadata": {},
   "outputs": [
    {
     "name": "stdout",
     "output_type": "stream",
     "text": [
      "<class 'pandas.core.frame.DataFrame'>\n",
      "Int64Index: 144792 entries, 22 to 1162891\n",
      "Data columns (total 5 columns):\n",
      "domain     144792 non-null object\n",
      "type       144792 non-null object\n",
      "url        144792 non-null object\n",
      "content    144792 non-null object\n",
      "title      144792 non-null object\n",
      "dtypes: object(5)\n",
      "memory usage: 6.6+ MB\n"
     ]
    }
   ],
   "source": [
    "dftest2.info()"
   ]
  },
  {
   "cell_type": "code",
   "execution_count": 17,
   "metadata": {},
   "outputs": [
    {
     "data": {
      "text/plain": [
       "domain     object\n",
       "type       object\n",
       "url        object\n",
       "content    object\n",
       "title      object\n",
       "dtype: object"
      ]
     },
     "execution_count": 17,
     "metadata": {},
     "output_type": "execute_result"
    }
   ],
   "source": [
    "dftest2.dtypes"
   ]
  },
  {
   "cell_type": "markdown",
   "metadata": {},
   "source": [
    "Everything seems to be fine, at least in this part of the DataFrame.\n",
    "\n",
    "Now we need to filter the columns and the types we want on the full DataFrame without nrows. But the file size is 32 Gb."
   ]
  },
  {
   "cell_type": "markdown",
   "metadata": {},
   "source": [
    "# Adjust the code to run it with Big Data\n",
    "\n",
    "1) At first we are going to test the whole file with chunks.\n",
    "\n",
    "2) Then we are going to extract the news with type 'satire', 'fake' and 'realiable' and append it in another DF.\n",
    "\n",
    "3) Run it without nrows\n",
    "\n",
    "4) Export it to a new file.csv"
   ]
  },
  {
   "cell_type": "code",
   "execution_count": 18,
   "metadata": {},
   "outputs": [
    {
     "name": "stdout",
     "output_type": "stream",
     "text": [
      "0 200000\n",
      "1 200000\n",
      "2 200000\n",
      "3 200000\n",
      "4 200000\n"
     ]
    },
    {
     "name": "stderr",
     "output_type": "stream",
     "text": [
      "<string>:2: DtypeWarning: Columns (3) have mixed types. Specify dtype option on import or set low_memory=False.\n"
     ]
    },
    {
     "name": "stdout",
     "output_type": "stream",
     "text": [
      "5 200000\n",
      "6 200000\n",
      "7 200000\n",
      "8 200000\n",
      "9 200000\n",
      "10 200000\n",
      "11 200000\n",
      "12 200000\n",
      "13 200000\n",
      "14 200000\n",
      "15 200000\n",
      "16 200000\n",
      "17 200000\n",
      "18 200000\n",
      "19 200000\n",
      "20 200000\n",
      "21 200000\n",
      "22 200000\n",
      "23 200000\n",
      "24 200000\n",
      "25 200000\n",
      "26 200000\n",
      "27 200000\n",
      "28 200000\n",
      "29 200000\n",
      "30 200000\n",
      "31 200000\n",
      "32 200000\n",
      "33 200000\n",
      "34 200000\n",
      "35 200000\n",
      "36 200000\n",
      "37 200000\n",
      "38 200000\n",
      "39 200000\n",
      "40 200000\n",
      "41 200000\n",
      "42 128956\n",
      "CPU times: user 3min 17s, sys: 20.7 s, total: 3min 38s\n",
      "Wall time: 3min 49s\n"
     ]
    }
   ],
   "source": [
    "%%time\n",
    "\n",
    "df = pd.read_csv('news_cleaned_2018_02_13.csv' ,usecols=['id', 'type', 'content', 'title', 'domain', 'url'],\n",
    "                 lineterminator='\\n', chunksize = 200000)\n",
    "\n",
    "for i, chunk in enumerate(df):\n",
    "    print(i, len(chunk))"
   ]
  },
  {
   "cell_type": "markdown",
   "metadata": {},
   "source": [
    "### Run the test code with nrows limited to 1.200.000 rows"
   ]
  },
  {
   "cell_type": "code",
   "execution_count": 19,
   "metadata": {},
   "outputs": [
    {
     "name": "stdout",
     "output_type": "stream",
     "text": [
      "Start with chunk 0 : 100000 at 2020-08-04 21:27:18.380766\n",
      "Start with chunk 1 : 100000 at 2020-08-04 21:27:22.668973\n",
      "Start with chunk 2 : 100000 at 2020-08-04 21:27:26.019531\n",
      "Start with chunk 3 : 100000 at 2020-08-04 21:27:29.346604\n",
      "Start with chunk 4 : 100000 at 2020-08-04 21:27:33.063693\n",
      "Start with chunk 5 : 100000 at 2020-08-04 21:27:36.713149\n",
      "Start with chunk 6 : 100000 at 2020-08-04 21:27:40.322322\n",
      "Start with chunk 7 : 100000 at 2020-08-04 21:27:44.237838\n",
      "Start with chunk 8 : 100000 at 2020-08-04 21:27:47.296507\n",
      "Start with chunk 9 : 100000 at 2020-08-04 21:27:49.540090\n",
      "Start with chunk 10 : 100000 at 2020-08-04 21:27:52.019187\n",
      "Start with chunk 11 : 100000 at 2020-08-04 21:27:55.312878\n",
      "CPU times: user 37.3 s, sys: 3.2 s, total: 40.5 s\n",
      "Wall time: 40.9 s\n"
     ]
    }
   ],
   "source": [
    "%%time\n",
    "\n",
    "import pandas as pd\n",
    "from datetime import datetime\n",
    "\n",
    "partial_results = []\n",
    "\n",
    "df = pd.read_csv('news_cleaned_2018_02_13.csv' ,usecols=['id', 'type', 'content', 'title', 'domain', 'url'], \n",
    "                 lineterminator='\\n', nrows = 1200000, chunksize = 100000)\n",
    "\n",
    "for n, chunk in enumerate(df):\n",
    "    print(\"Start with chunk %d : %d at %s\" % (n, len(chunk), datetime.now()))\n",
    "    chunk = chunk.dropna()\n",
    "    chunk = chunk.drop_duplicates()\n",
    "    chunk_filtered = chunk[chunk.type.isin([\"satire\", \"reliable\", \"fake\"])]\n",
    "    \n",
    "    partial_results.append(chunk_filtered.drop_duplicates())\n",
    "\n",
    "df_new = pd.concat(partial_results)"
   ]
  },
  {
   "cell_type": "code",
   "execution_count": 20,
   "metadata": {},
   "outputs": [
    {
     "name": "stdout",
     "output_type": "stream",
     "text": [
      "<class 'pandas.core.frame.DataFrame'>\n",
      "Int64Index: 145113 entries, 15 to 1155324\n",
      "Data columns (total 6 columns):\n",
      "id         145113 non-null int64\n",
      "domain     145113 non-null object\n",
      "type       145113 non-null object\n",
      "url        145113 non-null object\n",
      "content    145113 non-null object\n",
      "title      145113 non-null object\n",
      "dtypes: int64(1), object(5)\n",
      "memory usage: 7.7+ MB\n"
     ]
    }
   ],
   "source": [
    "df_new.info()"
   ]
  },
  {
   "cell_type": "code",
   "execution_count": 24,
   "metadata": {},
   "outputs": [
    {
     "data": {
      "text/plain": [
       "type\n",
       "fake        123965\n",
       "satire       14524\n",
       "reliable      6624\n",
       "dtype: int64"
      ]
     },
     "execution_count": 24,
     "metadata": {},
     "output_type": "execute_result"
    }
   ],
   "source": [
    "df_new.groupby('type').size().sort_values(ascending = False)"
   ]
  },
  {
   "cell_type": "code",
   "execution_count": 21,
   "metadata": {},
   "outputs": [
    {
     "data": {
      "text/html": [
       "<div>\n",
       "<style scoped>\n",
       "    .dataframe tbody tr th:only-of-type {\n",
       "        vertical-align: middle;\n",
       "    }\n",
       "\n",
       "    .dataframe tbody tr th {\n",
       "        vertical-align: top;\n",
       "    }\n",
       "\n",
       "    .dataframe thead th {\n",
       "        text-align: right;\n",
       "    }\n",
       "</style>\n",
       "<table border=\"1\" class=\"dataframe\">\n",
       "  <thead>\n",
       "    <tr style=\"text-align: right;\">\n",
       "      <th></th>\n",
       "      <th>id</th>\n",
       "      <th>domain</th>\n",
       "      <th>type</th>\n",
       "      <th>url</th>\n",
       "      <th>content</th>\n",
       "      <th>title</th>\n",
       "    </tr>\n",
       "  </thead>\n",
       "  <tbody>\n",
       "    <tr>\n",
       "      <th>15</th>\n",
       "      <td>22</td>\n",
       "      <td>theshovel.com.au</td>\n",
       "      <td>satire</td>\n",
       "      <td>http://www.theshovel.com.au/tag/malcolm-turnbu...</td>\n",
       "      <td>For as long as he can remember, Malcolm Turnbu...</td>\n",
       "      <td>malcolm turnbull satire – The Shovel</td>\n",
       "    </tr>\n",
       "    <tr>\n",
       "      <th>16</th>\n",
       "      <td>23</td>\n",
       "      <td>theshovel.com.au</td>\n",
       "      <td>satire</td>\n",
       "      <td>http://www.theshovel.com.au/tag/malcolm-turnbu...</td>\n",
       "      <td>For as long as he can remember, Malcolm Turnbu...</td>\n",
       "      <td>malcolm turnbull jokes – The Shovel</td>\n",
       "    </tr>\n",
       "    <tr>\n",
       "      <th>24</th>\n",
       "      <td>31</td>\n",
       "      <td>theshovel.com.au</td>\n",
       "      <td>satire</td>\n",
       "      <td>http://www.theshovel.com.au/tag/australian-pol...</td>\n",
       "      <td>Senators from the Australian Greens will be st...</td>\n",
       "      <td>Australian political satire – The Shovel</td>\n",
       "    </tr>\n",
       "    <tr>\n",
       "      <th>25</th>\n",
       "      <td>32</td>\n",
       "      <td>theshovel.com.au</td>\n",
       "      <td>satire</td>\n",
       "      <td>http://www.theshovel.com.au/tag/comedy-website...</td>\n",
       "      <td>Have you ever stopped and wondered what it wou...</td>\n",
       "      <td>comedy website australia – The Shovel</td>\n",
       "    </tr>\n",
       "    <tr>\n",
       "      <th>26</th>\n",
       "      <td>33</td>\n",
       "      <td>clickhole.com</td>\n",
       "      <td>satire</td>\n",
       "      <td>http://www.clickhole.com/article/serendipity-m...</td>\n",
       "      <td>If you don’t believe in fate, here’s a story t...</td>\n",
       "      <td>Serendipity: This Man Made Up An Entire Person...</td>\n",
       "    </tr>\n",
       "  </tbody>\n",
       "</table>\n",
       "</div>"
      ],
      "text/plain": [
       "    id            domain    type  \\\n",
       "15  22  theshovel.com.au  satire   \n",
       "16  23  theshovel.com.au  satire   \n",
       "24  31  theshovel.com.au  satire   \n",
       "25  32  theshovel.com.au  satire   \n",
       "26  33     clickhole.com  satire   \n",
       "\n",
       "                                                  url  \\\n",
       "15  http://www.theshovel.com.au/tag/malcolm-turnbu...   \n",
       "16  http://www.theshovel.com.au/tag/malcolm-turnbu...   \n",
       "24  http://www.theshovel.com.au/tag/australian-pol...   \n",
       "25  http://www.theshovel.com.au/tag/comedy-website...   \n",
       "26  http://www.clickhole.com/article/serendipity-m...   \n",
       "\n",
       "                                              content  \\\n",
       "15  For as long as he can remember, Malcolm Turnbu...   \n",
       "16  For as long as he can remember, Malcolm Turnbu...   \n",
       "24  Senators from the Australian Greens will be st...   \n",
       "25  Have you ever stopped and wondered what it wou...   \n",
       "26  If you don’t believe in fate, here’s a story t...   \n",
       "\n",
       "                                                title  \n",
       "15               malcolm turnbull satire – The Shovel  \n",
       "16                malcolm turnbull jokes – The Shovel  \n",
       "24           Australian political satire – The Shovel  \n",
       "25              comedy website australia – The Shovel  \n",
       "26  Serendipity: This Man Made Up An Entire Person...  "
      ]
     },
     "execution_count": 21,
     "metadata": {},
     "output_type": "execute_result"
    }
   ],
   "source": [
    "df_new.head()"
   ]
  },
  {
   "cell_type": "markdown",
   "metadata": {},
   "source": [
    "### Finally run it on the whole csv without nrows limit"
   ]
  },
  {
   "cell_type": "code",
   "execution_count": 25,
   "metadata": {},
   "outputs": [
    {
     "name": "stdout",
     "output_type": "stream",
     "text": [
      "Start with chunk 0 : 200000 at 2020-08-04 21:31:19.989470\n",
      "Start with chunk 1 : 200000 at 2020-08-04 21:31:28.479574\n",
      "Start with chunk 2 : 200000 at 2020-08-04 21:31:35.609882\n",
      "Start with chunk 3 : 200000 at 2020-08-04 21:31:43.785686\n",
      "Start with chunk 4 : 200000 at 2020-08-04 21:31:50.072566\n",
      "Start with chunk 5 : 200000 at 2020-08-04 21:31:55.708452\n",
      "Start with chunk 6 : 200000 at 2020-08-04 21:32:00.332169\n",
      "Start with chunk 7 : 200000 at 2020-08-04 21:32:06.297675\n",
      "Start with chunk 8 : 200000 at 2020-08-04 21:32:14.541949\n",
      "Start with chunk 9 : 200000 at 2020-08-04 21:32:22.216176\n",
      "Start with chunk 10 : 200000 at 2020-08-04 21:32:29.516284\n",
      "Start with chunk 11 : 200000 at 2020-08-04 21:32:37.420286\n",
      "Start with chunk 12 : 200000 at 2020-08-04 21:32:44.217492\n",
      "Start with chunk 13 : 200000 at 2020-08-04 21:32:52.278146\n",
      "Start with chunk 14 : 200000 at 2020-08-04 21:33:00.590371\n",
      "Start with chunk 15 : 200000 at 2020-08-04 21:33:08.021653\n",
      "Start with chunk 16 : 200000 at 2020-08-04 21:33:17.047797\n",
      "Start with chunk 17 : 200000 at 2020-08-04 21:33:25.164663\n",
      "Start with chunk 18 : 200000 at 2020-08-04 21:33:33.439982\n",
      "Start with chunk 19 : 200000 at 2020-08-04 21:33:42.607889\n",
      "Start with chunk 20 : 200000 at 2020-08-04 21:33:51.532561\n",
      "Start with chunk 21 : 200000 at 2020-08-04 21:33:59.656101\n",
      "Start with chunk 22 : 200000 at 2020-08-04 21:34:06.448159\n",
      "Start with chunk 23 : 200000 at 2020-08-04 21:34:12.421359\n",
      "Start with chunk 24 : 200000 at 2020-08-04 21:34:18.334203\n",
      "Start with chunk 25 : 200000 at 2020-08-04 21:34:27.437222\n",
      "Start with chunk 26 : 200000 at 2020-08-04 21:34:34.562724\n",
      "Start with chunk 27 : 200000 at 2020-08-04 21:34:42.241326\n",
      "Start with chunk 28 : 200000 at 2020-08-04 21:34:49.886758\n",
      "Start with chunk 29 : 200000 at 2020-08-04 21:34:59.556729\n",
      "Start with chunk 30 : 200000 at 2020-08-04 21:35:06.645028\n",
      "Start with chunk 31 : 200000 at 2020-08-04 21:35:14.895738\n",
      "Start with chunk 32 : 200000 at 2020-08-04 21:35:23.180419\n",
      "Start with chunk 33 : 200000 at 2020-08-04 21:35:29.950613\n",
      "Start with chunk 34 : 200000 at 2020-08-04 21:35:37.146589\n",
      "Start with chunk 35 : 200000 at 2020-08-04 21:35:49.875380\n",
      "Start with chunk 36 : 200000 at 2020-08-04 21:35:58.869521\n",
      "Start with chunk 37 : 200000 at 2020-08-04 21:36:12.666842\n",
      "Start with chunk 38 : 200000 at 2020-08-04 21:36:29.033982\n",
      "Start with chunk 39 : 200000 at 2020-08-04 21:36:40.302278\n",
      "Start with chunk 40 : 200000 at 2020-08-04 21:36:58.958788\n",
      "Start with chunk 41 : 200000 at 2020-08-04 21:37:13.425593\n",
      "Start with chunk 42 : 128956 at 2020-08-04 21:37:26.077908\n",
      "CPU times: user 5min 6s, sys: 1min 16s, total: 6min 22s\n",
      "Wall time: 10min 21s\n"
     ]
    }
   ],
   "source": [
    "%%time\n",
    "\n",
    "import pandas as pd\n",
    "from datetime import datetime\n",
    "\n",
    "partial_results = []\n",
    "\n",
    "df = pd.read_csv('news_cleaned_2018_02_13.csv' ,usecols=['id', 'type', 'content', 'title', 'domain', 'url'], \n",
    "                 lineterminator='\\n', chunksize = 200000)\n",
    "\n",
    "for n, chunk in enumerate(df):\n",
    "    print(\"Start with chunk %d : %d at %s\" % (n, len(chunk), datetime.now()))\n",
    "    chunk = chunk.dropna()\n",
    "    chunk = chunk.drop_duplicates()\n",
    "    chunk_filtered = chunk[chunk.type.isin([\"satire\", \"reliable\", \"fake\"])]\n",
    "    \n",
    "    partial_results.append(chunk_filtered.drop_duplicates())\n",
    "\n",
    "df_new = pd.concat(partial_results)"
   ]
  },
  {
   "cell_type": "code",
   "execution_count": 26,
   "metadata": {},
   "outputs": [
    {
     "data": {
      "text/plain": [
       "(2920624, 6)"
      ]
     },
     "execution_count": 26,
     "metadata": {},
     "output_type": "execute_result"
    }
   ],
   "source": [
    "df_new.shape"
   ]
  },
  {
   "cell_type": "code",
   "execution_count": 27,
   "metadata": {},
   "outputs": [
    {
     "data": {
      "text/html": [
       "<div>\n",
       "<style scoped>\n",
       "    .dataframe tbody tr th:only-of-type {\n",
       "        vertical-align: middle;\n",
       "    }\n",
       "\n",
       "    .dataframe tbody tr th {\n",
       "        vertical-align: top;\n",
       "    }\n",
       "\n",
       "    .dataframe thead th {\n",
       "        text-align: right;\n",
       "    }\n",
       "</style>\n",
       "<table border=\"1\" class=\"dataframe\">\n",
       "  <thead>\n",
       "    <tr style=\"text-align: right;\">\n",
       "      <th></th>\n",
       "      <th>id</th>\n",
       "      <th>domain</th>\n",
       "      <th>type</th>\n",
       "      <th>url</th>\n",
       "      <th>content</th>\n",
       "      <th>title</th>\n",
       "    </tr>\n",
       "  </thead>\n",
       "  <tbody>\n",
       "    <tr>\n",
       "      <th>15</th>\n",
       "      <td>22</td>\n",
       "      <td>theshovel.com.au</td>\n",
       "      <td>satire</td>\n",
       "      <td>http://www.theshovel.com.au/tag/malcolm-turnbu...</td>\n",
       "      <td>For as long as he can remember, Malcolm Turnbu...</td>\n",
       "      <td>malcolm turnbull satire – The Shovel</td>\n",
       "    </tr>\n",
       "    <tr>\n",
       "      <th>16</th>\n",
       "      <td>23</td>\n",
       "      <td>theshovel.com.au</td>\n",
       "      <td>satire</td>\n",
       "      <td>http://www.theshovel.com.au/tag/malcolm-turnbu...</td>\n",
       "      <td>For as long as he can remember, Malcolm Turnbu...</td>\n",
       "      <td>malcolm turnbull jokes – The Shovel</td>\n",
       "    </tr>\n",
       "    <tr>\n",
       "      <th>24</th>\n",
       "      <td>31</td>\n",
       "      <td>theshovel.com.au</td>\n",
       "      <td>satire</td>\n",
       "      <td>http://www.theshovel.com.au/tag/australian-pol...</td>\n",
       "      <td>Senators from the Australian Greens will be st...</td>\n",
       "      <td>Australian political satire – The Shovel</td>\n",
       "    </tr>\n",
       "    <tr>\n",
       "      <th>25</th>\n",
       "      <td>32</td>\n",
       "      <td>theshovel.com.au</td>\n",
       "      <td>satire</td>\n",
       "      <td>http://www.theshovel.com.au/tag/comedy-website...</td>\n",
       "      <td>Have you ever stopped and wondered what it wou...</td>\n",
       "      <td>comedy website australia – The Shovel</td>\n",
       "    </tr>\n",
       "    <tr>\n",
       "      <th>26</th>\n",
       "      <td>33</td>\n",
       "      <td>clickhole.com</td>\n",
       "      <td>satire</td>\n",
       "      <td>http://www.clickhole.com/article/serendipity-m...</td>\n",
       "      <td>If you don’t believe in fate, here’s a story t...</td>\n",
       "      <td>Serendipity: This Man Made Up An Entire Person...</td>\n",
       "    </tr>\n",
       "  </tbody>\n",
       "</table>\n",
       "</div>"
      ],
      "text/plain": [
       "    id            domain    type  \\\n",
       "15  22  theshovel.com.au  satire   \n",
       "16  23  theshovel.com.au  satire   \n",
       "24  31  theshovel.com.au  satire   \n",
       "25  32  theshovel.com.au  satire   \n",
       "26  33     clickhole.com  satire   \n",
       "\n",
       "                                                  url  \\\n",
       "15  http://www.theshovel.com.au/tag/malcolm-turnbu...   \n",
       "16  http://www.theshovel.com.au/tag/malcolm-turnbu...   \n",
       "24  http://www.theshovel.com.au/tag/australian-pol...   \n",
       "25  http://www.theshovel.com.au/tag/comedy-website...   \n",
       "26  http://www.clickhole.com/article/serendipity-m...   \n",
       "\n",
       "                                              content  \\\n",
       "15  For as long as he can remember, Malcolm Turnbu...   \n",
       "16  For as long as he can remember, Malcolm Turnbu...   \n",
       "24  Senators from the Australian Greens will be st...   \n",
       "25  Have you ever stopped and wondered what it wou...   \n",
       "26  If you don’t believe in fate, here’s a story t...   \n",
       "\n",
       "                                                title  \n",
       "15               malcolm turnbull satire – The Shovel  \n",
       "16                malcolm turnbull jokes – The Shovel  \n",
       "24           Australian political satire – The Shovel  \n",
       "25              comedy website australia – The Shovel  \n",
       "26  Serendipity: This Man Made Up An Entire Person...  "
      ]
     },
     "execution_count": 27,
     "metadata": {},
     "output_type": "execute_result"
    }
   ],
   "source": [
    "df_new.head()"
   ]
  },
  {
   "cell_type": "code",
   "execution_count": 28,
   "metadata": {},
   "outputs": [
    {
     "name": "stdout",
     "output_type": "stream",
     "text": [
      "<class 'pandas.core.frame.DataFrame'>\n",
      "Int64Index: 2920624 entries, 15 to 8528955\n",
      "Data columns (total 6 columns):\n",
      "id         int64\n",
      "domain     object\n",
      "type       object\n",
      "url        object\n",
      "content    object\n",
      "title      object\n",
      "dtypes: int64(1), object(5)\n",
      "memory usage: 156.0+ MB\n"
     ]
    }
   ],
   "source": [
    "df_new.info()"
   ]
  },
  {
   "cell_type": "code",
   "execution_count": 29,
   "metadata": {},
   "outputs": [
    {
     "data": {
      "text/plain": [
       "type\n",
       "reliable    1913218\n",
       "fake         894737\n",
       "satire       112669\n",
       "dtype: int64"
      ]
     },
     "execution_count": 29,
     "metadata": {},
     "output_type": "execute_result"
    }
   ],
   "source": [
    "df_new.groupby('type').size().sort_values(ascending = False)"
   ]
  },
  {
   "cell_type": "code",
   "execution_count": 30,
   "metadata": {},
   "outputs": [
    {
     "data": {
      "text/html": [
       "<div>\n",
       "<style scoped>\n",
       "    .dataframe tbody tr th:only-of-type {\n",
       "        vertical-align: middle;\n",
       "    }\n",
       "\n",
       "    .dataframe tbody tr th {\n",
       "        vertical-align: top;\n",
       "    }\n",
       "\n",
       "    .dataframe thead th {\n",
       "        text-align: right;\n",
       "    }\n",
       "</style>\n",
       "<table border=\"1\" class=\"dataframe\">\n",
       "  <thead>\n",
       "    <tr style=\"text-align: right;\">\n",
       "      <th></th>\n",
       "      <th>id</th>\n",
       "      <th>domain</th>\n",
       "      <th>type</th>\n",
       "      <th>url</th>\n",
       "      <th>content</th>\n",
       "      <th>title</th>\n",
       "    </tr>\n",
       "  </thead>\n",
       "  <tbody>\n",
       "    <tr>\n",
       "      <th>7058688</th>\n",
       "      <td>8407747</td>\n",
       "      <td>nytimes.com</td>\n",
       "      <td>reliable</td>\n",
       "      <td>https://www.nytimes.com/2000/10/15/nyregion/wi...</td>\n",
       "      <td>Many thrifty buyers self-defeatingly ignore au...</td>\n",
       "      <td>WINE UNDER $20; Auctions for Bargain-Hunters</td>\n",
       "    </tr>\n",
       "    <tr>\n",
       "      <th>7451432</th>\n",
       "      <td>8800491</td>\n",
       "      <td>nytimes.com</td>\n",
       "      <td>reliable</td>\n",
       "      <td>https://www.nytimes.com/2005/01/05/arts/televi...</td>\n",
       "      <td>But the characters and situations are so deriv...</td>\n",
       "      <td>Yet More Of One Face In Season 4 Of 'Alias'</td>\n",
       "    </tr>\n",
       "    <tr>\n",
       "      <th>8049515</th>\n",
       "      <td>9398596</td>\n",
       "      <td>nytimes.com</td>\n",
       "      <td>reliable</td>\n",
       "      <td>https://www.nytimes.com/2011/03/06/books/revie...</td>\n",
       "      <td>To the Editor:\\n\\nWilliam Logan’s review of El...</td>\n",
       "      <td>Bishop’s Poetry and Prose</td>\n",
       "    </tr>\n",
       "    <tr>\n",
       "      <th>6797897</th>\n",
       "      <td>8143899</td>\n",
       "      <td>www.investing.com</td>\n",
       "      <td>reliable</td>\n",
       "      <td>http://www.investing.com/news/stock-market-new...</td>\n",
       "      <td>North Dakota officials back away from blockade...</td>\n",
       "      <td>North Dakota officials back away from blockade...</td>\n",
       "    </tr>\n",
       "    <tr>\n",
       "      <th>6788093</th>\n",
       "      <td>8134035</td>\n",
       "      <td>motherboard.vice.com</td>\n",
       "      <td>reliable</td>\n",
       "      <td>http://motherboard.vice.com/en_ca/read/how-a-w...</td>\n",
       "      <td>How a Wearable Device May Help the Blind Navig...</td>\n",
       "      <td>How a Wearable Device May Help the Blind Navig...</td>\n",
       "    </tr>\n",
       "    <tr>\n",
       "      <th>5364705</th>\n",
       "      <td>6397262</td>\n",
       "      <td>beforeitsnews.com</td>\n",
       "      <td>fake</td>\n",
       "      <td>http://beforeitsnews.com/science-and-technolog...</td>\n",
       "      <td>Spotify iOS Update Now Available!\\n\\n% of read...</td>\n",
       "      <td>Spotify iOS Update Now Available!</td>\n",
       "    </tr>\n",
       "    <tr>\n",
       "      <th>3266443</th>\n",
       "      <td>3788529</td>\n",
       "      <td>beforeitsnews.com</td>\n",
       "      <td>fake</td>\n",
       "      <td>http://beforeitsnews.com/military/2015/05/mari...</td>\n",
       "      <td>Marines Slated for Assistance Mission in Hondu...</td>\n",
       "      <td>Marines Slated for Assistance Mission in Honduras</td>\n",
       "    </tr>\n",
       "    <tr>\n",
       "      <th>7823324</th>\n",
       "      <td>9172386</td>\n",
       "      <td>nytimes.com</td>\n",
       "      <td>reliable</td>\n",
       "      <td>https://query.nytimes.com/gst/fullpage.html?re...</td>\n",
       "      <td>Dance\\n\\nJack Anderson\\n\\nStockhausen and spid...</td>\n",
       "      <td>THE WEEK AHEAD | AUG. 31-SEPT. 6 | Dance</td>\n",
       "    </tr>\n",
       "    <tr>\n",
       "      <th>7337457</th>\n",
       "      <td>8686516</td>\n",
       "      <td>nytimes.com</td>\n",
       "      <td>reliable</td>\n",
       "      <td>https://www.nytimes.com/2003/10/01/business/au...</td>\n",
       "      <td>Annual farm exports are expected to fall by al...</td>\n",
       "      <td>Australia Damaged By Drought</td>\n",
       "    </tr>\n",
       "    <tr>\n",
       "      <th>7704206</th>\n",
       "      <td>9053266</td>\n",
       "      <td>nytimes.com</td>\n",
       "      <td>reliable</td>\n",
       "      <td>https://www.nytimes.com/2007/06/27/dining/274d...</td>\n",
       "      <td>Let's Get Started\\n\\nPrior to receiving The Ne...</td>\n",
       "      <td>Recipe: Greenport Shuffle</td>\n",
       "    </tr>\n",
       "  </tbody>\n",
       "</table>\n",
       "</div>"
      ],
      "text/plain": [
       "              id                domain      type  \\\n",
       "7058688  8407747           nytimes.com  reliable   \n",
       "7451432  8800491           nytimes.com  reliable   \n",
       "8049515  9398596           nytimes.com  reliable   \n",
       "6797897  8143899     www.investing.com  reliable   \n",
       "6788093  8134035  motherboard.vice.com  reliable   \n",
       "5364705  6397262     beforeitsnews.com      fake   \n",
       "3266443  3788529     beforeitsnews.com      fake   \n",
       "7823324  9172386           nytimes.com  reliable   \n",
       "7337457  8686516           nytimes.com  reliable   \n",
       "7704206  9053266           nytimes.com  reliable   \n",
       "\n",
       "                                                       url  \\\n",
       "7058688  https://www.nytimes.com/2000/10/15/nyregion/wi...   \n",
       "7451432  https://www.nytimes.com/2005/01/05/arts/televi...   \n",
       "8049515  https://www.nytimes.com/2011/03/06/books/revie...   \n",
       "6797897  http://www.investing.com/news/stock-market-new...   \n",
       "6788093  http://motherboard.vice.com/en_ca/read/how-a-w...   \n",
       "5364705  http://beforeitsnews.com/science-and-technolog...   \n",
       "3266443  http://beforeitsnews.com/military/2015/05/mari...   \n",
       "7823324  https://query.nytimes.com/gst/fullpage.html?re...   \n",
       "7337457  https://www.nytimes.com/2003/10/01/business/au...   \n",
       "7704206  https://www.nytimes.com/2007/06/27/dining/274d...   \n",
       "\n",
       "                                                   content  \\\n",
       "7058688  Many thrifty buyers self-defeatingly ignore au...   \n",
       "7451432  But the characters and situations are so deriv...   \n",
       "8049515  To the Editor:\\n\\nWilliam Logan’s review of El...   \n",
       "6797897  North Dakota officials back away from blockade...   \n",
       "6788093  How a Wearable Device May Help the Blind Navig...   \n",
       "5364705  Spotify iOS Update Now Available!\\n\\n% of read...   \n",
       "3266443  Marines Slated for Assistance Mission in Hondu...   \n",
       "7823324  Dance\\n\\nJack Anderson\\n\\nStockhausen and spid...   \n",
       "7337457  Annual farm exports are expected to fall by al...   \n",
       "7704206  Let's Get Started\\n\\nPrior to receiving The Ne...   \n",
       "\n",
       "                                                     title  \n",
       "7058688       WINE UNDER $20; Auctions for Bargain-Hunters  \n",
       "7451432        Yet More Of One Face In Season 4 Of 'Alias'  \n",
       "8049515                          Bishop’s Poetry and Prose  \n",
       "6797897  North Dakota officials back away from blockade...  \n",
       "6788093  How a Wearable Device May Help the Blind Navig...  \n",
       "5364705                  Spotify iOS Update Now Available!  \n",
       "3266443  Marines Slated for Assistance Mission in Honduras  \n",
       "7823324           THE WEEK AHEAD | AUG. 31-SEPT. 6 | Dance  \n",
       "7337457                       Australia Damaged By Drought  \n",
       "7704206                          Recipe: Greenport Shuffle  "
      ]
     },
     "execution_count": 30,
     "metadata": {},
     "output_type": "execute_result"
    }
   ],
   "source": [
    "df_new.sample(10)"
   ]
  },
  {
   "cell_type": "markdown",
   "metadata": {},
   "source": [
    "## Important:\n",
    "\n",
    "Later the row 1223598 will cause me a lot of trouble detecting the language of news content. So I came back here to load the DataFrame df_new again before exporting it to drop this specific row.\n",
    "\n",
    "But before dropping it, look at it:"
   ]
  },
  {
   "cell_type": "code",
   "execution_count": 34,
   "metadata": {},
   "outputs": [
    {
     "name": "stdout",
     "output_type": "stream",
     "text": [
      "States  PR      Clinton-P        Trump-P Clinton-E   Trump-E\n",
      "Ala.   0           0-00           0-00         0         0\n",
      "Alaska   0           0-00           0-00         0         0\n",
      "Ariz.   0           0-00           0-00         0         0\n",
      "Ark.   0           0-00           0-00         0         0\n",
      "Calif.   0           0-00           0-00         0         0\n",
      "Colo.   0           0-00           0-00         0         0\n",
      "Conn.   0           0-00           0-00         0         0\n",
      "Del.   0           0-00           0-00         0         0\n",
      "D.C.   0           0-00           0-00         0         0\n",
      "Fla.   0           0-00           0-00         0         0\n",
      "Ga.   0           0-00           0-00         0         0\n",
      "Hawaii   0           0-00           0-00         0         0\n",
      "Idaho   0           0-00           0-00         0         0\n",
      "Ill.   0           0-00           0-00         0         0\n",
      "Ind.   0           0-00           0-00         0         0\n",
      "Iowa   0           0-00           0-00         0         0\n",
      "Kans.   0           0-00           0-00         0         0\n",
      "Ky.   0           0-00           0-00         0         0\n",
      "La.   0           0-00           0-00         0         0\n",
      "Maine   0           0-00           0-00         0         0\n",
      "Md.   0           0-00           0-00         0         0\n",
      "Mass.   0           0-00           0-00         0         0\n",
      "Mich.   0           0-00           0-00         0         0\n",
      "Minn.   0           0-00           0-00         0         0\n",
      "Miss.   0           0-00           0-00         0         0\n",
      "Mo.   0           0-00           0-00         0         0\n",
      "Mont.   0           0-00           0-00         0         0\n",
      "Neb.   0           0-00           0-00         0         0\n",
      "Nev.   0           0-00           0-00         0         0\n",
      "N.H.   1          25-41          32-52         0         4\n",
      "N.J.   0           0-00           0-00         0         0\n",
      "N.M.   0           0-00           0-00         0         0\n",
      "N.Y.   0           0-00           0-00         0         0\n",
      "N.C.   0           0-00           0-00         0         0\n",
      "N.D.   0           0-00           0-00         0         0\n",
      "Ohio   0           0-00           0-00         0         0\n",
      "Okla.   0           0-00           0-00         0         0\n",
      "Ore.   0           0-00           0-00         0         0\n",
      "Pa.   0           0-00           0-00         0         0\n",
      "R.I.   0           0-00           0-00         0         0\n",
      "S.C.   0           0-00           0-00         0         0\n",
      "S.D.   0           0-00           0-00         0         0\n",
      "Tenn.   0           0-00           0-00         0         0\n",
      "Texas   0           0-00           0-00         0         0\n",
      "Utah   0           0-00           0-00         0         0\n",
      "Vt.   0           0-00           0-00         0         0\n",
      "Va.   0           0-00           0-00         0         0\n",
      "Wash.   0           0-00           0-00         0         0\n",
      "W.Va.   0           0-00           0-00         0         0\n",
      "Wis.   0           0-00           0-00         0         0\n",
      "Wyo.   0           0-00           0-00         0         0\n",
      "Totals              25-41          32-52         0         4\n"
     ]
    }
   ],
   "source": [
    "print(df_new['content'].iloc[1223598])"
   ]
  },
  {
   "cell_type": "code",
   "execution_count": 39,
   "metadata": {},
   "outputs": [],
   "source": [
    "df_new = df_new.drop(df_new.index[1223598])"
   ]
  },
  {
   "cell_type": "code",
   "execution_count": 40,
   "metadata": {},
   "outputs": [
    {
     "data": {
      "text/plain": [
       "(2920623, 6)"
      ]
     },
     "execution_count": 40,
     "metadata": {},
     "output_type": "execute_result"
    }
   ],
   "source": [
    "df_new.shape"
   ]
  },
  {
   "cell_type": "code",
   "execution_count": 44,
   "metadata": {},
   "outputs": [
    {
     "name": "stdout",
     "output_type": "stream",
     "text": [
      "Lily Collins Just Mastered a New Layering Trick...With Eye Shadows Presented By Steve Granitz/WireImage \n",
      "Fall layering shouldn't be left to just clothing. \n",
      "As proven by Lily Collins and the extremely talented makeup artist Molly B. Stern (who created the look on the actress for last night's Hollywood Film Awards), it's time your eyes learned this cool, edgy beauty trick: layering your shadows. \n",
      "The tutorial itself (seen below) is a quick one (read: You're done in three simple steps), but it's striking appeal has got our attention. And if you're thinking a deep red wash like this one isn't for you, feel free to try any blend of colors at home! Photos \n",
      "The How-To: \n",
      "Step 1: For her eyes, Molly layered Lancôme Color Design Eyeshadows in Fashion Label and Ruby Velvet. \n",
      "Step 2: She then lined the base of Lily's lash line with a pristine crisp line using Lancôme Grandiôse Liner in Matte Noir. \n",
      "Step 3: Using a lash curler, the pro prepped her lashes before applying two coats of black mascara. \n",
      "Bundle up with a cozy glass of wine and your favorite fall shadows—happy experimenting! TAGS/ Lily Collins , Style Collective , Beauty , Top Stories , Makeup Additional  \n"
     ]
    }
   ],
   "source": [
    "print(df_new['content'].iloc[1223598])"
   ]
  },
  {
   "cell_type": "markdown",
   "metadata": {},
   "source": [
    "### Now we can export it to a CSV.\n",
    "\n",
    "My first idea was to export the csv and compress it with Gzip, but It slows a lot the process of exporting it, and I need these CSV to extract only the news in spanish, so I'm going to load again, extract the news I want and never touch it again."
   ]
  },
  {
   "cell_type": "code",
   "execution_count": 45,
   "metadata": {},
   "outputs": [],
   "source": [
    "df_new.to_csv('news_csv_filtered.csv', sep = ',', index = False)"
   ]
  }
 ],
 "metadata": {
  "kernelspec": {
   "display_name": "Python 3",
   "language": "python",
   "name": "python3"
  },
  "language_info": {
   "codemirror_mode": {
    "name": "ipython",
    "version": 3
   },
   "file_extension": ".py",
   "mimetype": "text/x-python",
   "name": "python",
   "nbconvert_exporter": "python",
   "pygments_lexer": "ipython3",
   "version": "3.6.8"
  }
 },
 "nbformat": 4,
 "nbformat_minor": 2
}
