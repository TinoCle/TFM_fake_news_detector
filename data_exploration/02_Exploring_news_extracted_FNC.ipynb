{
 "cells": [
  {
   "cell_type": "markdown",
   "metadata": {},
   "source": [
    "# Exploring news extracted from FNC corpus\n",
    "\n",
    "Extracted news in spanish langauge from the FNC corpus: https://github.com/several27/FakeNewsCorpus. An open source dataset composed of millions of news articles. Around 9,400,000 articles.\n",
    "\n",
    "To extract these news we followed the following steps:\n",
    "\n",
    "1. Extracted news with type `satire, fake and reliable` labels.\n",
    "\n",
    "2. Detecte news in spanish with langdetect.\n",
    "\n",
    "3. Extract news in spanish."
   ]
  },
  {
   "cell_type": "markdown",
   "metadata": {},
   "source": [
    "## Initial exploration"
   ]
  },
  {
   "cell_type": "code",
   "execution_count": 109,
   "metadata": {},
   "outputs": [
    {
     "data": {
      "text/html": [
       "<div>\n",
       "<style scoped>\n",
       "    .dataframe tbody tr th:only-of-type {\n",
       "        vertical-align: middle;\n",
       "    }\n",
       "\n",
       "    .dataframe tbody tr th {\n",
       "        vertical-align: top;\n",
       "    }\n",
       "\n",
       "    .dataframe thead th {\n",
       "        text-align: right;\n",
       "    }\n",
       "</style>\n",
       "<table border=\"1\" class=\"dataframe\">\n",
       "  <thead>\n",
       "    <tr style=\"text-align: right;\">\n",
       "      <th></th>\n",
       "      <th>domain</th>\n",
       "      <th>type</th>\n",
       "      <th>url</th>\n",
       "      <th>content</th>\n",
       "      <th>title</th>\n",
       "    </tr>\n",
       "  </thead>\n",
       "  <tbody>\n",
       "    <tr>\n",
       "      <th>0</th>\n",
       "      <td>actualidadpanamericana.com</td>\n",
       "      <td>satire</td>\n",
       "      <td>http://www.actualidadpanamericana.com/allanada...</td>\n",
       "      <td>Esta mañana unidades del CTI allanaron las ofi...</td>\n",
       "      <td>Allanadas oficinas de Actualidad Panamericana ...</td>\n",
       "    </tr>\n",
       "    <tr>\n",
       "      <th>1</th>\n",
       "      <td>actualidadpanamericana.com</td>\n",
       "      <td>satire</td>\n",
       "      <td>http://www.actualidadpanamericana.com/ya-abrie...</td>\n",
       "      <td>Algo de sosiego trajo a los miles de viajeros ...</td>\n",
       "      <td>Ya abrieron un D1 en trancón de La Línea</td>\n",
       "    </tr>\n",
       "    <tr>\n",
       "      <th>2</th>\n",
       "      <td>actualidadpanamericana.com</td>\n",
       "      <td>satire</td>\n",
       "      <td>http://www.actualidadpanamericana.com/jaguares...</td>\n",
       "      <td>El fin de año es época de anuncios en el fútbo...</td>\n",
       "      <td>Jaguares anunció a Dimayor como patrocinador p...</td>\n",
       "    </tr>\n",
       "    <tr>\n",
       "      <th>3</th>\n",
       "      <td>actualidadpanamericana.com</td>\n",
       "      <td>satire</td>\n",
       "      <td>http://www.actualidadpanamericana.com/embajado...</td>\n",
       "      <td>Un mico de última hora en la nueva ley que rig...</td>\n",
       "      <td>Embajadora de Florhuila, Claudia Bahamón defie...</td>\n",
       "    </tr>\n",
       "    <tr>\n",
       "      <th>4</th>\n",
       "      <td>actualidadpanamericana.com</td>\n",
       "      <td>satire</td>\n",
       "      <td>http://www.actualidadpanamericana.com/guia-inv...</td>\n",
       "      <td>Cada nuevo año es la oportunidad para planear ...</td>\n",
       "      <td>Guía para invertir su dinero en 2018</td>\n",
       "    </tr>\n",
       "  </tbody>\n",
       "</table>\n",
       "</div>"
      ],
      "text/plain": [
       "                       domain    type  \\\n",
       "0  actualidadpanamericana.com  satire   \n",
       "1  actualidadpanamericana.com  satire   \n",
       "2  actualidadpanamericana.com  satire   \n",
       "3  actualidadpanamericana.com  satire   \n",
       "4  actualidadpanamericana.com  satire   \n",
       "\n",
       "                                                 url  \\\n",
       "0  http://www.actualidadpanamericana.com/allanada...   \n",
       "1  http://www.actualidadpanamericana.com/ya-abrie...   \n",
       "2  http://www.actualidadpanamericana.com/jaguares...   \n",
       "3  http://www.actualidadpanamericana.com/embajado...   \n",
       "4  http://www.actualidadpanamericana.com/guia-inv...   \n",
       "\n",
       "                                             content  \\\n",
       "0  Esta mañana unidades del CTI allanaron las ofi...   \n",
       "1  Algo de sosiego trajo a los miles de viajeros ...   \n",
       "2  El fin de año es época de anuncios en el fútbo...   \n",
       "3  Un mico de última hora en la nueva ley que rig...   \n",
       "4  Cada nuevo año es la oportunidad para planear ...   \n",
       "\n",
       "                                               title  \n",
       "0  Allanadas oficinas de Actualidad Panamericana ...  \n",
       "1           Ya abrieron un D1 en trancón de La Línea  \n",
       "2  Jaguares anunció a Dimayor como patrocinador p...  \n",
       "3  Embajadora de Florhuila, Claudia Bahamón defie...  \n",
       "4               Guía para invertir su dinero en 2018  "
      ]
     },
     "execution_count": 109,
     "metadata": {},
     "output_type": "execute_result"
    }
   ],
   "source": [
    "import pandas as pd\n",
    "\n",
    "df = pd.read_csv('../data/news_csv_spanish.csv', usecols = ['domain', 'type', 'url', 'title', 'content'])\n",
    "\n",
    "df.head()"
   ]
  },
  {
   "cell_type": "markdown",
   "metadata": {},
   "source": [
    "Checking values types"
   ]
  },
  {
   "cell_type": "code",
   "execution_count": 96,
   "metadata": {},
   "outputs": [
    {
     "name": "stdout",
     "output_type": "stream",
     "text": [
      "<class 'pandas.core.frame.DataFrame'>\n",
      "RangeIndex: 4612 entries, 0 to 4611\n",
      "Data columns (total 5 columns):\n",
      " #   Column   Non-Null Count  Dtype \n",
      "---  ------   --------------  ----- \n",
      " 0   domain   4612 non-null   object\n",
      " 1   type     4612 non-null   object\n",
      " 2   url      4612 non-null   object\n",
      " 3   content  4612 non-null   object\n",
      " 4   title    4612 non-null   object\n",
      "dtypes: object(5)\n",
      "memory usage: 180.3+ KB\n"
     ]
    }
   ],
   "source": [
    "df.info()"
   ]
  },
  {
   "cell_type": "markdown",
   "metadata": {},
   "source": [
    "Checking if there are NA Values"
   ]
  },
  {
   "cell_type": "code",
   "execution_count": 97,
   "metadata": {},
   "outputs": [
    {
     "data": {
      "text/plain": [
       "domain     0\n",
       "type       0\n",
       "url        0\n",
       "content    0\n",
       "title      0\n",
       "dtype: int64"
      ]
     },
     "execution_count": 97,
     "metadata": {},
     "output_type": "execute_result"
    }
   ],
   "source": [
    "df.isnull().sum()"
   ]
  },
  {
   "cell_type": "markdown",
   "metadata": {},
   "source": [
    "Number of news per Category 'Fake' and 'True'"
   ]
  },
  {
   "cell_type": "code",
   "execution_count": 98,
   "metadata": {},
   "outputs": [
    {
     "name": "stdout",
     "output_type": "stream",
     "text": [
      "type\n",
      "fake         125\n",
      "reliable    3164\n",
      "satire      1323\n",
      "dtype: int64\n"
     ]
    },
    {
     "data": {
      "text/plain": [
       "<AxesSubplot:xlabel='type'>"
      ]
     },
     "execution_count": 98,
     "metadata": {},
     "output_type": "execute_result"
    },
    {
     "data": {
      "image/png": "[encoded data removed]",
      "text/plain": [
       "<Figure size 432x288 with 1 Axes>"
      ]
     },
     "metadata": {
      "needs_background": "light"
     },
     "output_type": "display_data"
    }
   ],
   "source": [
    "plot_cat = df.groupby('type').size()\n",
    "print(plot_cat)\n",
    "\n",
    "plot_cat.plot.bar()"
   ]
  },
  {
   "cell_type": "markdown",
   "metadata": {},
   "source": [
    "##  Explore fake, reliable and satire news"
   ]
  },
  {
   "cell_type": "code",
   "execution_count": 99,
   "metadata": {},
   "outputs": [],
   "source": [
    "# we got 125 fake news, 3164 reliable news and 1323 satire news\n",
    "\n",
    "df_satire = df[df['type'] == 'satire']\n",
    "df_reliable = df[df['type'] == 'reliable']\n",
    "df_fake = df[df['type'] == 'fake']"
   ]
  },
  {
   "cell_type": "code",
   "execution_count": 100,
   "metadata": {},
   "outputs": [
    {
     "data": {
      "text/plain": [
       "domain\n",
       "nutritionfacts.org        3084\n",
       "nytimes.com                 55\n",
       "in.reuters.com               6\n",
       "latino.foxnews.com           5\n",
       "www.cbsnews.com              4\n",
       "www.buzzfeed.com             3\n",
       "www.msn.com                  2\n",
       "www.nba.com                  1\n",
       "www.huffingtonpost.com       1\n",
       "www.cnet.com                 1\n",
       "wiki.mozilla.org             1\n",
       "news.yahoo.com               1\n",
       "dtype: int64"
      ]
     },
     "execution_count": 100,
     "metadata": {},
     "output_type": "execute_result"
    }
   ],
   "source": [
    "# check reliable news sources with 'domain'\n",
    "\n",
    "df_reliable.groupby('domain').size().sort_values(ascending = False)"
   ]
  },
  {
   "cell_type": "code",
   "execution_count": 101,
   "metadata": {},
   "outputs": [
    {
     "data": {
      "text/plain": [
       "domain\n",
       "beforeitsnews.com    125\n",
       "dtype: int64"
      ]
     },
     "execution_count": 101,
     "metadata": {},
     "output_type": "execute_result"
    }
   ],
   "source": [
    "# check fake news sources with 'domain'\n",
    "\n",
    "df_fake.groupby('domain').size().sort_values(ascending = False)"
   ]
  },
  {
   "cell_type": "code",
   "execution_count": 102,
   "metadata": {},
   "outputs": [
    {
     "data": {
      "text/plain": [
       "domain\n",
       "actualidadpanamericana.com    1278\n",
       "elmundotoday.com                45\n",
       "dtype: int64"
      ]
     },
     "execution_count": 102,
     "metadata": {},
     "output_type": "execute_result"
    }
   ],
   "source": [
    "# check satire news sources with 'domain'\n",
    "\n",
    "df_satire.groupby('domain').size().sort_values(ascending = False)"
   ]
  },
  {
   "cell_type": "markdown",
   "metadata": {},
   "source": [
    "## Create a new dataframe\n",
    "\n",
    "1. Drop `reliable` news domain 'nutritionfacts.org':\n",
    "    - Short title/headline without information\n",
    "    - New's content is usually short.    \n",
    "\n",
    "\n",
    "3. Unify `satire` and `fake` types, priorize news from Spain.\n",
    "\n",
    "\n",
    "4. Balance the corpus"
   ]
  },
  {
   "cell_type": "markdown",
   "metadata": {},
   "source": [
    "### 1. Drop nutritionfacts.org reliable news"
   ]
  },
  {
   "cell_type": "code",
   "execution_count": 113,
   "metadata": {},
   "outputs": [
    {
     "name": "stdout",
     "output_type": "stream",
     "text": [
      "type\n",
      "fake         125\n",
      "reliable      80\n",
      "satire      1323\n",
      "dtype: int64 \n",
      "\n",
      " domain\n",
      "nytimes.com               55\n",
      "in.reuters.com             6\n",
      "latino.foxnews.com         5\n",
      "www.cbsnews.com            4\n",
      "www.buzzfeed.com           3\n",
      "www.msn.com                2\n",
      "www.nba.com                1\n",
      "www.huffingtonpost.com     1\n",
      "www.cnet.com               1\n",
      "wiki.mozilla.org           1\n",
      "news.yahoo.com             1\n",
      "dtype: int64\n"
     ]
    }
   ],
   "source": [
    "# drop\n",
    "df.drop(df[df['domain'] == 'nutritionfacts.org' ].index , inplace = True)\n",
    "df.reset_index(inplace = True, drop = True)\n",
    "\n",
    "# check\n",
    "df_reliable = df[df['type'] == 'reliable']\n",
    "df_reliable = df[df['type'] == 'reliable']\n",
    "df_fake = df[df['type'] == 'fake']\n",
    "\n",
    "print(df.groupby('type').size(), '\\n\\n', df_reliable.groupby('domain').size().sort_values(ascending = False))"
   ]
  },
  {
   "cell_type": "code",
   "execution_count": 115,
   "metadata": {},
   "outputs": [
    {
     "name": "stdout",
     "output_type": "stream",
     "text": [
      "<class 'pandas.core.frame.DataFrame'>\n",
      "RangeIndex: 1528 entries, 0 to 1527\n",
      "Data columns (total 5 columns):\n",
      " #   Column   Non-Null Count  Dtype \n",
      "---  ------   --------------  ----- \n",
      " 0   domain   1528 non-null   object\n",
      " 1   type     1528 non-null   object\n",
      " 2   url      1528 non-null   object\n",
      " 3   content  1528 non-null   object\n",
      " 4   title    1528 non-null   object\n",
      "dtypes: object(5)\n",
      "memory usage: 59.8+ KB\n"
     ]
    }
   ],
   "source": [
    "df.info()"
   ]
  },
  {
   "cell_type": "code",
   "execution_count": 131,
   "metadata": {},
   "outputs": [
    {
     "data": {
      "text/html": [
       "<div>\n",
       "<style scoped>\n",
       "    .dataframe tbody tr th:only-of-type {\n",
       "        vertical-align: middle;\n",
       "    }\n",
       "\n",
       "    .dataframe tbody tr th {\n",
       "        vertical-align: top;\n",
       "    }\n",
       "\n",
       "    .dataframe thead th {\n",
       "        text-align: right;\n",
       "    }\n",
       "</style>\n",
       "<table border=\"1\" class=\"dataframe\">\n",
       "  <thead>\n",
       "    <tr style=\"text-align: right;\">\n",
       "      <th></th>\n",
       "      <th>domain</th>\n",
       "      <th>type</th>\n",
       "      <th>url</th>\n",
       "      <th>content</th>\n",
       "      <th>title</th>\n",
       "    </tr>\n",
       "  </thead>\n",
       "  <tbody>\n",
       "    <tr>\n",
       "      <th>2217</th>\n",
       "      <td>actualidadpanamericana.com</td>\n",
       "      <td>satire</td>\n",
       "      <td>http://www.actualidadpanamericana.com/joven-se...</td>\n",
       "      <td>Un hecho insólito se presentó en la tarde de e...</td>\n",
       "      <td>Joven se pierde concierto de Maroon 5 por hace...</td>\n",
       "    </tr>\n",
       "    <tr>\n",
       "      <th>1599</th>\n",
       "      <td>actualidadpanamericana.com</td>\n",
       "      <td>satire</td>\n",
       "      <td>http://www.actualidadpanamericana.com/polemica...</td>\n",
       "      <td>La policía metropolitana de Bogotá detuvo hoy ...</td>\n",
       "      <td>Polémica por venta de abonos para ver enfrenta...</td>\n",
       "    </tr>\n",
       "    <tr>\n",
       "      <th>1425</th>\n",
       "      <td>actualidadpanamericana.com</td>\n",
       "      <td>satire</td>\n",
       "      <td>http://www.actualidadpanamericana.com/rodolfo-...</td>\n",
       "      <td>Un hecho curioso marcó la visita del destacado...</td>\n",
       "      <td>Rodolfo Llinás no entendió cómo funcionan las ...</td>\n",
       "    </tr>\n",
       "    <tr>\n",
       "      <th>2057</th>\n",
       "      <td>actualidadpanamericana.com</td>\n",
       "      <td>satire</td>\n",
       "      <td>http://www.actualidadpanamericana.com/el-proxi...</td>\n",
       "      <td>Mucha controversia ha causado la decisión del ...</td>\n",
       "      <td>Zanqueros y comparsas por la paz reemplazarán ...</td>\n",
       "    </tr>\n",
       "    <tr>\n",
       "      <th>1921</th>\n",
       "      <td>actualidadpanamericana.com</td>\n",
       "      <td>satire</td>\n",
       "      <td>http://www.actualidadpanamericana.com/encuentr...</td>\n",
       "      <td>Autoridades ambientales en compañía de la Poli...</td>\n",
       "      <td>Encuentran nido de ladrones en humedal. Sería ...</td>\n",
       "    </tr>\n",
       "  </tbody>\n",
       "</table>\n",
       "</div>"
      ],
      "text/plain": [
       "                          domain    type  \\\n",
       "2217  actualidadpanamericana.com  satire   \n",
       "1599  actualidadpanamericana.com  satire   \n",
       "1425  actualidadpanamericana.com  satire   \n",
       "2057  actualidadpanamericana.com  satire   \n",
       "1921  actualidadpanamericana.com  satire   \n",
       "\n",
       "                                                    url  \\\n",
       "2217  http://www.actualidadpanamericana.com/joven-se...   \n",
       "1599  http://www.actualidadpanamericana.com/polemica...   \n",
       "1425  http://www.actualidadpanamericana.com/rodolfo-...   \n",
       "2057  http://www.actualidadpanamericana.com/el-proxi...   \n",
       "1921  http://www.actualidadpanamericana.com/encuentr...   \n",
       "\n",
       "                                                content  \\\n",
       "2217  Un hecho insólito se presentó en la tarde de e...   \n",
       "1599  La policía metropolitana de Bogotá detuvo hoy ...   \n",
       "1425  Un hecho curioso marcó la visita del destacado...   \n",
       "2057  Mucha controversia ha causado la decisión del ...   \n",
       "1921  Autoridades ambientales en compañía de la Poli...   \n",
       "\n",
       "                                                  title  \n",
       "2217  Joven se pierde concierto de Maroon 5 por hace...  \n",
       "1599  Polémica por venta de abonos para ver enfrenta...  \n",
       "1425  Rodolfo Llinás no entendió cómo funcionan las ...  \n",
       "2057  Zanqueros y comparsas por la paz reemplazarán ...  \n",
       "1921  Encuentran nido de ladrones en humedal. Sería ...  "
      ]
     },
     "execution_count": 131,
     "metadata": {},
     "output_type": "execute_result"
    }
   ],
   "source": [
    "df_satire.sample(5)"
   ]
  },
  {
   "cell_type": "markdown",
   "metadata": {},
   "source": [
    "### 2. Unify satire and fake news"
   ]
  },
  {
   "cell_type": "code",
   "execution_count": 135,
   "metadata": {},
   "outputs": [],
   "source": [
    "df['type'] = df['type'].str.replace('fake', 'Fake')\n",
    "df['type'] = df['type'].str.replace('satire', 'Fake')\n",
    "df['type'] = df['type'].str.replace('reliable', 'True')"
   ]
  },
  {
   "cell_type": "code",
   "execution_count": 136,
   "metadata": {},
   "outputs": [
    {
     "data": {
      "text/html": [
       "<div>\n",
       "<style scoped>\n",
       "    .dataframe tbody tr th:only-of-type {\n",
       "        vertical-align: middle;\n",
       "    }\n",
       "\n",
       "    .dataframe tbody tr th {\n",
       "        vertical-align: top;\n",
       "    }\n",
       "\n",
       "    .dataframe thead th {\n",
       "        text-align: right;\n",
       "    }\n",
       "</style>\n",
       "<table border=\"1\" class=\"dataframe\">\n",
       "  <thead>\n",
       "    <tr style=\"text-align: right;\">\n",
       "      <th></th>\n",
       "      <th>domain</th>\n",
       "      <th>type</th>\n",
       "      <th>url</th>\n",
       "      <th>content</th>\n",
       "      <th>title</th>\n",
       "    </tr>\n",
       "  </thead>\n",
       "  <tbody>\n",
       "    <tr>\n",
       "      <th>0</th>\n",
       "      <td>actualidadpanamericana.com</td>\n",
       "      <td>Fake</td>\n",
       "      <td>http://www.actualidadpanamericana.com/allanada...</td>\n",
       "      <td>Esta mañana unidades del CTI allanaron las ofi...</td>\n",
       "      <td>Allanadas oficinas de Actualidad Panamericana ...</td>\n",
       "    </tr>\n",
       "    <tr>\n",
       "      <th>1</th>\n",
       "      <td>actualidadpanamericana.com</td>\n",
       "      <td>Fake</td>\n",
       "      <td>http://www.actualidadpanamericana.com/ya-abrie...</td>\n",
       "      <td>Algo de sosiego trajo a los miles de viajeros ...</td>\n",
       "      <td>Ya abrieron un D1 en trancón de La Línea</td>\n",
       "    </tr>\n",
       "    <tr>\n",
       "      <th>2</th>\n",
       "      <td>actualidadpanamericana.com</td>\n",
       "      <td>Fake</td>\n",
       "      <td>http://www.actualidadpanamericana.com/jaguares...</td>\n",
       "      <td>El fin de año es época de anuncios en el fútbo...</td>\n",
       "      <td>Jaguares anunció a Dimayor como patrocinador p...</td>\n",
       "    </tr>\n",
       "    <tr>\n",
       "      <th>3</th>\n",
       "      <td>actualidadpanamericana.com</td>\n",
       "      <td>Fake</td>\n",
       "      <td>http://www.actualidadpanamericana.com/embajado...</td>\n",
       "      <td>Un mico de última hora en la nueva ley que rig...</td>\n",
       "      <td>Embajadora de Florhuila, Claudia Bahamón defie...</td>\n",
       "    </tr>\n",
       "    <tr>\n",
       "      <th>4</th>\n",
       "      <td>actualidadpanamericana.com</td>\n",
       "      <td>Fake</td>\n",
       "      <td>http://www.actualidadpanamericana.com/guia-inv...</td>\n",
       "      <td>Cada nuevo año es la oportunidad para planear ...</td>\n",
       "      <td>Guía para invertir su dinero en 2018</td>\n",
       "    </tr>\n",
       "  </tbody>\n",
       "</table>\n",
       "</div>"
      ],
      "text/plain": [
       "                       domain  type  \\\n",
       "0  actualidadpanamericana.com  Fake   \n",
       "1  actualidadpanamericana.com  Fake   \n",
       "2  actualidadpanamericana.com  Fake   \n",
       "3  actualidadpanamericana.com  Fake   \n",
       "4  actualidadpanamericana.com  Fake   \n",
       "\n",
       "                                                 url  \\\n",
       "0  http://www.actualidadpanamericana.com/allanada...   \n",
       "1  http://www.actualidadpanamericana.com/ya-abrie...   \n",
       "2  http://www.actualidadpanamericana.com/jaguares...   \n",
       "3  http://www.actualidadpanamericana.com/embajado...   \n",
       "4  http://www.actualidadpanamericana.com/guia-inv...   \n",
       "\n",
       "                                             content  \\\n",
       "0  Esta mañana unidades del CTI allanaron las ofi...   \n",
       "1  Algo de sosiego trajo a los miles de viajeros ...   \n",
       "2  El fin de año es época de anuncios en el fútbo...   \n",
       "3  Un mico de última hora en la nueva ley que rig...   \n",
       "4  Cada nuevo año es la oportunidad para planear ...   \n",
       "\n",
       "                                               title  \n",
       "0  Allanadas oficinas de Actualidad Panamericana ...  \n",
       "1           Ya abrieron un D1 en trancón de La Línea  \n",
       "2  Jaguares anunció a Dimayor como patrocinador p...  \n",
       "3  Embajadora de Florhuila, Claudia Bahamón defie...  \n",
       "4               Guía para invertir su dinero en 2018  "
      ]
     },
     "execution_count": 136,
     "metadata": {},
     "output_type": "execute_result"
    }
   ],
   "source": [
    "df.head()"
   ]
  }
 ],
 "metadata": {
  "kernelspec": {
   "display_name": "Python 3",
   "language": "python",
   "name": "python3"
  },
  "language_info": {
   "codemirror_mode": {
    "name": "ipython",
    "version": 3
   },
   "file_extension": ".py",
   "mimetype": "text/x-python",
   "name": "python",
   "nbconvert_exporter": "python",
   "pygments_lexer": "ipython3",
   "version": "3.6.9"
  }
 },
 "nbformat": 4,
 "nbformat_minor": 2
}
