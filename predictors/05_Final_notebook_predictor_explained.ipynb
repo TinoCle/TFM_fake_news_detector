{
 "cells": [
  {
   "cell_type": "markdown",
   "metadata": {},
   "source": [
    "# Fake news detector\n",
    "\n",
    "On this notebook we are going to take best model from the __[Final modelling notebook](https://github.com/pipe11/TFM_fake_news_detector/blob/master/models/11_final_notebook_models_explained.ipynb)__, and load it. It resulted that the best model is XGBOOST, but we are considering 2 models:\n",
    "1. XGBOOST without features extracted from TFIDF vectorizer\n",
    "2. XGBOOST with features extracted from TFIDF vectorizer\n",
    "\n",
    "At first, we are going to consider the easy approach with the first model and later on we will try a predictor with the second model.\n",
    "\n",
    "## INDEX\n",
    "\n",
    "[1. Functions](#1.-Functions)\n",
    "\n",
    "[2.Extract news with url](#2.-Extract-news-with-url)\n",
    "\n",
    "[3. First model predictor](#3.-First-model-predictor)\n",
    "\n",
    "[4. Second model predictor](#4.-Second-model-predictor)"
   ]
  },
  {
   "cell_type": "markdown",
   "metadata": {},
   "source": [
    "## 1. Functions"
   ]
  },
  {
   "cell_type": "markdown",
   "metadata": {},
   "source": [
    "We need a function to extrat features from the New's text content and headline that we are going to classify as fake or real. For this case we are going to use the function `get_news_features()` from the __[Final feature extraction notebook](https://github.com/pipe11/TFM_fake_news_detector/blob/master/feature_extraction/06_Final_notebook_feature_extraction_explained.ipynb)__. \n",
    "\n",
    "Also we are using the following function `get_nsyllables()` to extract the syllables from the text:"
   ]
  },
  {
   "cell_type": "markdown",
   "metadata": {},
   "source": [
    "### `get_nsyllables()`"
   ]
  },
  {
   "cell_type": "code",
   "execution_count": 9,
   "metadata": {},
   "outputs": [],
   "source": [
    "def get_nsyllables(text):\n",
    "    from syltippy import syllabize\n",
    "    \n",
    "    text = text.replace(r\"*URL*\", \"url\")\n",
    "    text = re.sub(r'\\d+', '', text)\n",
    "    text = re.sub('\\n', '', text)\n",
    "    text = re.sub(r'[^ \\nA-Za-z0-9ÁÉÍÓÚÑáéíóúñ/]+', '', text)\n",
    "    \n",
    "    n_syllables = len(syllabize(text)[0])\n",
    "    \n",
    "    return n_syllables"
   ]
  },
  {
   "cell_type": "markdown",
   "metadata": {},
   "source": [
    "### `get_news_features()`\n",
    "\n",
    "We are not including number of words, sentences, quotes, and syllables, only ratios."
   ]
  },
  {
   "cell_type": "code",
   "execution_count": 14,
   "metadata": {},
   "outputs": [
    {
     "name": "stdout",
     "output_type": "stream",
     "text": [
      "CPU times: user 0 ns, sys: 0 ns, total: 0 ns\n",
      "Wall time: 30.3 µs\n"
     ]
    }
   ],
   "source": [
    "%%time\n",
    "\n",
    "import pandas as pd\n",
    "import nltk\n",
    "import spacy\n",
    "import re\n",
    "from nltk import FreqDist\n",
    "from lexical_diversity import lex_div as ld\n",
    "\n",
    "def get_news_features(headline, text):\n",
    "    \n",
    "    nlp = spacy.load('es_core_news_lg')\n",
    "\n",
    "    ## headline ##\n",
    "    headline = re.sub(r\"http\\S+\", \"\", headline)\n",
    "    headline = re.sub(r\"http\", \"\", headline)\n",
    "    headline = re.sub(r\"@\\S+\", \"\", headline)\n",
    "    headline = re.sub(\"\\n\", \" \", headline)\n",
    "    headline = re.sub(r\"(?<!\\n)\\n(?!\\n)\", \" \", headline)\n",
    "    headline = headline.replace(r\"*NUMBER*\", \"número\")\n",
    "    headline = headline.replace(r\"*PHONE*\", \"número\")\n",
    "    headline = headline.replace(r\"*EMAIL*\", \"email\")\n",
    "    headline = headline.replace(r\"*URL*\", \"url\")\n",
    "    headline_lower = headline.lower()\n",
    "    doc_h = nlp(headline_lower)\n",
    "\n",
    "    list_tokens_h = []\n",
    "    list_tags_h = []\n",
    "\n",
    "    for sentence_h in doc_h.sents:\n",
    "        for token in sentence_h:\n",
    "            list_tokens_h.append(token.text)\n",
    "\n",
    "    fdist_h = FreqDist(list_tokens_h)\n",
    "    syllables_h = get_nsyllables(headline)\n",
    "    words_h = len(list_tokens_h)\n",
    "\n",
    "    # headline complexity features\n",
    "    avg_word_size_h = round(sum(len(word) for word in list_tokens_h) / words_h, 2)\n",
    "    avg_syllables_word_h = round(syllables_h / words_h, 2)\n",
    "    unique_words_h = round((len(fdist_h.hapaxes()) / words_h) * 100, 2)\n",
    "    mltd_h = round(ld.mtld(list_tokens_h), 2)\n",
    "    ttr_h = round(ld.ttr(list_tokens_h) * 100, 2)\n",
    "\n",
    "    ## text content##     \n",
    "    text = re.sub(r\"http\\S+\", \"\", text)\n",
    "    text = re.sub(r\"http\", \"\", text)\n",
    "    text = re.sub(\"\\n\", \" \", text)\n",
    "    text = text.replace(r\"*NUMBER*\", \"número\")\n",
    "    text = text.replace(r\"*PHONE*\", \"número\")\n",
    "    text = text.replace(r\"*EMAIL*\", \"email\")\n",
    "    text = text.replace(r\"*URL*\", \"url\")\n",
    "\n",
    "    # to later calculate upper case letters ratio\n",
    "    alph = list(filter(str.isalpha, text))\n",
    "    text_lower = text.lower()\n",
    "    doc = nlp(text_lower)\n",
    "\n",
    "    list_tokens = []\n",
    "    list_pos = []\n",
    "    list_tag = []\n",
    "    list_entities = []\n",
    "    sents = 0\n",
    "\n",
    "    for entity in doc.ents:\n",
    "        list_entities.append(entity.label_)\n",
    "\n",
    "    for sentence in doc.sents:\n",
    "        sents += 1\n",
    "        for token in sentence:\n",
    "            list_tokens.append(token.text)\n",
    "            list_pos.append(token.pos_)\n",
    "            list_tag.append(token.tag_)\n",
    "\n",
    "    # Calculate entities, pos, tag, freq, syllables, words and quotes\n",
    "    entities = len(list_entities)\n",
    "    n_pos = nltk.Counter(list_pos)\n",
    "    n_tag = nltk.Counter(list_tag)\n",
    "    fdist = FreqDist(list_tokens)\n",
    "    syllables = get_nsyllables(text)\n",
    "    words = len(list_tokens)\n",
    "    quotes = n_tag['PUNCT__PunctType=Quot']\n",
    "\n",
    "    # complexity features\n",
    "    avg_word_sentence = round(words / sents, 2)\n",
    "    avg_word_size = round(sum(len(word) for word in list_tokens) / words, 2)\n",
    "    avg_syllables_word = round(syllables / words, 2)\n",
    "    unique_words = round((len(fdist.hapaxes()) / words) * 100, 2)\n",
    "    ttr = round(ld.ttr(list_tokens) * 100, 2)\n",
    "\n",
    "    # readability spanish test\n",
    "    huerta_score = round(206.84 - (60 * avg_syllables_word) - (1.02 * avg_word_sentence), 2)\n",
    "    szigriszt_score = round(206.835 - ((62.3 * syllables) / words) - (words / sents), 2)\n",
    "\n",
    "    # stylometric features\n",
    "    mltd = round(ld.mtld(list_tokens), 2)\n",
    "    upper_case_ratio = round(sum(map(str.isupper, alph)) / len(alph) * 100, 2)\n",
    "    entity_ratio = round((entities / words) * 100, 2)\n",
    "    quotes_ratio = round((quotes / words) * 100, 2)\n",
    "    propn_ratio = round((n_pos['PROPN'] / words) * 100 , 2)\n",
    "    noun_ratio = round((n_pos['NOUN'] / words) * 100, 2) \n",
    "    pron_ratio = round((n_pos['PRON'] / words) * 100, 2)\n",
    "    adp_ratio = round((n_pos['ADP'] / words) * 100, 2)\n",
    "    det_ratio = round((n_pos['DET'] / words) * 100, 2)\n",
    "    punct_ratio = round((n_pos['PUNCT'] / words) * 100, 2)\n",
    "    verb_ratio = round((n_pos['VERB'] / words) * 100, 2)\n",
    "    adv_ratio = round((n_pos['ADV'] / words) * 100, 2)\n",
    "    sym_ratio = round((n_tag['SYM'] / words) * 100, 2)\n",
    "\n",
    "    # create df_features\n",
    "    df_features = pd.DataFrame({'text': text_lower, 'headline':headline_lower, 'words_h': words_h, 'word_size_h': [avg_word_size_h],\n",
    "                                'avg_syllables_word_h': [avg_syllables_word_h],'unique_words_h': [unique_words_h], \n",
    "                                'ttr_h': ttr_h, 'mltd_h': [mltd_h], 'sents': sents, 'words': words,\n",
    "                                'avg_words_sent': [avg_word_sentence], 'avg_word_size': [avg_word_size], \n",
    "                                'avg_syllables_word': avg_syllables_word, 'unique_words': [unique_words], \n",
    "                                'ttr': [ttr], 'huerta_score': [huerta_score], 'szigriszt_score': [szigriszt_score],\n",
    "                                'mltd': [mltd], 'upper_case_ratio': [upper_case_ratio], 'entity_ratio': [entity_ratio],\n",
    "                                'quotes': quotes, 'quotes_ratio': [quotes_ratio], 'propn_ratio': [propn_ratio], \n",
    "                                'noun_ratio': [noun_ratio], 'pron_ratio': [pron_ratio], 'adp_ratio': [adp_ratio],\n",
    "                                'det_ratio': [det_ratio], 'punct_ratio': [punct_ratio], 'verb_ratio': [verb_ratio],\n",
    "                                'adv_ratio': [adv_ratio], 'sym_ratio': [sym_ratio]})\n",
    "    \n",
    "    return df_features"
   ]
  },
  {
   "cell_type": "markdown",
   "metadata": {},
   "source": [
    "### Functions for the TF-IDF transformation"
   ]
  },
  {
   "cell_type": "code",
   "execution_count": 1,
   "metadata": {},
   "outputs": [],
   "source": [
    "import pandas as pd\n",
    "from sklearn.feature_extraction.text import TfidfVectorizer\n",
    "\n",
    "import nltk\n",
    "from nltk.corpus import stopwords  \n",
    "from nltk import word_tokenize  \n",
    "from nltk.data import load  \n",
    "from nltk.stem import SnowballStemmer  \n",
    "from string import punctuation\n",
    "\n",
    "df = pd.read_csv('../data/spanish_corpus_features_v6_no_outliers.csv')\n",
    "\n",
    "####### TFIDF Transformation to text ########\n",
    "\n",
    "#Stopword list to use\n",
    "spanish_stopwords = stopwords.words('spanish')\n",
    "\n",
    "#Spanish stemmer:\n",
    "stemmer = SnowballStemmer('spanish')\n",
    "\n",
    "def stem_tokens(tokens, stemmer):  \n",
    "    stemmed = []\n",
    "    for item in tokens:\n",
    "        stemmed.append(stemmer.stem(item))\n",
    "    return stemmed\n",
    "\n",
    "#Punctuation to remove\n",
    "non_words = list(punctuation)\n",
    "\n",
    "#Adding spanish punctuation\n",
    "non_words.extend(['¿', '¡', '‘', '’', '“', '”'])  \n",
    "non_words.extend(map(str, range(10)))\n",
    "\n",
    "def tokenize(text):  \n",
    "    #Remove punctuation\n",
    "    text = ''.join([c for c in text if c not in non_words])\n",
    "    #Tokenize\n",
    "    tokens =  word_tokenize(text)\n",
    "\n",
    "    #Stem\n",
    "    try:\n",
    "        stems = stem_tokens(tokens, stemmer)\n",
    "    except Exception as e:\n",
    "        print(e)\n",
    "        print(text)\n",
    "        stems = ['']\n",
    "    return stems\n",
    "\n",
    "\n",
    "tfidf_vectorizer = TfidfVectorizer(\n",
    "    analyzer = 'word',\n",
    "    tokenizer = tokenize,\n",
    "    lowercase = True,\n",
    "    stop_words = spanish_stopwords)"
   ]
  },
  {
   "cell_type": "markdown",
   "metadata": {},
   "source": [
    "### Check if it works"
   ]
  },
  {
   "cell_type": "code",
   "execution_count": 4,
   "metadata": {},
   "outputs": [
    {
     "name": "stdout",
     "output_type": "stream",
     "text": [
      "Insert news headline:Más de 2.000 profesores de Madrid tendrán que repetir el test tras dar positivo por Covid en la primera prueba\n",
      "Insert news content:Entre 2.000 y 2.500 positivos por Covid, esas son las cifras que arrojan los aproximadamente 67.000 test realizados por la Comunidad de Madrid a los profesores de la región durante esta pasada semana. Así lo ha apuntado este domingo el consejero de Educación, Enrique Ossorio, que ha hecho balance de esas pruebas este domingo durante su visita al albergue juvenil de Los Batanes, en la localidad de Rascafría.  \"Queríamos que antes de que empezara el curso todos los profesores se hicieran test serológicos para dar seguridad a todas la sociedad\", ha remarcado el consejero, que ha afirmado que Madrid \"no ha escatimado\" en la realización de estas pruebas a las que han acudido el 90% de los docentes de la región. Unas pruebas que se han saldado con un porcentaje de positivos entre los docentes superior al 3,5%.  Ahora esos profesores cuya prueba sea positiva tendrán que someterse a un segundo test para garantizar que pueden acudir a las clases que arrancan en la capital este martes y este miércoles. En caso de que el resultado de estas personas vuelva a ser positivo serán sustituidas por interinos durante el principio de curso, según ha confirmado Ossorio, que ha desvinculado este hecho de la contratación de 10.600 profesores adicionales para este nuevo curso.  El consejero ha señalado que la realización de estas pruebas era \"una medida necesaria\" pero ha supuesto \"un reto muy complicado porque los profesores se reincorporaron el pasado martes de sus vacaciones\". Al día siguiente, el miércoles, se comenzaron con las pruebas que provocaron colas de varias horas al convocar a todos los docentes a la misma hora, situación que obligó a su suspensión esa primera jornada. \"El primer día hubo colas y hemos pedido disculpas por ello porque esperaron muchas horas y eso no está bien\", ha reconocido el consejero.  \"España y Madrid no se pueden parar y la educación no se puede parar\", ha incidido Ossorio que ha realizado \"un llamamiento a la tranquilidad\" tanto a la comunidad educativa como a los padres. El consejero de Sanidad ha remarcado que el Gobierno regional que preside Isabel Díaz Ayuso ha desarrollado \"un refuerzo histórico\" centrado fundamentalmente en medidas sanitarias y de seguridad para el inicio del curso reduciendo la ratio de las aulas, contratando personal docente y garantizando la separación entre mesas.  No obstante, Ossorio ha calificado de \"inevitable\" que se produzca \"algún contagio\" en este retorno a las aulas. \"La experiencia del resto de países europeos nos dice que se ha cerrado algún centro pero que el sistema funciona\", ha agregado. Aún así ha recordado que el cierre de los centros es \"la última opción\" contemplada por el protocolo establecido por las comunidad autonómas y el Ministerio de Educación.  El titular autonómico de Educación ha puesto también el foco sobre la reunión que mantendrá este lunes la presidenta Isabel Díaz Ayuso con los presidentes de Castilla y León y Castilla-La Mancha. Ossorio ha aseverado que es \"clave\" en materia educativa porque \"un gran número\" de docentes y alumnos de Madrid residen en poblaciones limítrofes a Madrid pertenecientes a ambas comunidades. \"Tenemos que establecer un marco común\", ha concluido.\n"
     ]
    },
    {
     "data": {
      "text/html": [
       "<div>\n",
       "<style scoped>\n",
       "    .dataframe tbody tr th:only-of-type {\n",
       "        vertical-align: middle;\n",
       "    }\n",
       "\n",
       "    .dataframe tbody tr th {\n",
       "        vertical-align: top;\n",
       "    }\n",
       "\n",
       "    .dataframe thead th {\n",
       "        text-align: right;\n",
       "    }\n",
       "</style>\n",
       "<table border=\"1\" class=\"dataframe\">\n",
       "  <thead>\n",
       "    <tr style=\"text-align: right;\">\n",
       "      <th></th>\n",
       "      <th>words_h</th>\n",
       "      <th>avg_word_size_h</th>\n",
       "      <th>avg_syllables_word</th>\n",
       "      <th>unique_words_h</th>\n",
       "      <th>mltd_h</th>\n",
       "      <th>sents</th>\n",
       "      <th>words</th>\n",
       "      <th>avg_word_sentence</th>\n",
       "      <th>avg_word_size</th>\n",
       "      <th>unique_words</th>\n",
       "      <th>...</th>\n",
       "      <th>quotes_ratio</th>\n",
       "      <th>propn_ratio</th>\n",
       "      <th>noun_ratio</th>\n",
       "      <th>pron_ratio</th>\n",
       "      <th>adp_ratio</th>\n",
       "      <th>det_ratio</th>\n",
       "      <th>punct_ratio</th>\n",
       "      <th>verb_ratio</th>\n",
       "      <th>adv_ratio</th>\n",
       "      <th>sym_ratio</th>\n",
       "    </tr>\n",
       "  </thead>\n",
       "  <tbody>\n",
       "    <tr>\n",
       "      <th>0</th>\n",
       "      <td>592</td>\n",
       "      <td>4.53</td>\n",
       "      <td>1.65</td>\n",
       "      <td>33.28</td>\n",
       "      <td>68.8</td>\n",
       "      <td>1</td>\n",
       "      <td>20</td>\n",
       "      <td>20.0</td>\n",
       "      <td>4.55</td>\n",
       "      <td>90.0</td>\n",
       "      <td>...</td>\n",
       "      <td>0.0</td>\n",
       "      <td>10.0</td>\n",
       "      <td>15.0</td>\n",
       "      <td>0.0</td>\n",
       "      <td>25.0</td>\n",
       "      <td>10.0</td>\n",
       "      <td>0.0</td>\n",
       "      <td>15.0</td>\n",
       "      <td>5.0</td>\n",
       "      <td>0.0</td>\n",
       "    </tr>\n",
       "  </tbody>\n",
       "</table>\n",
       "<p>1 rows × 27 columns</p>\n",
       "</div>"
      ],
      "text/plain": [
       "   words_h  avg_word_size_h  avg_syllables_word  unique_words_h  mltd_h  \\\n",
       "0      592             4.53                1.65           33.28    68.8   \n",
       "\n",
       "   sents  words  avg_word_sentence  avg_word_size  unique_words  ...  \\\n",
       "0      1     20               20.0           4.55          90.0  ...   \n",
       "\n",
       "   quotes_ratio  propn_ratio  noun_ratio  pron_ratio  adp_ratio  det_ratio  \\\n",
       "0           0.0         10.0        15.0         0.0       25.0       10.0   \n",
       "\n",
       "   punct_ratio  verb_ratio  adv_ratio  sym_ratio  \n",
       "0          0.0        15.0        5.0        0.0  \n",
       "\n",
       "[1 rows x 27 columns]"
      ]
     },
     "execution_count": 4,
     "metadata": {},
     "output_type": "execute_result"
    }
   ],
   "source": [
    "headline = input('Insert news headline:')\n",
    "text = input('Insert news content:')\n",
    "\n",
    "get_news_features(text, headline)"
   ]
  },
  {
   "cell_type": "markdown",
   "metadata": {},
   "source": [
    "## 2. Extract news with url"
   ]
  },
  {
   "cell_type": "markdown",
   "metadata": {},
   "source": [
    "### ¿How to extract the headline and New's content directly with and url?\n",
    "\n",
    "This is possible with __[Newspaper3k: Article scraping & curation](https://github.com/codelucas/newspaper)__ library for python that extracts the headline and the new's content from any newspaper"
   ]
  },
  {
   "cell_type": "code",
   "execution_count": null,
   "metadata": {},
   "outputs": [],
   "source": [
    "!pip3 install newspaper3k"
   ]
  },
  {
   "cell_type": "code",
   "execution_count": 60,
   "metadata": {},
   "outputs": [
    {
     "name": "stdout",
     "output_type": "stream",
     "text": [
      "Insert url: https://elpais.com/ideas/2020-09-05/educacion-como-reparar-los-destrozos.html\n",
      "['J. A. Aunión', 'José Manuel Romero'] \n",
      "\n",
      " Educación: cómo reparar los destrozos \n",
      "\n",
      " La epidemia más devastadora de los últimos 100 años ha destapado las insuficiencias del sistema sanitario y las debilidades del sistema educativo en España. Tres meses de confinamiento con los servicios públicos de salud desbordados como nunca (más de 100.000 ingresos hospitalarios en menos de 100 días; más de 45.000 fallecidos en ese tiempo por la Covid-19) y la educación metida en una pausa incierta (8,2 millones de alumnos y 712.000 profesores encerrados en sus casas a mitad de curso) han agrandado la grieta que sufre desde hace tiempo el Estado de bienestar.\n",
      "\n",
      "Una comisión del Congreso de los Diputados estudió durante dos meses cómo reparar tanto destrozo. Casi todos los expertos defendieron la necesidad de reformar sectores públicos estratégicos, antes golpeados por los recortes de la última crisis económica y ahora heridos de gravedad durante lo peor de la pandemia.\n",
      "\n",
      "Algunos de los que hablaron llegaron a suplicar unidad política para garantizar el futuro. Antonio Garamendi, presidente de la patronal CEOE, intervino así: “Sonroja ver la televisión y comprobar la división existente. La estabilidad es la base de la confianza”.\n",
      "\n",
      "Esa división política hizo que el trabajo parlamentario sobre los problemas del sistema educativo fuera inútil: el Congreso rechazó por un estrecho margen (175 frente a 172 votos) el dictamen sobre el bloque social que incluía medidas para el refuerzo de la enseñanza.\n",
      "\n",
      "La inestabilidad política que vive España desde 2015, con Gobiernos minoritarios sin apoyos suficientes, ha impedido hasta ahora cualquier acuerdo para apuntalar los pilares del Estado del bienestar.\n",
      "\n",
      "“La falta de modernización genera una sensación de agotamiento en los profesores, los alumnos y en la propia sociedad” Lucas Gortázar, especialista en educación del Banco Mundial\n",
      "\n",
      "La escuela española, sin embargo, lleva mucho más tiempo en cuestión. Tras los enormes avances que experimentó en el último tercio del siglo XX, con “un esfuerzo de expansión educativa brutal”, el especialista en educación del Banco Mundial, Lucas Gortázar, esboza un pedregoso trayecto. Primero, la incorporación masiva de alumnado extranjero en muy poco tiempo; después la burbuja económica y su explosión, la crisis y los recortes que han hecho muy difícil poner en marcha una “segunda generación de reformas” para dar ahora un salto de calidad. “Esa falta de modernización genera una sensación de agotamiento tanto en profesores como alumnos e, incluso, en la propia sociedad. Estamos como bloqueados”, dice Gortázar.\n",
      "\n",
      "En el centro de ese bloqueo está la histórica incapacidad de España para lograr amplios acuerdos sociales y políticos en este ámbito. En los últimos 18 años, España ha cambiado tres veces de ley educativa con bronca en las calles y una división política casi absoluta. El Congreso deberá abordar en los próximos meses la tramitación de una nueva ley que derogue la anterior, aprobada hace solo cuatro años.\n",
      "\n",
      "Ahora, cuando la pandemia acaba de dejar en evidencia las vergüenzas del sistema, la situación parece más acuciante que nunca. Hasta el gobernador del Banco de España, Pablo Hernández de Cos, preocupado por la deuda y la reforma laboral, situó a la educación como un sector prioritario sobre el que actuar de urgencia para la reconstrucción del país después de la pandemia: “Hay que reforzar el sistema educativo para asegurar que los alumnos de los hogares de menor renta adquieran las calificaciones necesarias aún en ausencia de educación presencial”. Diversos estudios señalan que tres meses de cierre en colegios, institutos y universidades dejarán secuelas.\n",
      "\n",
      "Es solo uno de los problemas del actual sistema educativo en el que coinciden casi todos los expertos. Pero hay más.\n",
      "\n",
      "1. Un agujero de 10.000 millones de euros y un déficit de miles de profesores\n",
      "\n",
      "El sistema público que garantiza la educación gratuita en España sufre una regresión peligrosa en los últimos años. El gasto del Estado y las 17 comunidades no llega al de hace 10 años, pese a que ahora hay un 10% más de alumnos. Entre 2009 y 2014, la inversión cayó de 53.000 millones a 44.000.\n",
      "\n",
      "El presupuesto del sistema educativo supuso un 5% del PIB en 2010; en 2019 no llegó al 4,2%. El agujero es tan profundo y sus consecuencias tan letales, que el presidente del Consejo Escolar del Estado, Enrique Roca, defendió el pasado 4 de junio una receta de emergencia en el Congreso: “España ha perdido prácticamente un punto porcentual, 9.000 o 10.000 millones de euros en inversión en educación en esta década. Hay que recuperarlo con la misma rapidez con la que el coronavirus nos ha afectado”.\n",
      "\n",
      "El Gobierno de Mariano Rajoy aprobó por decreto en 2012 medidas para el ahorro de costes en el sistema educativo: se aumentaba el número de alumnos por aula, se aplazaba hasta 10 días la cobertura de las bajas de profesores y se ampliaba su jornada mínima. Eso causó la reducción de la plantilla en más de 20.000 profesores entre 2012 y 2016. Aunque en los últimos años se han recuperado plantillas en el sector educativo, el aumento de docentes ha sido cuatro puntos inferior al incremento del número de alumnos.\n",
      "\n",
      "Hay que gastar más. “El esfuerzo económico que se requiere es importante en un momento en el que la situación de las finanzas públicas no es la mejor, pero el análisis económico sugiere que el coste de no hacer nada sería todavía mayor”, dice Ismael Sanz, profesor de Economía de la Universidad Rey Juan Carlos. Pero hay que hacerlo bien: “Alguien debe tener un plan de cómo gastarlo para que ese gasto se traduzca en mejorar el rendimiento y la equidad”, añade el catedrático de Sociología de la Universidad Autónoma de Barcelona, Xavier Bonal.\n",
      "\n",
      "Javier Murillo, director de la Cátedra UNESCO en Educación para la Justicia Social de la Autónoma de Madrid, señala las carencias que más claramente se deberían cubrir: “La falta de especialistas, las altas ratios, excesiva carga lectiva del profesorado que impide una educada planificación y trabajo en equipo, infraestructuras a veces inadecuadas”. De momento, las comunidades han prometido engordar las plantillas este curso con 39.000 profesores para poder atender con seguridad a los alumnos en medio de la pandemia. El sindicato CC OO calcula que harían falta 70.000 para cumplir la recomendación que hicieron el pasado junio los ministerios de Educación y Sanidad de que en ninguna clase haya más de 20 alumnos.\n",
      "\n",
      "2. Líderes del abandono escolar\n",
      "\n",
      "Daniel Palacios (zaragozano de 31 años) y Nicolás González (grancanario de 22) han retomado recientemente los estudios en escuelas de adultos, después de años engrosando las dos estadísticas más sonrojantes del sistema educativo: el abandono temprano (los que dejan de estudiar después de la enseñanza obligatoria) y el fracaso escolar (los que lo hacen además sin haber conseguido el título de ESO). Palacios no le echa la culpa a nadie más que a sí mismo de su tropiezo a los 16 años, pero si se le pregunta si recibió apoyos o ayuda extra, cuenta que algunos de sus profesores del instituto le decían, al llegar al examen: “Tú si quieres pon el nombre y te vas”. González sí recuerda recibir ánimos de sus docentes, pero ningún apoyo ni ninguna alternativa que le ayudara a superar su absoluta y total “desmotivación”, lo que la socióloga de la Autónoma de Barcelona Aina Tarabini define como “la desvinculación de numerosos jóvenes con la institución escolar”.\n",
      "\n",
      "El abandono escolar temprano se ha reducido mucho en los últimos años ―ha pasado del 29,1% en 2000 al 28,4% en 2010 y al 17% actual―, en gran medida por la situación de crisis: si hay menos oferta de trabajo poco cualificado, se reducen también los incentivos para dejar pronto los estudios. En todo caso, la cifra todavía duplica y triplica a las registradas en los países de nuestro entorno y también supera por mucho la media europea (10%).\n",
      "\n",
      "Se trata del síntoma más claro de un sistema descompensado, con muchos jóvenes en la base, sin cualificación suficiente (un 30% solo tiene, como mucho, la educación obligatoria), y muchos en la cúspide (un 46% tiene en un título universitario o de FP superior), pero muy pocos en el medio (con bachillerato o FP de grado medio). Esto se traduce, analizando ahora el nivel de formación de toda la población adulta, en que casi uno de cada cuatro españoles han completado, como máximo, la educación obligatoria, una proporción que deja al país muy a la cola en la comparación internacional.\n",
      "\n",
      "Los especialistas (para este artículo han sido consultados una docena) proponen una y otra vez medidas para que todos esos chicos y chicas que se quedan en el camino alcancen al menos el siguiente escalón, mejorando el atractivo de la FP, con más medios para detectar problemas a edades tempranas y dando apoyos extra a los que lo necesiten, garantizando las vías de reenganche. Otras recomendaciones muy compartidas son seguir avanzando en la escolarización temprana (en el primer ciclo de infantil, que el año pasado ya escolarizó al 41% de la población menor de 3 años) o, como apuntan Francisco López Rupérez, director de la Cátedra de Políticas Educativas de la Universidad Camilo José Cela, y el profesor agregado de Economía Aplicada de la Universidad de Barcelona Álvaro Borja Choi, aumentar la escolarización obligatoria de los 16 a los 18 años. “Es una medida que, siguiendo la recomendación del Parlamento Europeo de diciembre de 2011, aplicó Portugal al año siguiente y con la que ha logrado esa reducción formidable del abandono”, señala López Rupérez.\n",
      "\n",
      "Y eliminando obstáculos innecesarios, como la repetición de curso, que en la inmensa mayoría de los casos es cara e ineficaz, según la OCDE, que asegura que el dinero que cuesta este recurso sería mucho más efectivo invertido en planes de refuerzo. El organismo internacional calculó en 2011 que las repeticiones se comían en torno al 10% del gasto educativo español. Como en el caso del abandono, este indicador ha mejorado en los últimos tiempos (hace 10 años habían repetido alguna vez en torno al 40% de los alumnos a los 15 años y ahora es en torno al 31%), pero sigue estando muy por encima, casi doblando, la media de los países desarrollados. Daniel Palacios había repetido dos veces antes de abandonar los estudios; y Nicolás González una vez.\n",
      "\n",
      "Los especialistas proponen eliminar la repetición de curso, que es cara e ineficaz\n",
      "\n",
      "¿Por qué la repetición de curso sigue existiendo? Para muchos, más que un refuerzo, es un castigo a la falta de esfuerzo, una necesaria exigencia para diferenciar lo bien hecho, traducido en éxito (el premio, el paso de curso), de la desidia, de lo mal hecho, del fracaso (la repetición). “Sigue predominando en una parte muy importante de la comunidad escolar la idea de que no todo el mundo puede aprender”, dice la catedrática de Psicología de la Educación de la Autónoma de Madrid Elena Martín, que defiende que, simplemente, cada uno necesita “ayudas distintas para ello”. “Quizás este sea el reto más difícil ya que implica un profundo cambio de mentalidad”, añade.\n",
      "\n",
      "3. Segregación escolar no resuelta: público frente a concertado\n",
      "\n",
      "De los 50.000 millones que invierten las Administraciones en educación, al menos 6.179 millones se dedican a conciertos con centros privados. Son colegios que reciben una subvención pública (a sus profesores, contratados sin oposición, les paga el sueldo la Administración) a cambio de ofrecer sus enseñanzas, al menos sobre el papel, de forma gratuita como los centros públicos.\n",
      "\n",
      "En la comisión de reconstrucción social y económica del Congreso, la polémica se desató porque la izquierda incluyó una propuesta para dedicar exclusivamente a la escuela pública todos los nuevos recursos de apoyo a la enseñanza. Tras una fuerte polvareda, Podemos y PSOE accedieron a retirar esa exclusión del documento final, pero aun así, el dictamen sobre el bloque social, donde iba la parte educativa, no salió adelante. “Solo la escuela pública puede garantizar la igualdad en el acceso y en el desarrollo de una vida plural, frente a la selección, el elitismo y la competencia”, insiste Carmen Rodríguez Martínez, profesora de la Universidad de Málaga y miembro del Foro de Sevilla.\n",
      "\n",
      "Esta eterna pelea está en el corazón de la batalla educativa que impide una y otra vez grandes acuerdos políticos y sociales. Y bascula en torno a la idea de si la escuela es un servicio público y común a cargo del Estado o un bien privado sujeto por encima de todo a la elección y las decisiones de los padres.\n",
      "\n",
      "“En lugar de buscar consensos la educación se utiliza como un buen campo de batalla para confrontar ideologías”, protesta el profesor de Economía de la Pompeu Fabra José García Montalvo. Esa pelea distrae de lo fundamental, “debatir aspectos mucho más relevantes y con importantes implicaciones, por ejemplo: ¿deben los niños seguir aprendiendo caligrafía en una sociedad dominada por los teclados? ¿A qué edad es conveniente que los niños empiecen a aprender a programar?, etcétera”.\n",
      "\n",
      "Esta confrontación lleva dos décadas atascando reformas necesarias, según los especialistas, como la revisión de un currículo demasiado rígido y enciclopédico y de una organización escolar muy anticuada o la formación del profesorado y el acceso a una plaza, por ejemplo, con una especie de MIR educativo, un sistema conjunto de preparación universitaria y concurso de entrada a la profesión similar al de los médicos de la sanidad pública, pero adaptado a los profesores.\n",
      "\n",
      "“En lugar de buscar consensos la educación se utiliza como un buen campo de batalla para confrontar ideologías” José García Montalvo, profesor de Economía de la Pompeu Fabra\n",
      "\n",
      "Por eso, muchos expertos reclaman superar ese viejo debate de las dos redes. El problema es que otros lo colocan en el centro de otro de los grandes escollos: la segregación escolar, un agujero ya detectado en la primera década del siglo XXI y que, advierten los expertos, se está agravando.\n",
      "\n",
      "Aunque hay muchas excepciones muy bien documentadas, la acusación a la concertada es que selecciona al alumnado (generalmente pidiendo cuotas a los padres supuestamente voluntarias o cobrando muy caros servicios extra como el comedor o las excursiones), dejando fuera al más complicado de atender, que generalmente coincide con el de estratos socioeconómicos más humildes.\n",
      "\n",
      "La escuela concertada (financiada con casi 7.000 millones de euros de dinero público al año) acoge al 25% del alumnado, pero tan solo incluye un 14,9% de estudiantes de origen extranjero. La pública (67,2% de los alumnos) reúne en sus aulas al 78,7% de los inmigrantes. “Y la pandemia acelera la pérdida de igualdad de oportunidades y frena el ascensor social para los hijos de las familias humildes”, asegura la profesora de Economía de la Universidad de Alcalá de Henares Olga Cantó.\n",
      "\n",
      "Hay una solución bastante clara, según algunos muy sencilla, según el profesor agregado de la autónoma de Barcelona Álvaro Borja Choi: “Hacer cumplir la normativa relativa a la prohibición de selección del alumnado por parte de los centros concertados; simplemente, hacer cumplir la ley”.\n",
      "\n",
      "Aurora Ruiz, especialista del Colectivo Lorenzo Luzuriaga, señala precisamente la falta de equidad como uno de los principales problemas del sistema: “No proporciona a todos los alumnos las mismas herramientas y por tanto las mismas oportunidades de acceso a una educación de calidad, independientemente de su nivel socioeconómico”, asegura. Unas diferencias sociales que están empeorando a toda velocidad, según todos los especialistas consultados, en la actual situación de crisis sanitaria. “La pandemia acelera la pérdida de igualdad de oportunidades y frena el ascensor social para los hijos de las familias humildes”, asegura la profesora de Economía de la Universidad de Alcalá de Henares Olga Cantó.\n",
      "\n",
      "4. Digitalización y modernización\n",
      "\n",
      "La pandemia ha mostrado una realidad convertida en problema. El 14% de los alumnos carecía de los recursos informáticos necesarios para seguir aprendiendo a distancia. La pandemia desencadenó una cuarentena estricta en España que cerró todos los centros educativos del país y sometió a los alumnos a una educación a distancia que no todos pudieron seguir. Había niños sin conexión ni capacidad de uso y dominio del entorno digital.\n",
      "\n",
      "El Ministerio de Educación y las comunidades tienen comprometida la compra de 500.000 tabletas y ordenadores para alumnos vulnerables. Pero la profesora Elena Martín advierte de que quizá se está poniendo todo el énfasis “en la brecha de acceso, repartiendo dispositivos”, pero se están dejando de lado cuestiones muy importantes pero “más difíciles de resolver porque tienen que ver con el capital cultural de determinadas familias, que les dificulta apoyar a sus hijos”.\n",
      "\n",
      "En el colegio público Doctor Jiménez Rueda de Atarfe, en Granada, están preparando junto a la asociación de padres y madres un cursillo básico que ayude a las familias que lo necesitan, por ejemplo, “a abrir un correo electrónico”, explica Juan Alcaide, coordinador de Tecnología y jefe de estudios del centro, especializado en educación compensatoria. “Algunos de ellos no son conscientes de que tiene una dirección de correo o les da miedo usar el ordenador porque nunca lo han hecho”, añade. Entre sus alumnos, muchos proceden de familias muy humildes, sin ordenador, y algunas de las cuales solo tienen un móvil para toda la casa con un límite mensual para uso de datos muy tasado.\n",
      "\n",
      "Para muchos analistas, el aprendizaje de estos meses puede servir además para terminar de transformar la escuela con contextos mixtos de enseñanza tradicional y a distancia. Xavier Bonal señala: “La educación presencial sigue siendo absolutamente clave; si no, la desigualdad es enorme. Pero el propio paradigma del sistema de enseñanza, muy basado en la interacción profesor alumno y en la casi docencia unidireccional, también se pone en tela de juicio”.\n",
      "\n",
      "Estas ideas conectan a su vez con toda la necesidad ya apuntada de cambiar una organización y unos contenidos escolares muy rígidos y, por supuesto, la formación del profesorado. “No se puede seguir pensando que la docencia se puede seguir realizando como en el siglo XX”.\n",
      "\n",
      "5. La coordinación con las 17 comunidades\n",
      "\n",
      "La necesidad de una buena coordinación entre los distintos niveles de la Administración (y las fuertes fricciones que se producen entre ellas) ha vuelto a quedar patente durante esta crisis. En el ámbito educativo, Francisco López Rupérez destaca “un problema de inequidad territorial entre comunidades desde múltiples puntos de vista”. Hay, efectivamente, grandes diferencias de cobertura. Hay comunidades como el País Vasco, donde casi la mitad de los alumnos van a la concertada; o Madrid con un 30% de alumnos en centros concertados y otro 15,8% en centros totalmente privados. Y otras, como Extremadura, con el 80% del alumnado en la pública. Las diferencias de financiación también son notables: hasta un 96% de distancia en el gasto público por alumno, 64% si se cuenta también a la concertada. Y de resultados: 40 puntos de diferencia en Matemáticas entre la mejor y la peor en el informe PISA, distancia equivalente a un curso entero.\n",
      "\n",
      "Aunque el debate territorial en la escuela se vuelve todavía más complejo cuando además se cruza con elementos nacionalistas, de identidad cultural y lenguas cooficiales, lo cierto es que el actual reparto competencial no parece estar en peligro. Muchos análisis demuestran, de hecho, que las diferencias entre territorios, a pesar de ser grandes, se han reducido desde que se completaron las transferencias educativas a las comunidades en 2003.\n",
      "\n",
      "Sin embargo, eso no significa que no haya espacio de mejora. “La falta de experiencia en el trabajo conjunto entre el Ministerio de Educación y las consejerías se refleja en la dificultad para llegar a acuerdos, criterios y propuestas comunes”, dice Aurora Ruiz. La profesora Elena Martín apunta también un “problema de inmadurez del sistema autonómico”.\n",
      "\n",
      "En la cuestión educativa, en todo caso, también está pendiente una segunda descentralización hacia los centros escolares. Aunque en este camino también hay enfoques distintos: tanto Sanz como López Rupérez hablan de autonomía de los colegios e institutos y de profesionalización de los equipos directivos, acompañada de rendición de cuentas en forma, por ejemplo, de evaluaciones; Rodríguez pone el énfasis más bien en la autonomía de los profesores.\n",
      "\n",
      "6. El futuro de la universidad\n",
      "\n",
      "Si la escuela lleva décadas enfrascada en las mismas batallas, la universidad no le va a la zaga. Cuestiones sobre la elección y las funciones de los responsables de los campus públicos, la autonomía (tanto de la institución como de cada facultad y cada departamento) y la rendición de cuentas; el freno a la endogamia; la falta de financiación y de becas; la multiplicación de títulos (algunos de ellos obsoletos) y de universidades; el envejecimiento de las plantillas y la forma de contratar a los profesores centran algunos de los debates circulares que no terminan de resolverse.\n",
      "\n",
      "Tratar de abordarlos todos requiere horas de análisis, pero se puede decir que el diagnóstico general es muy parecido al de la escuela: el sistema se fortaleció y amplió enormemente en el último tercio del siglo XX, pero no consigue ahora dar con esa segunda generación de cambios que den el salto de calidad, sea esta dolorosamente mediocre, como opinan unos o, como dicen otros, sea razonablemente buena, aunque esté lastrada por la falta de financiación.\n",
      "\n",
      "Y aquí, de nuevo, las posiciones ideológicas a la hora de abordar los problemas son diametralmente opuestas. Por ejemplo, donde una buena parte de las instituciones ven una necesidad de acercar más la universidad a la empresa, otros, como Carmen Rodríguez, leen algo muy distinto: “Los planes de estudio, la docencia en las universidades y hasta la tarea investigadora se han convertido en un entramado burocrático, en donde no es importante el conocimiento, la crítica, la reflexión y las ideas colectivas para el bien común, sino el conocimiento útil y práctico para servir al capitalismo financiero”.\n",
      "\n",
      "“Se hace imprescindible un replanteamiento del sistema de gobernanza universitaria” Francisco López Rupérez, director de la Cátedra de Políticas Educativas de la Universidad Camilo José Cela\n",
      "\n",
      "Y donde algunos profesores reclaman más autonomía, otros defienden que eso no es posible sin mayor rendición de cuentas: “Se hace imprescindible un replanteamiento del sistema de gobernanza para evitar que esa mayor libertad produzca, como efecto perverso, la priorización de los intereses particulares en detrimento de los generales”, dice López Rupérez.\n",
      "\n",
      "García Montalvo defiende también la vía de la rendición de cuentas para mejorar y atajar la endogamia, con “un sistema de financiación público basado en el cumplimiento de objetivos y no en el número de estudiantes”, un presidente/rector con más poder y un claustro docente en el que se discutan “temas estrictamente vinculados con la formación y la gestión de la universidad”.\n",
      "\n",
      "Pero probablemente la cuestión más acuciante es conseguir que estos tiempos de crisis económica no acaben expulsando de los campus a muchos alumnos. Lucía Muñoz Miranda tiene 23 años y estudia Periodismo en la Complutense de Madrid. El curso pasado, el de pandemia, estudió sin beca porque el año anterior había tenido más de un suspenso. “No es por justificarme, pero no es fácil compaginar estudios, prácticas y trabajo”. Tuvo un empleo en la joyería de un centro comercial que también perdió cuando llegó la pandemia, por lo que tuvo que acabar pidiendo prestado a algunos amigos para pagar los plazos de la matrícula y no perder el año. En este sentido, García Montalvo defiende desde hace tiempo que el precio de las matrículas se pague en función de la renta del alumno. Y el profesor Choi aporta: “Convendría separar claramente las becas de equidad de las de excelencia”.\n",
      "\n",
      "Conclusiones\n",
      "\n",
      "1\n",
      "\n",
      "La pandemia dejó a ocho millones de alumnos en sus casas durante tres meses. El 14% carecía de equipos informáticos para poder seguir el curso a distancia.\n",
      "\n",
      "2\n",
      "\n",
      "El sistema educativo ha sufrido duros recortes en los últimos años con un agujero de inversiones próximo a los 10.000 millones de euros.\n",
      "\n",
      "3\n",
      "\n",
      "El abandono escolar en España se sitúa siete puntos por encima de la media europea y supone uno de los problemas principales.\n",
      "\n",
      "4\n",
      "\n",
      "España ha sufrido tres leyes educativas aprobadas sin consenso en los últimos 18 años. La cuarta está en tramitación.\n",
      "\n",
      "5\n",
      "\n",
      "La segregación escolar continúa. Los alumnos más desfavorecidos se concentran en la escuela pública; la concertada no asume el porcentaje que le corresponde.\n",
      "\n",
      "Recomendaciones\n",
      "\n",
      "1 Un gran pacto social para acordar la nueva ley educativa.\n",
      "\n",
      "En los últimos 20 años se han aprobado en España tres leyes distintas: LOCE (PP, 2002), LOE (PSOE, 2006) y LOMCE (PP, 2013). Ninguna contó con el consenso político y todas desencadenaron huelgas en el sector.\n",
      "\n",
      "2 Recuperar el gasto educativo alcanzado hace 10 años, que suponía el 5% del PIB.\n",
      "\n",
      "La crisis económica desencadenó fuertes recortes sociales. En educación, se pasó de un gasto en 2009 de 53.895 millones de euros a solo 44.000 millones en 2014. Todavía en el último curso (2018-2019) el presupuesto educativo total no alcanzó la cifra de 2009.\n",
      "\n",
      "3 Combatir la segregación escolar\n",
      "\n",
      "La escuela concertada (financiada con fondos públicos) supone el 25% del total pero tan solo asume un 14,9% de estudiantes extranjeros (los más desfavorecidos). La escuela pública (67,2%) acoge en sus aulas al 78,7% de los inmigrantes.\n",
      "\n",
      "4 Lucha contra el fracaso escolar y el abandono.\n",
      "\n",
      "Eliminar la repetición de curso para luchar contra el fracaso escolar y el abandono. Ampliar los recursos disponibles para clases de refuerzo.\n",
      "\n",
      "5 Mejorar y modernizar el sistema de formación docente.\n",
      "\n",
      "Adaptar la formación inicial y continua de los profesores a las necesidades del siglo XXI.\n",
      "\n",
      "La opinión de los expertos\n",
      "\n",
      "Antonio Cabrales El catedrático de Economía en la Universidad Carlos III de Madrid cree que hacen falta más recursos, algo que la pandemia no va a facilitar, y muchísima más voluntad política Mariano Fernández Enguita El catedrático en la Universidad Complutense de Madrid y director del Instituto Nacional de Administración Pública sostiene que faltan entornos de aprendizaje abiertos, flexibles e innovadores Lourdes Orueta La presidenta de la Asociación de Inspectores de Educación señala que es fundamental fomentar y otorgar fondos a las actividades extraescolares para que los alumnos disfruten José Antonio Martínez El experto en educación y miembro del Consejo General del Estado cree que el sistema educativo español está anquilosado\n",
      "\n",
      "Toda la serie\n"
     ]
    }
   ],
   "source": [
    "from newspaper import Article\n",
    "\n",
    "url = input('Insert url: ')\n",
    "\n",
    "article = Article(url)\n",
    "article.download()\n",
    "article.parse()\n",
    "\n",
    "if article.authors == []:\n",
    "    print(article.title, '\\n\\n', article.text)\n",
    "    \n",
    "else:\n",
    "    print(article.authors, '\\n\\n', article.title, '\\n\\n', article.text)"
   ]
  },
  {
   "cell_type": "markdown",
   "metadata": {},
   "source": [
    "We can't do anything if we use this library to extract premium news from newspaper, this will take only a short portion of the news. So later on we need to specify this on the app.\n",
    "\n",
    "Now lets use this library to extract headline and text features:"
   ]
  },
  {
   "cell_type": "code",
   "execution_count": 66,
   "metadata": {},
   "outputs": [
    {
     "name": "stdout",
     "output_type": "stream",
     "text": [
      "Insert url: https://www.elmundo.es/madrid/2020/09/06/5f54cdb1fdddff10648b461b.html\n"
     ]
    }
   ],
   "source": [
    "from newspaper import Article\n",
    "\n",
    "url = input('Insert url: ')\n",
    "\n",
    "article = Article(url)\n",
    "article.download()\n",
    "article.parse()\n",
    "\n",
    "df_features = get_news_features(article.text, article.title)"
   ]
  },
  {
   "cell_type": "code",
   "execution_count": 67,
   "metadata": {},
   "outputs": [
    {
     "data": {
      "text/html": [
       "<div>\n",
       "<style scoped>\n",
       "    .dataframe tbody tr th:only-of-type {\n",
       "        vertical-align: middle;\n",
       "    }\n",
       "\n",
       "    .dataframe tbody tr th {\n",
       "        vertical-align: top;\n",
       "    }\n",
       "\n",
       "    .dataframe thead th {\n",
       "        text-align: right;\n",
       "    }\n",
       "</style>\n",
       "<table border=\"1\" class=\"dataframe\">\n",
       "  <thead>\n",
       "    <tr style=\"text-align: right;\">\n",
       "      <th></th>\n",
       "      <th>word_size_h</th>\n",
       "      <th>avg_syllables_word_h</th>\n",
       "      <th>unique_words_h</th>\n",
       "      <th>mltd_h</th>\n",
       "      <th>ttr_h</th>\n",
       "      <th>avg_words_sent</th>\n",
       "      <th>avg_word_size</th>\n",
       "      <th>avg_syllables_word</th>\n",
       "      <th>unique_words</th>\n",
       "      <th>ttr</th>\n",
       "      <th>...</th>\n",
       "      <th>quotes_ratio</th>\n",
       "      <th>propn_ratio</th>\n",
       "      <th>noun_ratio</th>\n",
       "      <th>pron_ratio</th>\n",
       "      <th>adp_ratio</th>\n",
       "      <th>det_ratio</th>\n",
       "      <th>punct_ratio</th>\n",
       "      <th>verb_ratio</th>\n",
       "      <th>adv_ratio</th>\n",
       "      <th>sym_ratio</th>\n",
       "    </tr>\n",
       "  </thead>\n",
       "  <tbody>\n",
       "    <tr>\n",
       "      <th>0</th>\n",
       "      <td>4.53</td>\n",
       "      <td>1.86</td>\n",
       "      <td>31.83</td>\n",
       "      <td>63.0</td>\n",
       "      <td>43.25</td>\n",
       "      <td>20.0</td>\n",
       "      <td>4.55</td>\n",
       "      <td>1.65</td>\n",
       "      <td>90.0</td>\n",
       "      <td>95.0</td>\n",
       "      <td>...</td>\n",
       "      <td>0.0</td>\n",
       "      <td>10.0</td>\n",
       "      <td>15.0</td>\n",
       "      <td>0.0</td>\n",
       "      <td>25.0</td>\n",
       "      <td>10.0</td>\n",
       "      <td>0.0</td>\n",
       "      <td>15.0</td>\n",
       "      <td>5.0</td>\n",
       "      <td>0.0</td>\n",
       "    </tr>\n",
       "  </tbody>\n",
       "</table>\n",
       "<p>1 rows × 25 columns</p>\n",
       "</div>"
      ],
      "text/plain": [
       "   word_size_h  avg_syllables_word_h  unique_words_h  mltd_h  ttr_h  \\\n",
       "0         4.53                  1.86           31.83    63.0  43.25   \n",
       "\n",
       "   avg_words_sent  avg_word_size  avg_syllables_word  unique_words   ttr  ...  \\\n",
       "0            20.0           4.55                1.65          90.0  95.0  ...   \n",
       "\n",
       "   quotes_ratio  propn_ratio  noun_ratio  pron_ratio  adp_ratio  det_ratio  \\\n",
       "0           0.0         10.0        15.0         0.0       25.0       10.0   \n",
       "\n",
       "   punct_ratio  verb_ratio  adv_ratio  sym_ratio  \n",
       "0          0.0        15.0        5.0        0.0  \n",
       "\n",
       "[1 rows x 25 columns]"
      ]
     },
     "execution_count": 67,
     "metadata": {},
     "output_type": "execute_result"
    }
   ],
   "source": [
    "df_features"
   ]
  },
  {
   "cell_type": "code",
   "execution_count": 168,
   "metadata": {},
   "outputs": [
    {
     "name": "stdout",
     "output_type": "stream",
     "text": [
      "Fitting 3 folds for each of 16 candidates, totalling 48 fits\n"
     ]
    },
    {
     "name": "stderr",
     "output_type": "stream",
     "text": [
      "[Parallel(n_jobs=-1)]: Using backend LokyBackend with 8 concurrent workers.\n",
      "[Parallel(n_jobs=-1)]: Done  25 tasks      | elapsed:   28.0s\n",
      "[Parallel(n_jobs=-1)]: Done  48 out of  48 | elapsed:   49.6s finished\n"
     ]
    },
    {
     "name": "stdout",
     "output_type": "stream",
     "text": [
      "Best hyperparameters: {'alpha': 0.1, 'colsample_bytree': 0.75, 'lambda': 0, 'learning_rate': 0.01, 'max_depth': 10, 'min_child_weight': 0.5, 'n_estimators': 1200, 'subsample': 0.4}\n",
      "Testing AUC score: 0.98\n",
      "Logloss: 2.46\n",
      "Accuracy: 92.88\n",
      "F1 Score: 0.93\n"
     ]
    },
    {
     "data": {
      "image/png": "[encoded data removed]",
      "text/plain": [
       "<Figure size 432x288 with 1 Axes>"
      ]
     },
     "metadata": {
      "needs_background": "light"
     },
     "output_type": "display_data"
    },
    {
     "data": {
      "image/png": "[encoded data removed]",
      "text/plain": [
       "<Figure size 504x396 with 2 Axes>"
      ]
     },
     "metadata": {
      "needs_background": "light"
     },
     "output_type": "display_data"
    },
    {
     "ename": "NameError",
     "evalue": "name 'tfvocab' is not defined",
     "output_type": "error",
     "traceback": [
      "\u001b[0;31m---------------------------------------------------------------------------\u001b[0m",
      "\u001b[0;31mNameError\u001b[0m                                 Traceback (most recent call last)",
      "\u001b[0;32m<timed exec>\u001b[0m in \u001b[0;36m<module>\u001b[0;34m\u001b[0m\n",
      "\u001b[0;31mNameError\u001b[0m: name 'tfvocab' is not defined"
     ]
    },
    {
     "data": {
      "image/png": "[encoded data removed]",
      "text/plain": [
       "<Figure size 720x1080 with 1 Axes>"
      ]
     },
     "metadata": {
      "needs_background": "light"
     },
     "output_type": "display_data"
    }
   ],
   "source": [
    "%%time\n",
    "\n",
    "import seaborn as sns\n",
    "import pandas as pd\n",
    "import numpy as np\n",
    "from matplotlib import pyplot as plt\n",
    "\n",
    "from scipy import stats\n",
    "import xgboost as xgb\n",
    "from xgboost.sklearn import XGBClassifier\n",
    "from sklearn.model_selection import StratifiedKFold\n",
    "from sklearn.model_selection import train_test_split, GridSearchCV\n",
    "from sklearn import metrics\n",
    "from sklearn.metrics import confusion_matrix, roc_curve, auc, roc_auc_score, accuracy_score, log_loss, f1_score\n",
    "\n",
    "df = pd.read_csv('../data/spanish_corpus_features_v6.csv')\n",
    "y = df['label']\n",
    "\n",
    "########### Training and testing split ########### \n",
    "\n",
    "numeric_features = ['words_h', 'word_size_h', 'avg_syllables_word_h', 'unique_words_h', 'ttr_h', 'mltd_h', 'sents', 'words',\n",
    "                    'avg_words_sent', 'avg_word_size', 'avg_syllables_word', 'unique_words', 'ttr', 'mltd', \n",
    "                    'huerta_score', 'szigriszt_score', 'upper_case_ratio', 'entity_ratio', 'quotes', 'quotes_ratio', 'propn_ratio', \n",
    "                    'noun_ratio', 'adp_ratio', 'det_ratio', 'punct_ratio', 'pron_ratio', 'verb_ratio', 'adv_ratio', \n",
    "                    'sym_ratio']\n",
    "\n",
    "X = df[numeric_features]\n",
    "feature_names = df[numeric_features].columns.tolist()\n",
    "\n",
    "# Calculating level of imbalance for modelling\n",
    "imbalance_weight = y.value_counts(normalize = True)[0] / y.value_counts(normalize = True)[1]\n",
    "\n",
    "# Training and test set\n",
    "X_train, X_test, y_train, y_test = train_test_split(X, y, test_size = 0.3, random_state = 43)\n",
    "\n",
    "\n",
    "########### XGB CLassifier ########### \n",
    "\n",
    "xgb_model = XGBClassifier(eval_metric = 'auc', objective = 'binary:logistic', nthread = 1, seed = 43, \n",
    "                    scale_pos_weight = imbalance_weight)\n",
    "\n",
    "xgb_params = {'learning_rate': [0.01],\n",
    "              'n_estimators': [1000, 1200],\n",
    "              'max_depth': [8, 10], \n",
    "              'subsample': [0.4], \n",
    "              'colsample_bytree': [0.75],\n",
    "              'min_child_weight' : [0.5, 1],\n",
    "              'lambda': [0, 1],\n",
    "              'alpha': [0.1]}\n",
    "\n",
    "skf = StratifiedKFold(n_splits = 3, shuffle = True, random_state = 43)\n",
    "grid_search = GridSearchCV(estimator = xgb_model, param_grid = xgb_params, \n",
    "                                   scoring = 'roc_auc', n_jobs = -1, cv = skf.split(X_train, y_train), verbose = 2)\n",
    "\n",
    "grid_search.fit(X_train, y_train)\n",
    "\n",
    "print('Best hyperparameters:' , grid_search.best_params_)\n",
    "xgb_model = grid_search.best_estimator_\n",
    "\n",
    "\n",
    "########### Predictions and results ###########\n",
    "\n",
    "# prediction and results\n",
    "y_pred = xgb_model.predict(X_test)\n",
    "probs = xgb_model.predict_proba(X_test)\n",
    "probs = probs[:, 1]\n",
    "\n",
    "xgb_accuracy_score, xgb_auc_score, xgb_f1_score = prediction_results(xgb_model, y_test, X_test, y_pred, probs)\n",
    "\n",
    "# confusion matrix\n",
    "\n",
    "plot_confusion_matrix(y_test, y_pred)\n",
    "\n",
    "\n",
    "########### Feature importance ###########\n",
    "\n",
    "# feature importance with default names\n",
    "\n",
    "f, ax = plt.subplots(figsize = [10, 15])\n",
    "axsub = xgb.plot_importance(xgb_model, ax = ax)\n",
    "\n",
    "# get the original names back\n",
    "Text_yticklabels = list(axsub.get_yticklabels())\n",
    "dict_features = dict(enumerate(tfvocab))\n",
    "list_yticklabels = [Text_yticklabels[i].get_text().lstrip('f') for i in range(len(Text_yticklabels))]\n",
    "\n",
    "# feature importance\n",
    "plt.title(\"XGBOOST Feature Importance\", fontsize = 15)\n",
    "axsub.set_yticklabels(list_yticklabels)\n",
    "plt.show()"
   ]
  },
  {
   "cell_type": "code",
   "execution_count": null,
   "metadata": {},
   "outputs": [],
   "source": []
  },
  {
   "cell_type": "markdown",
   "metadata": {},
   "source": [
    "## 3. First model predictor"
   ]
  },
  {
   "cell_type": "markdown",
   "metadata": {},
   "source": [
    "### First step is to load the model"
   ]
  },
  {
   "cell_type": "code",
   "execution_count": 57,
   "metadata": {},
   "outputs": [
    {
     "data": {
      "text/plain": [
       "XGBClassifier(alpha=0.1, base_score=0.5, booster='gbtree', colsample_bylevel=1,\n",
       "              colsample_bynode=1, colsample_bytree=0.75, eval_metric='auc',\n",
       "              gamma=0, gpu_id=-1, importance_type='gain',\n",
       "              interaction_constraints='', lambda=1, learning_rate=0.01,\n",
       "              max_delta_step=0, max_depth=8, min_child_weight=0.5, missing=nan,\n",
       "              monotone_constraints='()', n_estimators=1200, n_jobs=1, nthread=1,\n",
       "              num_parallel_tree=1, random_state=43, reg_alpha=0.100000001,\n",
       "              reg_lambda=1, scale_pos_weight=0.9423264907135874, seed=43,\n",
       "              subsample=0.4, tree_method='exact', validate_parameters=1, ...)"
      ]
     },
     "execution_count": 57,
     "metadata": {},
     "output_type": "execute_result"
    }
   ],
   "source": [
    "import pickle\n",
    "\n",
    "model = pickle.load(open('../predictors/fake_news_predictorv2.pkl', 'rb'))\n",
    "model"
   ]
  },
  {
   "cell_type": "code",
   "execution_count": 105,
   "metadata": {},
   "outputs": [
    {
     "data": {
      "text/plain": [
       "XGBClassifier(alpha=0.4, base_score=0.5, booster='gbtree', colsample_bylevel=1,\n",
       "              colsample_bynode=1, colsample_bytree=0.5, eval_metric='auc',\n",
       "              gamma=0, gpu_id=-1, importance_type='gain',\n",
       "              interaction_constraints='', lambda=0.5, learning_rate=0.03,\n",
       "              max_delta_step=0, max_depth=6, min_child_weight=2, missing=nan,\n",
       "              monotone_constraints='()', n_estimators=200, n_jobs=1, nthread=1,\n",
       "              num_parallel_tree=1, random_state=43, reg_alpha=0.400000006,\n",
       "              reg_lambda=0.5, scale_pos_weight=0.9775967413441956, seed=43,\n",
       "              subsample=0.5, tree_method='exact', validate_parameters=1, ...)"
      ]
     },
     "execution_count": 105,
     "metadata": {},
     "output_type": "execute_result"
    }
   ],
   "source": [
    "xgb_model"
   ]
  },
  {
   "cell_type": "code",
   "execution_count": 127,
   "metadata": {},
   "outputs": [],
   "source": [
    "pd.options.display.max_columns = None"
   ]
  },
  {
   "cell_type": "code",
   "execution_count": 128,
   "metadata": {},
   "outputs": [
    {
     "data": {
      "text/html": [
       "<div>\n",
       "<style scoped>\n",
       "    .dataframe tbody tr th:only-of-type {\n",
       "        vertical-align: middle;\n",
       "    }\n",
       "\n",
       "    .dataframe tbody tr th {\n",
       "        vertical-align: top;\n",
       "    }\n",
       "\n",
       "    .dataframe thead th {\n",
       "        text-align: right;\n",
       "    }\n",
       "</style>\n",
       "<table border=\"1\" class=\"dataframe\">\n",
       "  <thead>\n",
       "    <tr style=\"text-align: right;\">\n",
       "      <th></th>\n",
       "      <th>n_words_h</th>\n",
       "      <th>word_size_h</th>\n",
       "      <th>avg_syllables_word_h</th>\n",
       "      <th>unique_words_h</th>\n",
       "      <th>ttr_h</th>\n",
       "      <th>mltd_h</th>\n",
       "      <th>n_sents</th>\n",
       "      <th>n_words</th>\n",
       "      <th>avg_words_sents</th>\n",
       "      <th>word_size</th>\n",
       "      <th>avg_syllables_word</th>\n",
       "      <th>unique_words</th>\n",
       "      <th>ttr</th>\n",
       "      <th>huerta_score</th>\n",
       "      <th>szigriszt_score</th>\n",
       "      <th>mltd</th>\n",
       "      <th>upper_case_ratio</th>\n",
       "      <th>entity_ratio</th>\n",
       "      <th>n_quotes</th>\n",
       "      <th>quotes_ratio</th>\n",
       "      <th>propn_ratio</th>\n",
       "      <th>noun_ratio</th>\n",
       "      <th>pron_ratio</th>\n",
       "      <th>adp_ratio</th>\n",
       "      <th>det_ratio</th>\n",
       "      <th>punct_ratio</th>\n",
       "      <th>verb_ratio</th>\n",
       "      <th>adv_ratio</th>\n",
       "      <th>sym_ratio</th>\n",
       "    </tr>\n",
       "  </thead>\n",
       "  <tbody>\n",
       "    <tr>\n",
       "      <th>0</th>\n",
       "      <td>19</td>\n",
       "      <td>5.53</td>\n",
       "      <td>2.53</td>\n",
       "      <td>78.95</td>\n",
       "      <td>89.47</td>\n",
       "      <td>50.54</td>\n",
       "      <td>28</td>\n",
       "      <td>994</td>\n",
       "      <td>35.5</td>\n",
       "      <td>4.78</td>\n",
       "      <td>1.95</td>\n",
       "      <td>37.12</td>\n",
       "      <td>46.38</td>\n",
       "      <td>53.63</td>\n",
       "      <td>49.99</td>\n",
       "      <td>87.84</td>\n",
       "      <td>3.2</td>\n",
       "      <td>8.25</td>\n",
       "      <td>2</td>\n",
       "      <td>0.2</td>\n",
       "      <td>12.37</td>\n",
       "      <td>16.9</td>\n",
       "      <td>1.71</td>\n",
       "      <td>16.9</td>\n",
       "      <td>12.78</td>\n",
       "      <td>8.25</td>\n",
       "      <td>8.25</td>\n",
       "      <td>2.31</td>\n",
       "      <td>0.0</td>\n",
       "    </tr>\n",
       "  </tbody>\n",
       "</table>\n",
       "</div>"
      ],
      "text/plain": [
       "   n_words_h  word_size_h  avg_syllables_word_h  unique_words_h  ttr_h  \\\n",
       "0         19         5.53                  2.53           78.95  89.47   \n",
       "\n",
       "   mltd_h  n_sents  n_words  avg_words_sents  word_size  avg_syllables_word  \\\n",
       "0   50.54       28      994             35.5       4.78                1.95   \n",
       "\n",
       "   unique_words    ttr  huerta_score  szigriszt_score   mltd  \\\n",
       "0         37.12  46.38         53.63            49.99  87.84   \n",
       "\n",
       "   upper_case_ratio  entity_ratio  n_quotes  quotes_ratio  propn_ratio  \\\n",
       "0               3.2          8.25         2           0.2        12.37   \n",
       "\n",
       "   noun_ratio  pron_ratio  adp_ratio  det_ratio  punct_ratio  verb_ratio  \\\n",
       "0        16.9        1.71       16.9      12.78         8.25        8.25   \n",
       "\n",
       "   adv_ratio  sym_ratio  \n",
       "0       2.31        0.0  "
      ]
     },
     "execution_count": 128,
     "metadata": {},
     "output_type": "execute_result"
    }
   ],
   "source": [
    "df_features"
   ]
  },
  {
   "cell_type": "markdown",
   "metadata": {},
   "source": [
    "### Prediction\n",
    "\n",
    "We are going to use the spanish language at the strings showing the news classification."
   ]
  },
  {
   "cell_type": "code",
   "execution_count": 219,
   "metadata": {},
   "outputs": [
    {
     "name": "stdout",
     "output_type": "stream",
     "text": [
      "Insert url: https://okdiario.com/opinion/ademas-delincuente-eres-desahogado-pablo-iglesias-6106553\n",
      "Esta noticia es engañosa o una opinión. \n",
      "Tiene una probabilidad de 57% de ser verdadera\n"
     ]
    }
   ],
   "source": [
    "from newspaper import Article\n",
    "\n",
    "url = input('Insert url: ')\n",
    "\n",
    "article = Article(url)\n",
    "article.download()\n",
    "article.parse()\n",
    "\n",
    "df_features = get_news_features(article.title, article.text)\n",
    "\n",
    "# df_features = get_news_features(text, headline)\n",
    "\n",
    "model = pickle.load(open('../predictors/fake_news_predictorv3.pkl', 'rb'))\n",
    "\n",
    "numeric_features = ['words_h', 'word_size_h', 'avg_syllables_word_h', 'unique_words_h', 'ttr_h', 'mltd_h', 'sents',\n",
    "                    'words', 'avg_words_sent', 'avg_word_size', 'avg_syllables_word', 'unique_words', 'ttr', 'mltd', \n",
    "                    'huerta_score', 'szigriszt_score','upper_case_ratio', 'entity_ratio', 'quotes', 'quotes_ratio',\n",
    "                    'propn_ratio', 'noun_ratio', 'adp_ratio', 'det_ratio', 'punct_ratio', 'pron_ratio', 'verb_ratio', \n",
    "                    'adv_ratio', 'sym_ratio']\n",
    "\n",
    "X_predict = df_features[numeric_features]\n",
    "\n",
    "prob_fake = (model.predict_proba(X_predict)[0][0])*100\n",
    "prob_real = (model.predict_proba(X_predict)[0][1])*100\n",
    "\n",
    "if prob_fake >= 65:\n",
    "    print('Esta noticia es falsa.\\nCon una probabilidad del %.0f%%' % prob_fake)\n",
    "\n",
    "elif (65 >= prob_fake >= 35):\n",
    "    print('Esta noticia es engañosa o una opinión. \\nTiene una probabilidad de %.0f%% de ser verdadera' % prob_real)\n",
    "else:\n",
    "    print('Esta noticia es verdadera.\\nCon una probabilidad del %.0f%%' % prob_real)"
   ]
  },
  {
   "cell_type": "markdown",
   "metadata": {},
   "source": [
    "Now lets move all this to __[streamlit configuration](https://github.com/pipe11/TFM_fake_news_detector/blob/master/predictors/Streamlit_configuration.ipynb)__."
   ]
  },
  {
   "cell_type": "markdown",
   "metadata": {},
   "source": [
    "## 4. Second model predictor"
   ]
  },
  {
   "cell_type": "markdown",
   "metadata": {},
   "source": [
    "We lauch the second model and now we can productivize it as a predictor. The script its similar to the first predictor. Later on streamlist test and lauch the second and final app."
   ]
  },
  {
   "cell_type": "code",
   "execution_count": 37,
   "metadata": {},
   "outputs": [
    {
     "data": {
      "text/plain": [
       "XGBClassifier(alpha=0, base_score=0.5, booster='gbtree', colsample_bylevel=1,\n",
       "              colsample_bynode=1, colsample_bytree=0.2, eval_metric='auc',\n",
       "              gamma=0, gpu_id=-1, importance_type='gain',\n",
       "              interaction_constraints='', lambda=0.5, learning_rate=0.02,\n",
       "              max_delta_step=0, max_depth=6, min_child_weight=0.5, missing=nan,\n",
       "              monotone_constraints='()', n_estimators=1000, n_jobs=1, nthread=1,\n",
       "              num_parallel_tree=1, random_state=43, reg_alpha=0, reg_lambda=0.5,\n",
       "              scale_pos_weight=0.9543546694648478, seed=43, subsample=0.4,\n",
       "              tree_method='exact', validate_parameters=1, ...)"
      ]
     },
     "execution_count": 37,
     "metadata": {},
     "output_type": "execute_result"
    }
   ],
   "source": [
    "import pickle\n",
    "\n",
    "model2 = pickle.load(open('../predictors/fake_news_predictorv4.pkl', 'rb'))\n",
    "model2"
   ]
  },
  {
   "cell_type": "code",
   "execution_count": 63,
   "metadata": {},
   "outputs": [
    {
     "name": "stdout",
     "output_type": "stream",
     "text": [
      "Insert url: https://laultimahora.es/el-dueno-de-idealista-invierte-115-millones-en-securitas/\n",
      "Esta noticia es falsa.\n",
      "Con una probabilidad del 94%\n"
     ]
    }
   ],
   "source": [
    "from newspaper import Article\n",
    "\n",
    "url = input('Insert url: ')\n",
    "\n",
    "article = Article(url)\n",
    "article.download()\n",
    "article.parse()\n",
    "\n",
    "df_features = get_news_features(article.title, article.text)\n",
    "\n",
    "\n",
    "numeric_features = ['words_h', 'word_size_h', 'avg_syllables_word_h', 'unique_words_h', 'ttr_h', 'mltd_h', 'sents',\n",
    "                    'words', 'avg_words_sent', 'avg_word_size', 'avg_syllables_word', 'unique_words', 'ttr', 'mltd', \n",
    "                    'huerta_score', 'szigriszt_score','upper_case_ratio', 'entity_ratio', 'quotes', 'quotes_ratio',\n",
    "                    'propn_ratio', 'noun_ratio', 'adp_ratio', 'det_ratio', 'punct_ratio', 'pron_ratio', 'verb_ratio', \n",
    "\n",
    "                    'adv_ratio', 'sym_ratio']\n",
    "#TF-IDF vectorization\n",
    "tfidf_vectorizer = pickle.load(open('../predictors/tfidf_vectorizer.pkl', 'rb'))\n",
    "text_predict_vectorized = tfidf_vectorizer.transform(df_features['text'])\n",
    "\n",
    "X_predict = hstack([csr_matrix(df_features[numeric_features].values), text_predict_vectorized[0:]])\n",
    "\n",
    "prob_fake = (model2.predict_proba(X_predict)[0][0])*100\n",
    "prob_real = (model2.predict_proba(X_predict)[0][1])*100\n",
    "\n",
    "if prob_fake >= 65:\n",
    "    print('Esta noticia es falsa.\\nCon una probabilidad del %.0f%%' % prob_fake)\n",
    "\n",
    "elif (65 >= prob_fake >= 35):\n",
    "    print('Esta noticia es engañosa o una opinión. \\nTiene una probabilidad de %.0f%% de ser verdadera' % prob_real)\n",
    "else:\n",
    "    print('Esta noticia es verdadera.\\nCon una probabilidad del %.0f%%' % prob_real)"
   ]
  }
 ],
 "metadata": {
  "kernelspec": {
   "display_name": "Python 3",
   "language": "python",
   "name": "python3"
  },
  "language_info": {
   "codemirror_mode": {
    "name": "ipython",
    "version": 3
   },
   "file_extension": ".py",
   "mimetype": "text/x-python",
   "name": "python",
   "nbconvert_exporter": "python",
   "pygments_lexer": "ipython3",
   "version": "3.6.9"
  }
 },
 "nbformat": 4,
 "nbformat_minor": 4
}
