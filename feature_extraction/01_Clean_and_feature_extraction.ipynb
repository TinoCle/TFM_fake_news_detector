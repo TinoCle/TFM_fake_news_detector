{
 "cells": [
  {
   "cell_type": "markdown",
   "metadata": {},
   "source": [
    "# Clean and feature extraction"
   ]
  },
  {
   "cell_type": "markdown",
   "metadata": {},
   "source": [
    "## Load the datasets\n",
    "\n",
    "1) Load the dataset, unify it and shuffle it.\n",
    "\n",
    "3) Explore texts"
   ]
  },
  {
   "cell_type": "code",
   "execution_count": 2,
   "metadata": {},
   "outputs": [],
   "source": [
    "import nltk"
   ]
  },
  {
   "cell_type": "code",
   "execution_count": 3,
   "metadata": {},
   "outputs": [],
   "source": [
    "import itertools\n",
    "import seaborn as sns\n",
    "import pandas as pd\n",
    "import numpy as np\n",
    "from matplotlib import pyplot as plt\n",
    "%matplotlib inline\n",
    "\n",
    "from nltk.corpus import stopwords  \n",
    "from nltk import word_tokenize\n",
    "from nltk import sent_tokenize\n",
    "from nltk.data import load  \n",
    "from nltk.stem import SnowballStemmer  \n",
    "from string import punctuation"
   ]
  },
  {
   "cell_type": "code",
   "execution_count": 5,
   "metadata": {},
   "outputs": [],
   "source": [
    "df = pd.read_csv('~/TFM_fake_news_detector/data/corpus_spanish.csv')"
   ]
  },
  {
   "cell_type": "code",
   "execution_count": 6,
   "metadata": {},
   "outputs": [
    {
     "name": "stdout",
     "output_type": "stream",
     "text": [
      "<class 'pandas.core.frame.DataFrame'>\n",
      "RangeIndex: 971 entries, 0 to 970\n",
      "Data columns (total 7 columns):\n",
      "Id          971 non-null int64\n",
      "Category    971 non-null object\n",
      "Topic       971 non-null object\n",
      "Source      971 non-null object\n",
      "Headline    971 non-null object\n",
      "Text        971 non-null object\n",
      "Link        971 non-null object\n",
      "dtypes: int64(1), object(6)\n",
      "memory usage: 53.2+ KB\n"
     ]
    }
   ],
   "source": [
    "df.info()"
   ]
  },
  {
   "cell_type": "code",
   "execution_count": 9,
   "metadata": {},
   "outputs": [
    {
     "name": "stdout",
     "output_type": "stream",
     "text": [
      "Un paso más cerca de hacer los exámenes 'online'\n",
      "Cerca de *NUMBER* universitarios de seis universidades europeas participan este cuatrimestre en la última fase de pruebas de un programa informático que permitirá certificar la identidad y autoría de los estudiantes cuando realizan actividades 'online' como exámenes, trabajos u otras pruebas.\n",
      "El proyecto se encuentra en la tercera y última fase de pruebas piloto, en la que se pone a prueba la versión \"final\" del 'software', que incluye herramientas de reconocimiento facial, de voz y otras que capturan patrones de escritura, detectan plagio y analizan el lenguaje y el estilo de redacción, según sus impulsores.\n",
      "En dicha fase hay una primera prueba en la que están participando *NUMBER* estudiantes y en la que la Universitat Oberta de Catalunya (UOC) participa con *NUMBER* estudiantes, *NUMBER* profesores y *NUMBER* docentes; y una segunda prueba en la que participarán entre *NUMBER* y *NUMBER* estudiantes. \"El balance de las dos pruebas [anteriores] es muy positivo. En la primera examinamos todos los instrumentos de forma aislada, y en la segunda ya se probó la primera versión casi completa del sistema\", explican los responsables del proyecto.\n",
      "La iniciativa, coordinada por la UOC, recibe el nombre de TeSLA y ha sido impulsada por un consorcio formado por *NUMBER* organizaciones, entre universidades, grupos de investigación, empresas y agencias de calidad, bajo el paraguas de la Comisión Europea, con un presupuesto de *NUMBER* millones de euros.\n",
      "Además de la universidad española están implicadas en el desarrollo del programa y de las pruebas la Open University (OU, Reino Unido), la Open Universiteit Nederlands (OUNL, Países Bajos), la Anadolu University (AU, Turquía), la University of Jyväskylä (JYU, Finlandia), la University St. Kliment Ohridski de Sofía (SU, Bulgaria) y la Technical University of Sofia (TUS, Bulgaria).\n",
      "Junto con estas, el consorcio de TeSLA lo completan la University of Namur (UNamur), de Bélgica; el Imperial College of London, de Reino Unido, el Instituto Mines-Télécóm (IMT), de Francia; los centros de investigación Instituto Nacional de Astrofísica Óptica y Electrónica(INAOE), de México; el IDIAP Research Institute Foundation suizo, y las agencias de calidad ENQA, AQU Cataluña y EQANIE; además de tres empresas tecnológicas: LPLUS GmbH (Alemania), Protos Sistemas de Información, S. L. (España) y WFSW SA (Watchful), de Portugal.\n"
     ]
    }
   ],
   "source": [
    "print(df['Text'].iloc[1])"
   ]
  },
  {
   "cell_type": "code",
   "execution_count": 11,
   "metadata": {},
   "outputs": [
    {
     "data": {
      "text/html": [
       "<div>\n",
       "<style scoped>\n",
       "    .dataframe tbody tr th:only-of-type {\n",
       "        vertical-align: middle;\n",
       "    }\n",
       "\n",
       "    .dataframe tbody tr th {\n",
       "        vertical-align: top;\n",
       "    }\n",
       "\n",
       "    .dataframe thead th {\n",
       "        text-align: right;\n",
       "    }\n",
       "</style>\n",
       "<table border=\"1\" class=\"dataframe\">\n",
       "  <thead>\n",
       "    <tr style=\"text-align: right;\">\n",
       "      <th></th>\n",
       "      <th>Id</th>\n",
       "      <th>Category</th>\n",
       "      <th>Topic</th>\n",
       "      <th>Source</th>\n",
       "      <th>Headline</th>\n",
       "      <th>Text</th>\n",
       "      <th>Link</th>\n",
       "    </tr>\n",
       "  </thead>\n",
       "  <tbody>\n",
       "    <tr>\n",
       "      <th>0</th>\n",
       "      <td>641</td>\n",
       "      <td>True</td>\n",
       "      <td>Entertainment</td>\n",
       "      <td>Caras</td>\n",
       "      <td>Sofía Castro y Alejandro Peña Pretelini: una i...</td>\n",
       "      <td>sofía castro y alejandro peña pretelini: una i...</td>\n",
       "      <td>https://www.caras.com.mx/sofia-castro-alejandr...</td>\n",
       "    </tr>\n",
       "    <tr>\n",
       "      <th>1</th>\n",
       "      <td>6</td>\n",
       "      <td>True</td>\n",
       "      <td>Education</td>\n",
       "      <td>Heraldo</td>\n",
       "      <td>Un paso más cerca de hacer los exámenes 'online'</td>\n",
       "      <td>un paso más cerca de hacer los exámenes 'onlin...</td>\n",
       "      <td>https://www.heraldo.es/noticias/suplementos/he...</td>\n",
       "    </tr>\n",
       "    <tr>\n",
       "      <th>2</th>\n",
       "      <td>141</td>\n",
       "      <td>True</td>\n",
       "      <td>Science</td>\n",
       "      <td>HUFFPOST</td>\n",
       "      <td>Esto es lo que los científicos realmente piens...</td>\n",
       "      <td>esto es lo que los científicos realmente piens...</td>\n",
       "      <td>https://www.huffingtonpost.com/entry/scientist...</td>\n",
       "    </tr>\n",
       "    <tr>\n",
       "      <th>3</th>\n",
       "      <td>394</td>\n",
       "      <td>True</td>\n",
       "      <td>Politics</td>\n",
       "      <td>El financiero</td>\n",
       "      <td>Inicia impresión de boletas para elección pres...</td>\n",
       "      <td>inicia impresión de boletas para elección pres...</td>\n",
       "      <td>http://www.elfinanciero.com.mx/elecciones-2018...</td>\n",
       "    </tr>\n",
       "    <tr>\n",
       "      <th>4</th>\n",
       "      <td>139</td>\n",
       "      <td>True</td>\n",
       "      <td>Sport</td>\n",
       "      <td>FIFA</td>\n",
       "      <td>A *NUMBER* día del Mundial</td>\n",
       "      <td>a *number* día del mundial fifa.com sigue la c...</td>\n",
       "      <td>https://es.fifa.com/worldcup/news/a-1-dia-del-...</td>\n",
       "    </tr>\n",
       "  </tbody>\n",
       "</table>\n",
       "</div>"
      ],
      "text/plain": [
       "    Id Category          Topic         Source  \\\n",
       "0  641     True  Entertainment          Caras   \n",
       "1    6     True      Education        Heraldo   \n",
       "2  141     True        Science       HUFFPOST   \n",
       "3  394     True       Politics  El financiero   \n",
       "4  139     True          Sport           FIFA   \n",
       "\n",
       "                                            Headline  \\\n",
       "0  Sofía Castro y Alejandro Peña Pretelini: una i...   \n",
       "1   Un paso más cerca de hacer los exámenes 'online'   \n",
       "2  Esto es lo que los científicos realmente piens...   \n",
       "3  Inicia impresión de boletas para elección pres...   \n",
       "4                         A *NUMBER* día del Mundial   \n",
       "\n",
       "                                                Text  \\\n",
       "0  sofía castro y alejandro peña pretelini: una i...   \n",
       "1  un paso más cerca de hacer los exámenes 'onlin...   \n",
       "2  esto es lo que los científicos realmente piens...   \n",
       "3  inicia impresión de boletas para elección pres...   \n",
       "4  a *number* día del mundial fifa.com sigue la c...   \n",
       "\n",
       "                                                Link  \n",
       "0  https://www.caras.com.mx/sofia-castro-alejandr...  \n",
       "1  https://www.heraldo.es/noticias/suplementos/he...  \n",
       "2  https://www.huffingtonpost.com/entry/scientist...  \n",
       "3  http://www.elfinanciero.com.mx/elecciones-2018...  \n",
       "4  https://es.fifa.com/worldcup/news/a-1-dia-del-...  "
      ]
     },
     "execution_count": 11,
     "metadata": {},
     "output_type": "execute_result"
    }
   ],
   "source": [
    "def standardize_text(df, text_field):\n",
    "    \n",
    "    df[text_field] = df[text_field].str.replace(r\"http\\S+\", \"\")\n",
    "    df[text_field] = df[text_field].str.replace(r\"http\", \"\")\n",
    "    df[text_field] = df[text_field].str.replace(r\"@\\S+\", \"\")\n",
    "    df[text_field] = df[text_field].str.replace(r\"(?<!\\n)\\n(?!\\n)\", \" \")\n",
    "    df[text_field] = df[text_field].str.lower()\n",
    "    \n",
    "    return df\n",
    "df_cleaned = standardize_text(df, \"Text\")\n",
    "\n",
    "df_cleaned.head()"
   ]
  },
  {
   "cell_type": "code",
   "execution_count": 98,
   "metadata": {},
   "outputs": [],
   "source": [
    "text1 = corpus_cleaned['Text'].iloc[1]"
   ]
  },
  {
   "cell_type": "code",
   "execution_count": 99,
   "metadata": {},
   "outputs": [
    {
     "data": {
      "text/plain": [
       "'un paso más cerca de hacer los exámenes \\'online\\' cerca de *number* universitarios de seis universidades europeas participan este cuatrimestre en la última fase de pruebas de un programa informático que permitirá certificar la identidad y autoría de los estudiantes cuando realizan actividades \\'online\\' como exámenes, trabajos u otras pruebas. el proyecto se encuentra en la tercera y última fase de pruebas piloto, en la que se pone a prueba la versión \"final\" del \\'software\\', que incluye herramientas de reconocimiento facial, de voz y otras que capturan patrones de escritura, detectan plagio y analizan el lenguaje y el estilo de redacción, según sus impulsores. en dicha fase hay una primera prueba en la que están participando *number* estudiantes y en la que la universitat oberta de catalunya (uoc) participa con *number* estudiantes, *number* profesores y *number* docentes; y una segunda prueba en la que participarán entre *number* y *number* estudiantes. \"el balance de las dos pruebas [anteriores] es muy positivo. en la primera examinamos todos los instrumentos de forma aislada, y en la segunda ya se probó la primera versión casi completa del sistema\", explican los responsables del proyecto. la iniciativa, coordinada por la uoc, recibe el nombre de tesla y ha sido impulsada por un consorcio formado por *number* organizaciones, entre universidades, grupos de investigación, empresas y agencias de calidad, bajo el paraguas de la comisión europea, con un presupuesto de *number* millones de euros. además de la universidad española están implicadas en el desarrollo del programa y de las pruebas la open university (ou, reino unido), la open universiteit nederlands (ounl, países bajos), la anadolu university (au, turquía), la university of jyväskylä (jyu, finlandia), la university st. kliment ohridski de sofía (su, bulgaria) y la technical university of sofia (tus, bulgaria). junto con estas, el consorcio de tesla lo completan la university of namur (unamur), de bélgica; el imperial college of london, de reino unido, el instituto mines-télécóm (imt), de francia; los centros de investigación instituto nacional de astrofísica óptica y electrónica(inaoe), de méxico; el idiap research institute foundation suizo, y las agencias de calidad enqa, aqu cataluña y eqanie; además de tres empresas tecnológicas: lplus gmbh (alemania), protos sistemas de información, s. l. (españa) y wfsw sa (watchful), de portugal.'"
      ]
     },
     "execution_count": 99,
     "metadata": {},
     "output_type": "execute_result"
    }
   ],
   "source": [
    "text1"
   ]
  },
  {
   "cell_type": "markdown",
   "metadata": {},
   "source": [
    "## Average words per sentence and nº of sentences"
   ]
  },
  {
   "cell_type": "code",
   "execution_count": 56,
   "metadata": {},
   "outputs": [
    {
     "name": "stdout",
     "output_type": "stream",
     "text": [
      "['cristiano', 'ronaldo', 'acepta', 'dos', 'años', 'prisión', 'luso', 'acuerdo', 'verbal', 'fiscalía', 'madrid', 'tras', 'admitir', 'cuatro', 'delitos', 'fiscales']\n"
     ]
    }
   ],
   "source": [
    "sentence1 = \"¡cristiano ronaldo acepta dos años de prisión! el luso tiene un acuerdo verbal con la fiscalía de madrid tras admitir cuatro delitos fiscales\"\n",
    "tokens = nltk.word_tokenize(sentence)\n",
    "\n",
    "stop_words = stopwords.words('spanish')\n",
    "filtered_tokens = [w for w in tokens if w not in stop_words]\n",
    "print(filtered_tokens)"
   ]
  },
  {
   "cell_type": "code",
   "execution_count": 103,
   "metadata": {},
   "outputs": [
    {
     "name": "stdout",
     "output_type": "stream",
     "text": [
      "The average words per sentence is: 28.000000\n"
     ]
    }
   ],
   "source": [
    "# count number of sentences\n",
    "sent_tokens = nltk.sent_tokenize(text1)\n",
    "number_sentences = len(sent_tokens)\n",
    "\n",
    "# count number of words\n",
    "word_tokens = nltk.word_tokenize(text1) \n",
    "\n",
    "# need to take out commas plus other stuff\n",
    "stop_words = stopwords.words('spanish')\n",
    "stop_words.extend(list(punctuation))\n",
    "stop_words.extend(['¿', '¡', '\"', '``']) \n",
    "stop_words.extend(map(str,range(10)))\n",
    "\n",
    "# number of words\n",
    "filtered_tokens = [i for i in word_tokens if i not in stop_words]\n",
    "number_words = len(filtered_tokens)\n",
    "\n",
    "# average sentence length are words divided by sentences\n",
    "print('The average words per sentence is: %f' %(float(number_words)/number_sentences))"
   ]
  },
  {
   "cell_type": "markdown",
   "metadata": {},
   "source": [
    "## Average size words"
   ]
  },
  {
   "cell_type": "code",
   "execution_count": 104,
   "metadata": {},
   "outputs": [
    {
     "name": "stdout",
     "output_type": "stream",
     "text": [
      "The number of sentences are: 8\n",
      "The average words per sentence is: 28.000000\n",
      "The average word size is: 7\n"
     ]
    }
   ],
   "source": [
    "# count number of sentences\n",
    "sent_tokens = nltk.sent_tokenize(text1)\n",
    "number_sentences = len(sent_tokens)\n",
    "\n",
    "# count number of words\n",
    "word_tokens = nltk.word_tokenize(text1) \n",
    "\n",
    "# need to take out commas plus other stuff\n",
    "stop_words = stopwords.words('spanish')\n",
    "stop_words.extend(list(punctuation))\n",
    "stop_words.extend(['¿', '¡', '\"', '``']) \n",
    "stop_words.extend(map(str,range(10)))\n",
    "\n",
    "# number of words\n",
    "filtered_tokens = [i for i in word_tokens if i not in stop_words]\n",
    "number_words = len(filtered_tokens)\n",
    "\n",
    "# number of characters\n",
    "avg_word_size = sum(len(word) for word in filtered_tokens)/number_words\n",
    "\n",
    "print('The number of sentences are: %d' %(number_sentences))\n",
    "print('The average words per sentence is: %f' %(float(number_words)/number_sentences))\n",
    "print('The average word size is: %d'% (avg_word_size))"
   ]
  },
  {
   "cell_type": "code",
   "execution_count": 12,
   "metadata": {},
   "outputs": [
    {
     "data": {
      "text/html": [
       "<div>\n",
       "<style scoped>\n",
       "    .dataframe tbody tr th:only-of-type {\n",
       "        vertical-align: middle;\n",
       "    }\n",
       "\n",
       "    .dataframe tbody tr th {\n",
       "        vertical-align: top;\n",
       "    }\n",
       "\n",
       "    .dataframe thead th {\n",
       "        text-align: right;\n",
       "    }\n",
       "</style>\n",
       "<table border=\"1\" class=\"dataframe\">\n",
       "  <thead>\n",
       "    <tr style=\"text-align: right;\">\n",
       "      <th></th>\n",
       "      <th>Id</th>\n",
       "      <th>Category</th>\n",
       "      <th>Topic</th>\n",
       "      <th>Source</th>\n",
       "      <th>Headline</th>\n",
       "      <th>Text</th>\n",
       "      <th>Link</th>\n",
       "    </tr>\n",
       "  </thead>\n",
       "  <tbody>\n",
       "    <tr>\n",
       "      <th>0</th>\n",
       "      <td>641</td>\n",
       "      <td>True</td>\n",
       "      <td>Entertainment</td>\n",
       "      <td>Caras</td>\n",
       "      <td>Sofía Castro y Alejandro Peña Pretelini: una i...</td>\n",
       "      <td>sofía castro y alejandro peña pretelini: una i...</td>\n",
       "      <td>https://www.caras.com.mx/sofia-castro-alejandr...</td>\n",
       "    </tr>\n",
       "    <tr>\n",
       "      <th>1</th>\n",
       "      <td>6</td>\n",
       "      <td>True</td>\n",
       "      <td>Education</td>\n",
       "      <td>Heraldo</td>\n",
       "      <td>Un paso más cerca de hacer los exámenes 'online'</td>\n",
       "      <td>un paso más cerca de hacer los exámenes 'onlin...</td>\n",
       "      <td>https://www.heraldo.es/noticias/suplementos/he...</td>\n",
       "    </tr>\n",
       "    <tr>\n",
       "      <th>2</th>\n",
       "      <td>141</td>\n",
       "      <td>True</td>\n",
       "      <td>Science</td>\n",
       "      <td>HUFFPOST</td>\n",
       "      <td>Esto es lo que los científicos realmente piens...</td>\n",
       "      <td>esto es lo que los científicos realmente piens...</td>\n",
       "      <td>https://www.huffingtonpost.com/entry/scientist...</td>\n",
       "    </tr>\n",
       "    <tr>\n",
       "      <th>3</th>\n",
       "      <td>394</td>\n",
       "      <td>True</td>\n",
       "      <td>Politics</td>\n",
       "      <td>El financiero</td>\n",
       "      <td>Inicia impresión de boletas para elección pres...</td>\n",
       "      <td>inicia impresión de boletas para elección pres...</td>\n",
       "      <td>http://www.elfinanciero.com.mx/elecciones-2018...</td>\n",
       "    </tr>\n",
       "    <tr>\n",
       "      <th>4</th>\n",
       "      <td>139</td>\n",
       "      <td>True</td>\n",
       "      <td>Sport</td>\n",
       "      <td>FIFA</td>\n",
       "      <td>A *NUMBER* día del Mundial</td>\n",
       "      <td>a *number* día del mundial fifa.com sigue la c...</td>\n",
       "      <td>https://es.fifa.com/worldcup/news/a-1-dia-del-...</td>\n",
       "    </tr>\n",
       "  </tbody>\n",
       "</table>\n",
       "</div>"
      ],
      "text/plain": [
       "    Id Category          Topic         Source  \\\n",
       "0  641     True  Entertainment          Caras   \n",
       "1    6     True      Education        Heraldo   \n",
       "2  141     True        Science       HUFFPOST   \n",
       "3  394     True       Politics  El financiero   \n",
       "4  139     True          Sport           FIFA   \n",
       "\n",
       "                                            Headline  \\\n",
       "0  Sofía Castro y Alejandro Peña Pretelini: una i...   \n",
       "1   Un paso más cerca de hacer los exámenes 'online'   \n",
       "2  Esto es lo que los científicos realmente piens...   \n",
       "3  Inicia impresión de boletas para elección pres...   \n",
       "4                         A *NUMBER* día del Mundial   \n",
       "\n",
       "                                                Text  \\\n",
       "0  sofía castro y alejandro peña pretelini: una i...   \n",
       "1  un paso más cerca de hacer los exámenes 'onlin...   \n",
       "2  esto es lo que los científicos realmente piens...   \n",
       "3  inicia impresión de boletas para elección pres...   \n",
       "4  a *number* día del mundial fifa.com sigue la c...   \n",
       "\n",
       "                                                Link  \n",
       "0  https://www.caras.com.mx/sofia-castro-alejandr...  \n",
       "1  https://www.heraldo.es/noticias/suplementos/he...  \n",
       "2  https://www.huffingtonpost.com/entry/scientist...  \n",
       "3  http://www.elfinanciero.com.mx/elecciones-2018...  \n",
       "4  https://es.fifa.com/worldcup/news/a-1-dia-del-...  "
      ]
     },
     "execution_count": 12,
     "metadata": {},
     "output_type": "execute_result"
    }
   ],
   "source": [
    "def standardize_text(df, text_field):\n",
    "    \n",
    "    df[text_field] = df[text_field].str.replace(r\"http\\S+\", \"\")\n",
    "    df[text_field] = df[text_field].str.replace(r\"http\", \"\")\n",
    "    df[text_field] = df[text_field].str.replace(r\"@\\S+\", \"\")\n",
    "    df[text_field] = df[text_field].str.replace(r\"(?<!\\n)\\n(?!\\n)\", \" \")\n",
    "    df[text_field] = df[text_field].str.lower()\n",
    "    \n",
    "    return df"
   ]
  },
  {
   "cell_type": "code",
   "execution_count": 13,
   "metadata": {},
   "outputs": [],
   "source": [
    "df_cleaned = standardize_text(df, \"Text\")"
   ]
  },
  {
   "cell_type": "code",
   "execution_count": 17,
   "metadata": {},
   "outputs": [
    {
     "data": {
      "text/html": [
       "<div>\n",
       "<style scoped>\n",
       "    .dataframe tbody tr th:only-of-type {\n",
       "        vertical-align: middle;\n",
       "    }\n",
       "\n",
       "    .dataframe tbody tr th {\n",
       "        vertical-align: top;\n",
       "    }\n",
       "\n",
       "    .dataframe thead th {\n",
       "        text-align: right;\n",
       "    }\n",
       "</style>\n",
       "<table border=\"1\" class=\"dataframe\">\n",
       "  <thead>\n",
       "    <tr style=\"text-align: right;\">\n",
       "      <th></th>\n",
       "      <th>Id</th>\n",
       "      <th>Category</th>\n",
       "      <th>Topic</th>\n",
       "      <th>Source</th>\n",
       "      <th>Headline</th>\n",
       "      <th>Text</th>\n",
       "      <th>Link</th>\n",
       "      <th>sentences</th>\n",
       "      <th>avg_words_sent</th>\n",
       "      <th>avg_word_size</th>\n",
       "    </tr>\n",
       "  </thead>\n",
       "  <tbody>\n",
       "    <tr>\n",
       "      <th>0</th>\n",
       "      <td>641</td>\n",
       "      <td>True</td>\n",
       "      <td>Entertainment</td>\n",
       "      <td>Caras</td>\n",
       "      <td>Sofía Castro y Alejandro Peña Pretelini: una i...</td>\n",
       "      <td>sofía castro y alejandro peña pretelini: una i...</td>\n",
       "      <td>https://www.caras.com.mx/sofia-castro-alejandr...</td>\n",
       "      <td>5</td>\n",
       "      <td>24.600000</td>\n",
       "      <td>6.398374</td>\n",
       "    </tr>\n",
       "    <tr>\n",
       "      <th>1</th>\n",
       "      <td>6</td>\n",
       "      <td>True</td>\n",
       "      <td>Education</td>\n",
       "      <td>Heraldo</td>\n",
       "      <td>Un paso más cerca de hacer los exámenes 'online'</td>\n",
       "      <td>un paso más cerca de hacer los exámenes 'onlin...</td>\n",
       "      <td>https://www.heraldo.es/noticias/suplementos/he...</td>\n",
       "      <td>8</td>\n",
       "      <td>28.000000</td>\n",
       "      <td>7.200893</td>\n",
       "    </tr>\n",
       "    <tr>\n",
       "      <th>2</th>\n",
       "      <td>141</td>\n",
       "      <td>True</td>\n",
       "      <td>Science</td>\n",
       "      <td>HUFFPOST</td>\n",
       "      <td>Esto es lo que los científicos realmente piens...</td>\n",
       "      <td>esto es lo que los científicos realmente piens...</td>\n",
       "      <td>https://www.huffingtonpost.com/entry/scientist...</td>\n",
       "      <td>29</td>\n",
       "      <td>16.103448</td>\n",
       "      <td>7.571734</td>\n",
       "    </tr>\n",
       "    <tr>\n",
       "      <th>3</th>\n",
       "      <td>394</td>\n",
       "      <td>True</td>\n",
       "      <td>Politics</td>\n",
       "      <td>El financiero</td>\n",
       "      <td>Inicia impresión de boletas para elección pres...</td>\n",
       "      <td>inicia impresión de boletas para elección pres...</td>\n",
       "      <td>http://www.elfinanciero.com.mx/elecciones-2018...</td>\n",
       "      <td>10</td>\n",
       "      <td>16.700000</td>\n",
       "      <td>7.964072</td>\n",
       "    </tr>\n",
       "    <tr>\n",
       "      <th>4</th>\n",
       "      <td>139</td>\n",
       "      <td>True</td>\n",
       "      <td>Sport</td>\n",
       "      <td>FIFA</td>\n",
       "      <td>A *NUMBER* día del Mundial</td>\n",
       "      <td>a *number* día del mundial fifa.com sigue la c...</td>\n",
       "      <td>https://es.fifa.com/worldcup/news/a-1-dia-del-...</td>\n",
       "      <td>4</td>\n",
       "      <td>14.250000</td>\n",
       "      <td>7.368421</td>\n",
       "    </tr>\n",
       "  </tbody>\n",
       "</table>\n",
       "</div>"
      ],
      "text/plain": [
       "    Id Category          Topic         Source  \\\n",
       "0  641     True  Entertainment          Caras   \n",
       "1    6     True      Education        Heraldo   \n",
       "2  141     True        Science       HUFFPOST   \n",
       "3  394     True       Politics  El financiero   \n",
       "4  139     True          Sport           FIFA   \n",
       "\n",
       "                                            Headline  \\\n",
       "0  Sofía Castro y Alejandro Peña Pretelini: una i...   \n",
       "1   Un paso más cerca de hacer los exámenes 'online'   \n",
       "2  Esto es lo que los científicos realmente piens...   \n",
       "3  Inicia impresión de boletas para elección pres...   \n",
       "4                         A *NUMBER* día del Mundial   \n",
       "\n",
       "                                                Text  \\\n",
       "0  sofía castro y alejandro peña pretelini: una i...   \n",
       "1  un paso más cerca de hacer los exámenes 'onlin...   \n",
       "2  esto es lo que los científicos realmente piens...   \n",
       "3  inicia impresión de boletas para elección pres...   \n",
       "4  a *number* día del mundial fifa.com sigue la c...   \n",
       "\n",
       "                                                Link  sentences  \\\n",
       "0  https://www.caras.com.mx/sofia-castro-alejandr...          5   \n",
       "1  https://www.heraldo.es/noticias/suplementos/he...          8   \n",
       "2  https://www.huffingtonpost.com/entry/scientist...         29   \n",
       "3  http://www.elfinanciero.com.mx/elecciones-2018...         10   \n",
       "4  https://es.fifa.com/worldcup/news/a-1-dia-del-...          4   \n",
       "\n",
       "   avg_words_sent  avg_word_size  \n",
       "0       24.600000       6.398374  \n",
       "1       28.000000       7.200893  \n",
       "2       16.103448       7.571734  \n",
       "3       16.700000       7.964072  \n",
       "4       14.250000       7.368421  "
      ]
     },
     "execution_count": 17,
     "metadata": {},
     "output_type": "execute_result"
    }
   ],
   "source": [
    "df = pd.read_csv('~/TFM_fake_news_detector/data/corpus_spanish.csv')\n",
    "\n",
    "df_cleaned = standardize_text(df, \"Text\")\n",
    "\n",
    "n_sentences = []\n",
    "avg_words_sent = []\n",
    "avg_word_size = []\n",
    "\n",
    "for i, row in df_cleaned.iterrows():\n",
    "    text = df['Text'].iloc[i]\n",
    "    \n",
    "    sent_tokens = nltk.sent_tokenize(text)\n",
    "    number_sentences = len(sent_tokens)\n",
    "    \n",
    "    word_tokens = nltk.word_tokenize(text)\n",
    "    \n",
    "    stop_words = stopwords.words('spanish')\n",
    "    stop_words.extend(list(punctuation))\n",
    "    stop_words.extend(['¿', '¡', '\"', '``']) \n",
    "    stop_words.extend(map(str,range(10)))\n",
    "    \n",
    "    filtered_tokens = [i for i in word_tokens if i not in stop_words]\n",
    "    number_words = len(filtered_tokens)\n",
    "    \n",
    "    avg_word_sentences = (float(number_words)/number_sentences)\n",
    "    word_size = sum(len(word) for word in filtered_tokens) / number_words\n",
    "    \n",
    "    n_sentences.append(number_sentences)\n",
    "    avg_words_sent.append(avg_word_sentences)\n",
    "    avg_word_size.append(word_size)\n",
    "    \n",
    "df_cleaned['sentences'] = n_sentences\n",
    "df_cleaned['avg_words_sent'] = avg_words_sent\n",
    "df_cleaned['avg_word_size'] = avg_word_size\n",
    "\n",
    "df_features = df_cleaned\n",
    "\n",
    "df_features.head()"
   ]
  },
  {
   "cell_type": "code",
   "execution_count": 18,
   "metadata": {},
   "outputs": [],
   "source": [
    "df_features.to_csv('~/TFM_fake_news_detector/data/corpus_features.csv')"
   ]
  }
 ],
 "metadata": {
  "kernelspec": {
   "display_name": "Python 3",
   "language": "python",
   "name": "python3"
  },
  "language_info": {
   "codemirror_mode": {
    "name": "ipython",
    "version": 3
   },
   "file_extension": ".py",
   "mimetype": "text/x-python",
   "name": "python",
   "nbconvert_exporter": "python",
   "pygments_lexer": "ipython3",
   "version": "3.6.8"
  }
 },
 "nbformat": 4,
 "nbformat_minor": 2
}
