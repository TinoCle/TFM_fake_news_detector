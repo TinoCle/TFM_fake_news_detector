{
 "cells": [
  {
   "cell_type": "markdown",
   "metadata": {},
   "source": [
    "# Feature extraction\n",
    "\n",
    "This is the final notebook explaining the methodology for text feature extraction. We will explain each of the different features extracted and then we will explain the process and methodology to extract all the features and create a new dataset.\n",
    "\n",
    "## Index\n",
    "\n",
    "- 1. Features\n",
    "\n",
    " - 1.1. Complexity features\n",
    " - 1.2. Stylometric features\n",
    "\n",
    "\n",
    "- 2. Requisites\n",
    "\n",
    "\n",
    "- 3. Feature extraction for training\n",
    "\n",
    "\n",
    "- 4. Feature extraction for predictions"
   ]
  },
  {
   "cell_type": "markdown",
   "metadata": {},
   "source": [
    "## 1. Feature explanation\n",
    "\n",
    "On this section we will explain the features that we are going to extract from the News Headline and News Content text. These features are language-independent, for example, they do not consider specific terms from a language, in this case spanish.\n",
    "\n",
    "Our objective is to extract features based on high-level structures. To accomplish this objective, we are going to extract features from 2 categories: Complexity and Stylistic"
   ]
  },
  {
   "cell_type": "markdown",
   "metadata": {},
   "source": [
    "### 1.1. Complexity features"
   ]
  }
 ],
 "metadata": {
  "kernelspec": {
   "display_name": "Python 3",
   "language": "python",
   "name": "python3"
  },
  "language_info": {
   "codemirror_mode": {
    "name": "ipython",
    "version": 3
   },
   "file_extension": ".py",
   "mimetype": "text/x-python",
   "name": "python",
   "nbconvert_exporter": "python",
   "pygments_lexer": "ipython3",
   "version": "3.6.9"
  }
 },
 "nbformat": 4,
 "nbformat_minor": 4
}
